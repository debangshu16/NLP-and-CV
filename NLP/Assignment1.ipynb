{
  "nbformat": 4,
  "nbformat_minor": 0,
  "metadata": {
    "colab": {
      "name": "Assignment1.ipynb",
      "provenance": [],
      "collapsed_sections": []
    },
    "kernelspec": {
      "name": "python3",
      "display_name": "Python 3"
    }
  },
  "cells": [
    {
      "cell_type": "markdown",
      "metadata": {
        "id": "05DKV0SZO7E0"
      },
      "source": [
        "**Name: Debangshu Bhattacharya**\n",
        "\n",
        "**Roll: MDS201910**"
      ]
    },
    {
      "cell_type": "code",
      "metadata": {
        "id": "UycZmnsRQy9R"
      },
      "source": [
        "#importing necessary libraries\n",
        "import os\n",
        "import json\n",
        "import numpy as np\n",
        "import re\n",
        "from tqdm import tqdm\n",
        "import matplotlib.pyplot as plt\n",
        "import gc\n",
        "import time\n",
        "import pandas as pd"
      ],
      "execution_count": null,
      "outputs": []
    },
    {
      "cell_type": "code",
      "metadata": {
        "colab": {
          "base_uri": "https://localhost:8080/"
        },
        "id": "MqxCaDAGW9QV",
        "outputId": "6759b82d-164c-4cca-8396-b5f3227626d4"
      },
      "source": [
        "#importing nltk library which is going to help with sentence and word tokenization\n",
        "import nltk\n",
        "nltk.download('punkt')\n",
        "from nltk.tokenize import sent_tokenize, word_tokenize"
      ],
      "execution_count": null,
      "outputs": [
        {
          "output_type": "stream",
          "text": [
            "[nltk_data] Downloading package punkt to /root/nltk_data...\n",
            "[nltk_data]   Package punkt is already up-to-date!\n"
          ],
          "name": "stdout"
        }
      ]
    },
    {
      "cell_type": "code",
      "metadata": {
        "colab": {
          "base_uri": "https://localhost:8080/"
        },
        "id": "xGG2_J7taG_0",
        "outputId": "7118641c-774a-4549-903c-abcc9ddccfab"
      },
      "source": [
        "#The library langdetect helps in detecting the language of a given text\n",
        "!pip install langdetect\n",
        "from langdetect import detect"
      ],
      "execution_count": null,
      "outputs": [
        {
          "output_type": "stream",
          "text": [
            "Collecting langdetect\n",
            "\u001b[?25l  Downloading https://files.pythonhosted.org/packages/56/a3/8407c1e62d5980188b4acc45ef3d94b933d14a2ebc9ef3505f22cf772570/langdetect-1.0.8.tar.gz (981kB)\n",
            "\r\u001b[K     |▍                               | 10kB 15.8MB/s eta 0:00:01\r\u001b[K     |▊                               | 20kB 20.1MB/s eta 0:00:01\r\u001b[K     |█                               | 30kB 8.1MB/s eta 0:00:01\r\u001b[K     |█▍                              | 40kB 6.6MB/s eta 0:00:01\r\u001b[K     |█▊                              | 51kB 7.9MB/s eta 0:00:01\r\u001b[K     |██                              | 61kB 7.2MB/s eta 0:00:01\r\u001b[K     |██▍                             | 71kB 8.1MB/s eta 0:00:01\r\u001b[K     |██▊                             | 81kB 8.6MB/s eta 0:00:01\r\u001b[K     |███                             | 92kB 8.7MB/s eta 0:00:01\r\u001b[K     |███▍                            | 102kB 7.9MB/s eta 0:00:01\r\u001b[K     |███▊                            | 112kB 7.9MB/s eta 0:00:01\r\u001b[K     |████                            | 122kB 7.9MB/s eta 0:00:01\r\u001b[K     |████▍                           | 133kB 7.9MB/s eta 0:00:01\r\u001b[K     |████▊                           | 143kB 7.9MB/s eta 0:00:01\r\u001b[K     |█████                           | 153kB 7.9MB/s eta 0:00:01\r\u001b[K     |█████▍                          | 163kB 7.9MB/s eta 0:00:01\r\u001b[K     |█████▊                          | 174kB 7.9MB/s eta 0:00:01\r\u001b[K     |██████                          | 184kB 7.9MB/s eta 0:00:01\r\u001b[K     |██████▍                         | 194kB 7.9MB/s eta 0:00:01\r\u001b[K     |██████▊                         | 204kB 7.9MB/s eta 0:00:01\r\u001b[K     |███████                         | 215kB 7.9MB/s eta 0:00:01\r\u001b[K     |███████▍                        | 225kB 7.9MB/s eta 0:00:01\r\u001b[K     |███████▊                        | 235kB 7.9MB/s eta 0:00:01\r\u001b[K     |████████                        | 245kB 7.9MB/s eta 0:00:01\r\u001b[K     |████████▍                       | 256kB 7.9MB/s eta 0:00:01\r\u001b[K     |████████▊                       | 266kB 7.9MB/s eta 0:00:01\r\u001b[K     |█████████                       | 276kB 7.9MB/s eta 0:00:01\r\u001b[K     |█████████▍                      | 286kB 7.9MB/s eta 0:00:01\r\u001b[K     |█████████▊                      | 296kB 7.9MB/s eta 0:00:01\r\u001b[K     |██████████                      | 307kB 7.9MB/s eta 0:00:01\r\u001b[K     |██████████▍                     | 317kB 7.9MB/s eta 0:00:01\r\u001b[K     |██████████▊                     | 327kB 7.9MB/s eta 0:00:01\r\u001b[K     |███████████                     | 337kB 7.9MB/s eta 0:00:01\r\u001b[K     |███████████▍                    | 348kB 7.9MB/s eta 0:00:01\r\u001b[K     |███████████▊                    | 358kB 7.9MB/s eta 0:00:01\r\u001b[K     |████████████                    | 368kB 7.9MB/s eta 0:00:01\r\u001b[K     |████████████▍                   | 378kB 7.9MB/s eta 0:00:01\r\u001b[K     |████████████▊                   | 389kB 7.9MB/s eta 0:00:01\r\u001b[K     |█████████████                   | 399kB 7.9MB/s eta 0:00:01\r\u001b[K     |█████████████▍                  | 409kB 7.9MB/s eta 0:00:01\r\u001b[K     |█████████████▊                  | 419kB 7.9MB/s eta 0:00:01\r\u001b[K     |██████████████                  | 430kB 7.9MB/s eta 0:00:01\r\u001b[K     |██████████████▍                 | 440kB 7.9MB/s eta 0:00:01\r\u001b[K     |██████████████▊                 | 450kB 7.9MB/s eta 0:00:01\r\u001b[K     |███████████████                 | 460kB 7.9MB/s eta 0:00:01\r\u001b[K     |███████████████▍                | 471kB 7.9MB/s eta 0:00:01\r\u001b[K     |███████████████▊                | 481kB 7.9MB/s eta 0:00:01\r\u001b[K     |████████████████                | 491kB 7.9MB/s eta 0:00:01\r\u001b[K     |████████████████▍               | 501kB 7.9MB/s eta 0:00:01\r\u001b[K     |████████████████▊               | 512kB 7.9MB/s eta 0:00:01\r\u001b[K     |█████████████████               | 522kB 7.9MB/s eta 0:00:01\r\u001b[K     |█████████████████▍              | 532kB 7.9MB/s eta 0:00:01\r\u001b[K     |█████████████████▊              | 542kB 7.9MB/s eta 0:00:01\r\u001b[K     |██████████████████              | 552kB 7.9MB/s eta 0:00:01\r\u001b[K     |██████████████████▍             | 563kB 7.9MB/s eta 0:00:01\r\u001b[K     |██████████████████▊             | 573kB 7.9MB/s eta 0:00:01\r\u001b[K     |███████████████████             | 583kB 7.9MB/s eta 0:00:01\r\u001b[K     |███████████████████▍            | 593kB 7.9MB/s eta 0:00:01\r\u001b[K     |███████████████████▊            | 604kB 7.9MB/s eta 0:00:01\r\u001b[K     |████████████████████            | 614kB 7.9MB/s eta 0:00:01\r\u001b[K     |████████████████████▍           | 624kB 7.9MB/s eta 0:00:01\r\u001b[K     |████████████████████▊           | 634kB 7.9MB/s eta 0:00:01\r\u001b[K     |█████████████████████           | 645kB 7.9MB/s eta 0:00:01\r\u001b[K     |█████████████████████▍          | 655kB 7.9MB/s eta 0:00:01\r\u001b[K     |█████████████████████▊          | 665kB 7.9MB/s eta 0:00:01\r\u001b[K     |██████████████████████          | 675kB 7.9MB/s eta 0:00:01\r\u001b[K     |██████████████████████▍         | 686kB 7.9MB/s eta 0:00:01\r\u001b[K     |██████████████████████▊         | 696kB 7.9MB/s eta 0:00:01\r\u001b[K     |███████████████████████         | 706kB 7.9MB/s eta 0:00:01\r\u001b[K     |███████████████████████▍        | 716kB 7.9MB/s eta 0:00:01\r\u001b[K     |███████████████████████▊        | 727kB 7.9MB/s eta 0:00:01\r\u001b[K     |████████████████████████        | 737kB 7.9MB/s eta 0:00:01\r\u001b[K     |████████████████████████▍       | 747kB 7.9MB/s eta 0:00:01\r\u001b[K     |████████████████████████▊       | 757kB 7.9MB/s eta 0:00:01\r\u001b[K     |█████████████████████████       | 768kB 7.9MB/s eta 0:00:01\r\u001b[K     |█████████████████████████▍      | 778kB 7.9MB/s eta 0:00:01\r\u001b[K     |█████████████████████████▊      | 788kB 7.9MB/s eta 0:00:01\r\u001b[K     |██████████████████████████      | 798kB 7.9MB/s eta 0:00:01\r\u001b[K     |██████████████████████████▍     | 808kB 7.9MB/s eta 0:00:01\r\u001b[K     |██████████████████████████▊     | 819kB 7.9MB/s eta 0:00:01\r\u001b[K     |███████████████████████████     | 829kB 7.9MB/s eta 0:00:01\r\u001b[K     |███████████████████████████▍    | 839kB 7.9MB/s eta 0:00:01\r\u001b[K     |███████████████████████████▊    | 849kB 7.9MB/s eta 0:00:01\r\u001b[K     |████████████████████████████    | 860kB 7.9MB/s eta 0:00:01\r\u001b[K     |████████████████████████████▍   | 870kB 7.9MB/s eta 0:00:01\r\u001b[K     |████████████████████████████▊   | 880kB 7.9MB/s eta 0:00:01\r\u001b[K     |█████████████████████████████   | 890kB 7.9MB/s eta 0:00:01\r\u001b[K     |█████████████████████████████▍  | 901kB 7.9MB/s eta 0:00:01\r\u001b[K     |█████████████████████████████▊  | 911kB 7.9MB/s eta 0:00:01\r\u001b[K     |██████████████████████████████  | 921kB 7.9MB/s eta 0:00:01\r\u001b[K     |██████████████████████████████▍ | 931kB 7.9MB/s eta 0:00:01\r\u001b[K     |██████████████████████████████▊ | 942kB 7.9MB/s eta 0:00:01\r\u001b[K     |███████████████████████████████ | 952kB 7.9MB/s eta 0:00:01\r\u001b[K     |███████████████████████████████▍| 962kB 7.9MB/s eta 0:00:01\r\u001b[K     |███████████████████████████████▊| 972kB 7.9MB/s eta 0:00:01\r\u001b[K     |████████████████████████████████| 983kB 7.9MB/s \n",
            "\u001b[?25hRequirement already satisfied: six in /usr/local/lib/python3.6/dist-packages (from langdetect) (1.15.0)\n",
            "Building wheels for collected packages: langdetect\n",
            "  Building wheel for langdetect (setup.py) ... \u001b[?25l\u001b[?25hdone\n",
            "  Created wheel for langdetect: filename=langdetect-1.0.8-cp36-none-any.whl size=993194 sha256=0f93f697b1a09b78878867f34566010ab9387b963f265623491fd88bdbdbdd0c\n",
            "  Stored in directory: /root/.cache/pip/wheels/8d/b3/aa/6d99de9f3841d7d3d40a60ea06e6d669e8e5012e6c8b947a57\n",
            "Successfully built langdetect\n",
            "Installing collected packages: langdetect\n",
            "Successfully installed langdetect-1.0.8\n"
          ],
          "name": "stdout"
        }
      ]
    },
    {
      "cell_type": "code",
      "metadata": {
        "colab": {
          "base_uri": "https://localhost:8080/"
        },
        "id": "bIt10A9oQ2mP",
        "outputId": "0d21b912-23f3-4b05-a17d-143d1e665e3b"
      },
      "source": [
        "from google.colab import drive\n",
        "drive.mount('/gdrive')\n",
        "%cd /gdrive"
      ],
      "execution_count": null,
      "outputs": [
        {
          "output_type": "stream",
          "text": [
            "Mounted at /gdrive\n",
            "/gdrive\n"
          ],
          "name": "stdout"
        }
      ]
    },
    {
      "cell_type": "markdown",
      "metadata": {
        "id": "zlVVMk1VPvJX"
      },
      "source": [
        "### 1) Extracting text content from JSON encoded data and creating a text corpus"
      ]
    },
    {
      "cell_type": "code",
      "metadata": {
        "colab": {
          "base_uri": "https://localhost:8080/"
        },
        "id": "LAGAHG6TQ90_",
        "outputId": "5997e7e5-27be-4774-a325-794f19b788dd"
      },
      "source": [
        "wd = os.path.join('My Drive/NLP/')\n",
        "raw_data_dir = os.path.join(wd,'pdf_json')\n",
        "files = os.listdir(raw_data_dir)\n",
        "\n",
        "N = len(files)\n",
        "print (\"There are %d files in our covid dataset\" %(N))"
      ],
      "execution_count": null,
      "outputs": [
        {
          "output_type": "stream",
          "text": [
            "There are 56628 files in our covid dataset\n"
          ],
          "name": "stdout"
        }
      ]
    },
    {
      "cell_type": "code",
      "metadata": {
        "id": "rp_yddq5UDGg"
      },
      "source": [
        "# Helper code to extract text from a json file (same as the one provided)\n",
        "def extract_text(filepath,output_as_list=False):\n",
        "    '''\n",
        "    Extract the text from the file path and\n",
        "    index the content from paper_id, title, abstract and body_text fields\n",
        "    Retuns - if output_as_list = True\n",
        "                list of all the above values,\n",
        "             else\n",
        "                text of title, abstract and bodt_text\n",
        "    '''\n",
        "\n",
        "    file = open(filepath)\n",
        "    body_text = \"\"\n",
        "    abstract = \"\"\n",
        "    title = \"\"\n",
        "    paper_id = \"\"\n",
        "\n",
        "    paper_content = json.load(file)\n",
        "\n",
        "    #get the paper_id\n",
        "    if 'paper_id' in paper_content:\n",
        "        paper_id = paper_content['paper_id']\n",
        "    #get the title, if available\n",
        "    if 'title' in paper_content['metadata']:\n",
        "        title = paper_content['metadata']['title']\n",
        "    #get abstract.text, if available\n",
        "    if 'abstract' in paper_content:\n",
        "        for abs in paper_content['abstract']:\n",
        "            abstract = abstract + abs['text']\n",
        "    if 'body_text' in paper_content:\n",
        "        for bt in paper_content['body_text']:\n",
        "            body_text = body_text + bt['text']\n",
        "\n",
        "    file.close()\n",
        "    \n",
        "    if output_as_list:\n",
        "            return [paper_id,title.lower(),abstract.lower(),body_text.lower()]\n",
        "    else:\n",
        "        return (title + ' ' + abstract + ' ' + body_text + ' ').lower()"
      ],
      "execution_count": null,
      "outputs": []
    },
    {
      "cell_type": "code",
      "metadata": {
        "id": "iidAt-uYRQzH"
      },
      "source": [
        "#Reading a random file to test the extract text code for a random file\n",
        "file_ind = np.random.randint(0, len(files))\n",
        "f = files[file_ind]\n",
        "\n",
        "filepath = os.path.join(raw_data_dir, f)\n",
        "text = extract_text(filepath)"
      ],
      "execution_count": null,
      "outputs": []
    },
    {
      "cell_type": "markdown",
      "metadata": {
        "id": "H6OJ_5ohQCdb"
      },
      "source": [
        "For each json file, I am extracting the text and adding to the corpus file. Since, separate documents are being separated by a \"\\n\" character, I am additionally checking if \"\\n\" character is present in the text document itself. Turns out no additional such \"\\n\" were present in the document but if it was the code would have preprocessed the text by removing the \"\\n\" character here itself before adding to the corpus."
      ]
    },
    {
      "cell_type": "code",
      "metadata": {
        "id": "sjVMh99VTVqL"
      },
      "source": [
        "#Creating the corpus of text from the documents where each line contains the text of a particular document\n",
        "def hasNewLine(text):\n",
        "  #function to check if a text contains a newline character\n",
        "  return (not re.search('\\n',text)==None)\n",
        "\n",
        "def create_corpus(files):\n",
        "  #function to create a text corpus for a given set of files as input. In the text corpus, each document will be represented as a text in each line. \n",
        "  n = len(files)\n",
        "  corpus = ''\n",
        "\n",
        "  for i, f in tqdm(enumerate(files)):\n",
        "    filepath = os.path.join(raw_data_dir,f)\n",
        "    text = extract_text(filepath)\n",
        "\n",
        "    #search if '\\n' is present in the text extracted from document. If newline is present we remove newline as newline should be the separator between two documents in our corpus\n",
        "    t = (re.search('\\n',text))==None\n",
        "    if not t:\n",
        "      print (\"Document %d with filename %s has a newline in its text which is preprocessed before creation of corpus\" %(i, f))\n",
        "      text = re.sub('\\n','',text)\n",
        "\n",
        "    if i==n-1: #for last document, we do not add a newline after adding that text to corpus else after adding a document text to corpus we add a new line as separator\n",
        "      corpus = corpus + text\n",
        "    else:\n",
        "      corpus = corpus + text + '\\n'\n",
        "\n",
        "  return corpus"
      ],
      "execution_count": null,
      "outputs": []
    },
    {
      "cell_type": "markdown",
      "metadata": {
        "id": "2ZHNfF8MQl4r"
      },
      "source": [
        "To have an idea about how much time it would require to extract the text from JSON files of the whole corpus, I ran the code to extract first 100 documents and it took 65 seconds. To extract the whole corpus which contains 56628 documents it would require about 10 hours if it extracted in the same speed. Also, due to poor internet connection, it could get disconnected anytime and so I extracted the documents in batches of size 10000. After extracting 6 batches, I merged them all together to get the required corpus."
      ]
    },
    {
      "cell_type": "code",
      "metadata": {
        "id": "QiGWj-1UUV-t"
      },
      "source": [
        "def create_corpus_batch(files, batch_start,batch_size,N):\n",
        "  #function to return a text corpus for a batch where the batch size and the document index with which the batch is starting is passed as arguments to the function\n",
        "  batch_end = batch_start + batch_size\n",
        "  if batch_end > N:\n",
        "    batch_end = N\n",
        "  \n",
        "  batch_files = files[batch_start:batch_end]\n",
        "  corpus_batch = create_corpus(batch_files)\n",
        "  return corpus_batch"
      ],
      "execution_count": null,
      "outputs": []
    },
    {
      "cell_type": "code",
      "metadata": {
        "colab": {
          "base_uri": "https://localhost:8080/"
        },
        "id": "XeGTvjvyY4ap",
        "outputId": "7aba200b-54d0-4013-d2ff-4c4c9c906cfa"
      },
      "source": [
        "batch_size = 10000\n",
        "current_start_ind = 0\n",
        "\n",
        "corpus_batch1 = create_corpus_batch(files, batch_start = 0, batch_size = batch_size, N= N)"
      ],
      "execution_count": null,
      "outputs": [
        {
          "output_type": "stream",
          "text": [
            "10000it [2:05:48,  1.32it/s]\n"
          ],
          "name": "stderr"
        }
      ]
    },
    {
      "cell_type": "code",
      "metadata": {
        "colab": {
          "base_uri": "https://localhost:8080/"
        },
        "id": "qzmQu4mN-JF4",
        "outputId": "0b826e54-94b3-4920-a6d7-7d8f655f2119"
      },
      "source": [
        "len(corpus_batch1.split('\\n'))"
      ],
      "execution_count": null,
      "outputs": [
        {
          "output_type": "execute_result",
          "data": {
            "text/plain": [
              "10000"
            ]
          },
          "metadata": {
            "tags": []
          },
          "execution_count": 59
        }
      ]
    },
    {
      "cell_type": "code",
      "metadata": {
        "id": "muWEOOWqcJAj"
      },
      "source": [
        "batch1 = os.path.join(wd, 'corpus_batch1.txt')\n",
        "with open(batch1, 'w') as f:\n",
        "  f.write(corpus_batch1)\n"
      ],
      "execution_count": null,
      "outputs": []
    },
    {
      "cell_type": "code",
      "metadata": {
        "colab": {
          "base_uri": "https://localhost:8080/"
        },
        "id": "FFFeuC-n-UAe",
        "outputId": "d1fb4c6c-ebcc-4cf8-a6da-e800d9e77701"
      },
      "source": [
        "current_start_ind = 10000\n",
        "corpus_batch2 = create_corpus_batch(files, batch_start = current_start_ind, batch_size = batch_size, N= N)\n",
        "\n",
        "batch2 = os.path.join(wd, 'corpus_batch2.txt')\n",
        "with open(batch2, 'w') as f:\n",
        "  f.write(corpus_batch2)\n"
      ],
      "execution_count": null,
      "outputs": [
        {
          "output_type": "stream",
          "text": [
            "10000it [2:03:09,  1.35it/s]\n"
          ],
          "name": "stderr"
        }
      ]
    },
    {
      "cell_type": "code",
      "metadata": {
        "colab": {
          "base_uri": "https://localhost:8080/"
        },
        "id": "w1hpbcyhdcvB",
        "outputId": "145b3b3d-925e-4bf7-f4b2-c518e6b399c6"
      },
      "source": [
        "current_start_ind = current_start_ind + batch_size\n",
        "corpus_batch3 = create_corpus_batch(files, batch_start = current_start_ind, batch_size = batch_size, N= N)\n",
        "\n",
        "batch3 = os.path.join(wd, 'corpus_batch3.txt')\n",
        "with open(batch3, 'w') as f:\n",
        "  f.write(corpus_batch3)\n"
      ],
      "execution_count": null,
      "outputs": [
        {
          "output_type": "stream",
          "text": [
            "10000it [2:02:15,  1.36it/s]\n"
          ],
          "name": "stderr"
        }
      ]
    },
    {
      "cell_type": "code",
      "metadata": {
        "id": "Z7mSTvrz6tzp",
        "colab": {
          "base_uri": "https://localhost:8080/"
        },
        "outputId": "4720a7e0-7b20-4411-e70c-72c2ecdcb5d3"
      },
      "source": [
        "current_start_ind = 30000\n",
        "batch_size = 10000\n",
        "\n",
        "corpus_batch4 = create_corpus_batch(files, batch_start = current_start_ind, batch_size = batch_size, N= N)\n",
        "\n",
        "batch4 = os.path.join(wd, 'corpus_batch4.txt')\n",
        "with open(batch4, 'w') as f:\n",
        "  f.write(corpus_batch4)\n"
      ],
      "execution_count": null,
      "outputs": [
        {
          "output_type": "stream",
          "text": [
            "10000it [16:17, 10.23it/s]\n"
          ],
          "name": "stderr"
        }
      ]
    },
    {
      "cell_type": "code",
      "metadata": {
        "colab": {
          "base_uri": "https://localhost:8080/"
        },
        "id": "wzqgp90cd4Nl",
        "outputId": "e210514d-27c5-4a90-94ee-44fd2f438a00"
      },
      "source": [
        "current_start_ind = 40000\n",
        "batch_size = 10000\n",
        "\n",
        "corpus_batch5 = create_corpus_batch(files, batch_start = current_start_ind, batch_size = batch_size, N= N)\n",
        "\n",
        "batch5 = os.path.join(wd, 'corpus_batch5.txt')\n",
        "with open(batch5, 'w') as f:\n",
        "  f.write(corpus_batch5)"
      ],
      "execution_count": null,
      "outputs": [
        {
          "output_type": "stream",
          "text": [
            "10000it [56:17,  2.96it/s]\n"
          ],
          "name": "stderr"
        }
      ]
    },
    {
      "cell_type": "code",
      "metadata": {
        "colab": {
          "base_uri": "https://localhost:8080/"
        },
        "id": "WzU8QQoLqWeV",
        "outputId": "0b58a1e5-8bec-4253-8ff5-2381b037e33e"
      },
      "source": [
        "current_start_ind = 50000\n",
        "corpus_batch6 = create_corpus_batch(files, batch_start = current_start_ind, batch_size = batch_size, N= N)\n",
        "\n",
        "batch6 = os.path.join(wd, 'corpus_batch6.txt')\n",
        "with open(batch6, 'w') as f:\n",
        "  f.write(corpus_batch6)"
      ],
      "execution_count": null,
      "outputs": [
        {
          "output_type": "stream",
          "text": [
            "6628it [32:51,  3.36it/s]\n"
          ],
          "name": "stderr"
        }
      ]
    },
    {
      "cell_type": "code",
      "metadata": {
        "id": "TVboNQ1T7_rI"
      },
      "source": [
        "# Merging the batches of extracted texts to form our final corpus\n",
        "corpus = ''\n",
        "with open(os.path.join(wd,'corpus_batch1.txt'),'r') as f:\n",
        "  c = f.read()\n",
        "  corpus = corpus + c + '\\n'\n",
        "\n",
        "with open(os.path.join(wd,'corpus_batch2.txt'),'r') as f:\n",
        "  c = f.read()\n",
        "  corpus = corpus + c + '\\n'\n",
        "\n",
        "with open(os.path.join(wd,'corpus_batch3.txt'),'r') as f:\n",
        "  c = f.read()\n",
        "  corpus = corpus + c + '\\n'\n",
        "\n",
        "with open(os.path.join(wd,'corpus_batch4.txt'),'r') as f:\n",
        "  c = f.read()\n",
        "  corpus = corpus + c + '\\n'\n",
        "\n",
        "with open(os.path.join(wd,'corpus_batch5.txt'),'r') as f:\n",
        "  c = f.read()\n",
        "  corpus = corpus + c + '\\n'\n",
        "\n",
        "with open(os.path.join(wd,'corpus_batch6.txt'),'r') as f:\n",
        "  c = f.read()\n",
        "  corpus = corpus + c"
      ],
      "execution_count": null,
      "outputs": []
    },
    {
      "cell_type": "code",
      "metadata": {
        "colab": {
          "base_uri": "https://localhost:8080/"
        },
        "id": "2o8dyTuQEwKz",
        "outputId": "2328940f-edd7-45bc-b393-23ffc6750c3f"
      },
      "source": [
        "len(corpus.split('\\n'))"
      ],
      "execution_count": null,
      "outputs": [
        {
          "output_type": "execute_result",
          "data": {
            "text/plain": [
              "56628"
            ]
          },
          "metadata": {
            "tags": []
          },
          "execution_count": 19
        }
      ]
    },
    {
      "cell_type": "code",
      "metadata": {
        "id": "VPXk24dJFFX-"
      },
      "source": [
        "#saving the corpus\n",
        "with open(os.path.join(wd, 'corpus.txt'),'w') as f:\n",
        "  f.write(corpus)"
      ],
      "execution_count": null,
      "outputs": []
    },
    {
      "cell_type": "markdown",
      "metadata": {
        "id": "8jt4hmV2LvgH"
      },
      "source": [
        "## 2,3,4) Preprocessing steps:\n",
        "\n",
        "### Remove all non english documents from corpus: \n",
        "Since, most of the documents are English, keeping non English documents in our corpus will arise to additional complexities while handling language generation model.\n",
        " Hence, for simplicity I am removing all non english documents as a preprocessing step.\n",
        "### Preprocess the texts in the corpus using regex functions:\n",
        "\n",
        "1. **Remove links from the corpus**: I am removing all links and htmls from the text in the corpus. This is necessary as html tags and links should not be included in the vocabulary.\n",
        "2. **Remove parenthesis and anything between the parenthesis**: The assumption behind this is that anything given in parenthesis is extra information and hence can be removed. On this note, I am also removing the citations from the text which are included in third brackets.\n",
        "3. **Remove apostrophe and quotes from the text**: Words containing apostrophe are problematic to handle while tokenization and hence I am removing the apostrophe sign from the word. I am also removing any text within quotes as this mostly relate to extra information.\n",
        "4. **Remove extra spaces from text**: I found that there are places where there are extra spaces in the text. Also, after applying some preprocessing leads to extra spaces in the text. So , I am removing all extra spaces as a preprocessing step.\n",
        "5. **Remove punctuations which does not form the end of the sentence and other special characters**: Here, I am removing all characters which may be dropped as they are not significant in the context of language generation. Considering these tokens in the vocabulary set is not desirable and hence, I am removing these characters.\n",
        "6. **Correcting sentence end structure according to sentence tokenization needs**: For sentence tokenization, I am using the sent_tokenize function of nltk which requires that a space is present after the sentence end punctuation ('.', '?' or '!'). In this corpus, I found that there are sentences where there is no space after the sentence end punctuations. Also, there are sentences where there is a space before the sentence end punctuation which can be removed. So, I am correcting this structure as the intermediate preprocessed corpus will be passed to the sentence tokenizer.\n",
        "\n",
        "\n",
        "### Removing sentence end punctuation ('.', '?' or '!') and adding sentence separator token '\\$\\$\\$\\$' before and after each sentence:\n",
        "As the final preprocessing step, I am tokenizing each sentence by nltk's sentence tokenizer function. Then I am removing the sentence end punctuations and am adding sentence separator '\\$\\$\\$\\$' before and after each sentence. This is justified as this pattern is not present in the corpus initially and hence adding this as separator will not cause any problems.\n",
        "\n",
        "\n",
        "\n",
        "\n",
        "\n"
      ]
    },
    {
      "cell_type": "markdown",
      "metadata": {
        "id": "QxGiWd-xRhmV"
      },
      "source": [
        "Reading the corpus which contains the text extracted from the json files of covid related articles."
      ]
    },
    {
      "cell_type": "code",
      "metadata": {
        "id": "wc4qyI4pRg8c"
      },
      "source": [
        "wd = os.path.join('My Drive/NLP/')\n",
        "with open(os.path.join(wd, 'corpus.txt'),'r') as f:\n",
        "  corpus = f.read()"
      ],
      "execution_count": null,
      "outputs": []
    },
    {
      "cell_type": "code",
      "metadata": {
        "colab": {
          "base_uri": "https://localhost:8080/"
        },
        "id": "J9_MCS1-SoOT",
        "outputId": "4caa3379-f1a4-4163-8b43-1cf725ea350a"
      },
      "source": [
        "docs = corpus.split('\\n')\n",
        "N = len(docs)\n",
        "print (N)"
      ],
      "execution_count": null,
      "outputs": [
        {
          "output_type": "stream",
          "text": [
            "56628\n"
          ],
          "name": "stdout"
        }
      ]
    },
    {
      "cell_type": "markdown",
      "metadata": {
        "id": "SJ-8Zwg446cx"
      },
      "source": [
        "Now, I am iterating over each document in the corpus and passing it into the lang detect library which detects the language of the text passed into it. I am removing all the documents which are identified as not English by this library."
      ]
    },
    {
      "cell_type": "code",
      "metadata": {
        "colab": {
          "base_uri": "https://localhost:8080/"
        },
        "id": "if9BKoNBbIFa",
        "outputId": "37e686c6-27de-49ef-a755-a1423f61687e"
      },
      "source": [
        "# removing non english words\n",
        "eng_doc_indices = []\n",
        "\n",
        "for i,doc in enumerate(tqdm(docs)):\n",
        "  try:\n",
        "    language = detect(doc)\n",
        "    if language=='en':\n",
        "      eng_doc_indices.append(i) \n",
        "  except:\n",
        "    pass\n",
        "\n",
        " "
      ],
      "execution_count": null,
      "outputs": [
        {
          "output_type": "stream",
          "text": [
            "100%|██████████| 56628/56628 [30:02<00:00, 31.41it/s]\n"
          ],
          "name": "stderr"
        }
      ]
    },
    {
      "cell_type": "code",
      "metadata": {
        "colab": {
          "base_uri": "https://localhost:8080/"
        },
        "id": "uP9b6EkijqSi",
        "outputId": "5aad57d0-2e54-4899-8abb-6903328787a1"
      },
      "source": [
        "eng_docs = [docs[i] for i in eng_doc_indices]\n",
        "len(eng_docs)"
      ],
      "execution_count": null,
      "outputs": [
        {
          "output_type": "execute_result",
          "data": {
            "text/plain": [
              "54941"
            ]
          },
          "metadata": {
            "tags": []
          },
          "execution_count": 7
        }
      ]
    },
    {
      "cell_type": "code",
      "metadata": {
        "colab": {
          "base_uri": "https://localhost:8080/"
        },
        "id": "hl6V8s7oj7kR",
        "outputId": "394586ef-2f9e-46f0-c949-936e416e5a0b"
      },
      "source": [
        "eng_corpus = '\\n'.join(eng_docs)\n",
        "len(eng_corpus.split('\\n'))"
      ],
      "execution_count": null,
      "outputs": [
        {
          "output_type": "execute_result",
          "data": {
            "text/plain": [
              "54941"
            ]
          },
          "metadata": {
            "tags": []
          },
          "execution_count": 8
        }
      ]
    },
    {
      "cell_type": "code",
      "metadata": {
        "id": "VyrXstAGkRHZ"
      },
      "source": [
        "#saving the english only corpus\n",
        "with open(os.path.join(wd, 'eng_corpus.txt'),'w') as f:\n",
        "  f.write(eng_corpus)"
      ],
      "execution_count": null,
      "outputs": []
    },
    {
      "cell_type": "markdown",
      "metadata": {
        "id": "5ntFmpjilwMc"
      },
      "source": [
        "Reading the english corpus and preprocessing on it"
      ]
    },
    {
      "cell_type": "code",
      "metadata": {
        "id": "w2AfBjLPlrs5"
      },
      "source": [
        "wd = os.path.join('My Drive/NLP/')\n",
        "with open(os.path.join(wd, 'eng_corpus.txt'),'r') as f:\n",
        "  corpus = f.read()"
      ],
      "execution_count": null,
      "outputs": []
    },
    {
      "cell_type": "code",
      "metadata": {
        "colab": {
          "base_uri": "https://localhost:8080/"
        },
        "id": "vWgYAG_ml2v0",
        "outputId": "a0778567-3d09-4eb4-e810-ca35fd111833"
      },
      "source": [
        "docs = corpus.split('\\n')\n",
        "N = len(docs)\n",
        "print (N)"
      ],
      "execution_count": null,
      "outputs": [
        {
          "output_type": "stream",
          "text": [
            "54941\n"
          ],
          "name": "stdout"
        }
      ]
    },
    {
      "cell_type": "markdown",
      "metadata": {
        "id": "x-SzHB9lZqJl"
      },
      "source": [
        "Helper functions used to preprocess the corpus texts. Each function is corresponding to the preprocessing on text steps describe above."
      ]
    },
    {
      "cell_type": "code",
      "metadata": {
        "id": "8HN9n_PsFOIm"
      },
      "source": [
        "def remove_url(text):\n",
        "  # function to remove any urls from the text. It searches the regex pattern http(s):// or http(s):\\\\ followed by any set of characters unless it is a space, newline, enter, ' ', tab or ).\n",
        "  pattern = re.compile(r'https?:/\\/\\.*[^\\r\\n\\s\\t\\)]*')\n",
        "  return re.sub(pattern, '', text)\n",
        "\n",
        "def remove_parenthesis(text):\n",
        "  # function to remove parenthesis and any characters appearing between the parenthesis in the text. It also removes citations which are represented by [].\n",
        "  pattern = re.compile(r'[\\[\\(]+[^\\n\\[\\(]*[\\)\\]]+')\n",
        "  return re.sub(pattern, '', text)\n",
        "\n",
        "def remove_apostrophe(text):\n",
        "  #function to remove apostrophe and quotes from the text. The text contains apostrophes represented by \\' and it also contains texts in quotes. For our purpose, I am removing both of these. \n",
        "  #removing '\\s from text'\n",
        "  t = re.sub('\\'', '', text)\n",
        "  return re.sub('[\\\"\\']', '', t)\n",
        "\n",
        "def remove_extra_space(text):\n",
        "  #remove extra spaces and tabs to be just one white space. \n",
        "  pattern = re.compile(r'(?<= ) +')\n",
        "  return re.sub(pattern, '', text)\n",
        "\n",
        "def remove_characters(text):\n",
        "  #remove punctuations which do not end a sentence: ',' ,';', ':'. Also remove special characters like #, $, %, &, >, <, =, +, -, *, /, @\n",
        "  pattern = re.compile(r'[,:;#$%&><=*/\\+\\-\\@]')\n",
        "  return re.sub(pattern, '' , text)\n",
        "\n",
        "def correct_sentence_end(text):\n",
        "  #function to correct sentence structure. There should not be any whitespace before .,! or ?. \n",
        "  #There should be a whitespace after .! or ?. This is important to extract out sentences from a text. An extra regex code is used to handle decimals as there should not be space after decimal point.\n",
        "  pattern1 = re.compile(r'( +)([.!?])')\n",
        "  text = re.sub(pattern1, '\\g<2>', text)\n",
        "  pattern2 = re.compile(r'([?!])([^ ])')\n",
        "  text = re.sub(pattern2, '\\g<1>' + ' ' + '\\g<2>', text)\n",
        "  return re.sub('(\\.)([^ \\d])', '\\g<1>' + ' ' + '\\g<2>', text)\n",
        "\n"
      ],
      "execution_count": null,
      "outputs": []
    },
    {
      "cell_type": "markdown",
      "metadata": {
        "id": "jmlpuBkQ52ip"
      },
      "source": [
        "I am getting some memory error if I try to preprocess on the whole corpus at once. So, I am going to divide the corpus into 3 batches and preprocess the batches. I am storing each intermediate result and finally I am joining them altogether to get my preprocessed corpus."
      ]
    },
    {
      "cell_type": "code",
      "metadata": {
        "id": "RzMkrBsjLI1l"
      },
      "source": [
        "def read_batch(docs, batch_start, batch_end):\n",
        "  #function to return a batch of documents from the corpus\n",
        "  batch = docs[batch_start:batch_end]\n",
        "  batch_text = '\\n'.join(batch)\n",
        "  return batch_text"
      ],
      "execution_count": null,
      "outputs": []
    },
    {
      "cell_type": "code",
      "metadata": {
        "colab": {
          "base_uri": "https://localhost:8080/"
        },
        "id": "qeApYLgzLXmF",
        "outputId": "87c11c0d-343c-4cae-c65b-7359d819be88"
      },
      "source": [
        "batch = read_batch(docs, 0, 20000)\n",
        "print (len(batch.split('\\n')))"
      ],
      "execution_count": null,
      "outputs": [
        {
          "output_type": "stream",
          "text": [
            "20000\n"
          ],
          "name": "stdout"
        }
      ]
    },
    {
      "cell_type": "code",
      "metadata": {
        "id": "6mGcxNpGyCUV"
      },
      "source": [
        "def preprocess_batch(text):\n",
        "  #function return a preprocessed batch of documents. The input to the function is the text of the batch of documents.\n",
        "  \n",
        "  # 1) remove urls\n",
        "  #text = re.sub('https?:/\\/\\.*[^\\r\\n\\s\\t\\)]*', '', text)\n",
        "  text = remove_url(text)\n",
        "  print (\"Step 1 done\")\n",
        "  \n",
        "  print (len(text.split('\\n')))\n",
        "  \n",
        "  # 2) remove anything in parenthesis: Assumption things in parenthesis are extra information. \n",
        "  #Removing them should not harm us. Anything within [] are references and can be removed.\n",
        "  #text = re.sub('[\\[\\(]+[^\\[\\(]*[\\)\\]]+', '', text)\n",
        "  text = remove_parenthesis(text)\n",
        "  print (\"Step 2 done\")\n",
        "  print (len(text.split('\\n')))\n",
        "\n",
        "  # 3) Remove \"\\'\" and quote\n",
        "  '''text = re.sub('\\'', '', text)\n",
        "  text = re.sub('[\\\"\\']','', text)'''\n",
        "  text = remove_apostrophe(text)\n",
        "  print (\"Step 3 done\")\n",
        "  print (len(text.split('\\n')))\n",
        "  # 4) Remove commas, colons, semi-colons and special character $, #, %, &\n",
        "  #text = re.sub('[, : ; # $ % & > < = * / + - @]', '', text)\n",
        "  text = remove_characters(text)\n",
        "  print (\"Step 4 done\")\n",
        "  print (len(text.split('\\n')))\n",
        "  # 5) Remove extra spaces, tabs, spaces before \n",
        "  #text = re.sub('\\s\\s+', ' ', text)\n",
        "  text = remove_extra_space(text)\n",
        "  print (\"Step 5 done\")\n",
        "  print (len(text.split('\\n')))\n",
        "  # 6) Sometimes there is a space before end of a sentence and no space after end of a sentence. Correcting structure\n",
        "  text = correct_sentence_end(text)\n",
        "  print (\"Step 6 done\")\n",
        "  print (len(text.split('\\n')))\n",
        "  return text"
      ],
      "execution_count": null,
      "outputs": []
    },
    {
      "cell_type": "code",
      "metadata": {
        "colab": {
          "base_uri": "https://localhost:8080/"
        },
        "id": "LUZjtROW0HS9",
        "outputId": "681aa427-7188-40a7-bf73-82637660a711"
      },
      "source": [
        "start = time.time()\n",
        "preprocessed_batch = preprocess_batch(batch)\n",
        "end = time.time()\n",
        "\n",
        "print (\"Time taken to preprocess batch 1 = %.3f minutes\" %((end-start)/60))\n",
        "print (len(preprocessed_batch.split('\\n')))"
      ],
      "execution_count": null,
      "outputs": [
        {
          "output_type": "stream",
          "text": [
            "Step 1 done\n",
            "20000\n",
            "Step 2 done\n",
            "20000\n",
            "Step 3 done\n",
            "20000\n",
            "Step 4 done\n",
            "20000\n",
            "Step 5 done\n",
            "20000\n",
            "Step 6 done\n",
            "20000\n",
            "Time taken to preprocess batch 1 = 1.491 minutes\n",
            "20000\n"
          ],
          "name": "stdout"
        }
      ]
    },
    {
      "cell_type": "code",
      "metadata": {
        "id": "6CUm3b0ANvYt"
      },
      "source": [
        "with open(os.path.join(wd,'preprocess1.txt'),'w') as f:\n",
        "  f.write(preprocessed_batch)"
      ],
      "execution_count": null,
      "outputs": []
    },
    {
      "cell_type": "code",
      "metadata": {
        "id": "FocPEosmRr_e"
      },
      "source": [
        "del batch, preprocessed_batch"
      ],
      "execution_count": null,
      "outputs": []
    },
    {
      "cell_type": "code",
      "metadata": {
        "colab": {
          "base_uri": "https://localhost:8080/"
        },
        "id": "qy9w5MM-N36H",
        "outputId": "fe782df8-194c-4995-cc60-9dcfac9517d3"
      },
      "source": [
        "batch = read_batch(docs, 20000, 40000)\n",
        "print (len(batch.split('\\n')))\n",
        "start = time.time()\n",
        "preprocessed_batch = preprocess_batch(batch)\n",
        "end = time.time()\n",
        "\n",
        "print (\"Time taken to preprocess batch 2 = %.3f minutes\" %((end-start)/60))\n",
        "print (len(preprocessed_batch.split('\\n')))"
      ],
      "execution_count": null,
      "outputs": [
        {
          "output_type": "stream",
          "text": [
            "20000\n",
            "Step 1 done\n",
            "20000\n",
            "Step 2 done\n",
            "20000\n",
            "Step 3 done\n",
            "20000\n",
            "Step 4 done\n",
            "20000\n",
            "Step 5 done\n",
            "20000\n",
            "Step 6 done\n",
            "20000\n",
            "Time taken to preprocess batch 2 = 1.522 minutes\n",
            "20000\n"
          ],
          "name": "stdout"
        }
      ]
    },
    {
      "cell_type": "code",
      "metadata": {
        "id": "3EQM73avTR9G"
      },
      "source": [
        "with open(os.path.join(wd,'preprocess2.txt'),'w') as f:\n",
        "  f.write(preprocessed_batch)"
      ],
      "execution_count": null,
      "outputs": []
    },
    {
      "cell_type": "code",
      "metadata": {
        "id": "qIlveA5-UaMX"
      },
      "source": [
        "del batch, preprocessed_batch"
      ],
      "execution_count": null,
      "outputs": []
    },
    {
      "cell_type": "code",
      "metadata": {
        "colab": {
          "base_uri": "https://localhost:8080/"
        },
        "id": "7FHYrT7sTf0M",
        "outputId": "4f4e7ff8-e2f7-4486-88fb-4c6a7160c2d3"
      },
      "source": [
        "batch = read_batch(docs, 40000, N)\n",
        "start = time.time()\n",
        "preprocessed_batch = preprocess_batch(batch)\n",
        "end = time.time()\n",
        "\n",
        "print (\"Time taken to preprocess batch 3 = %.3f minutes\" %((end-start)/60))"
      ],
      "execution_count": null,
      "outputs": [
        {
          "output_type": "stream",
          "text": [
            "Step 1 done\n",
            "14941\n",
            "Step 2 done\n",
            "14941\n",
            "Step 3 done\n",
            "14941\n",
            "Step 4 done\n",
            "14941\n",
            "Step 5 done\n",
            "14941\n",
            "Step 6 done\n",
            "14941\n",
            "Time taken to preprocess batch 3 = 1.051 minutes\n"
          ],
          "name": "stdout"
        }
      ]
    },
    {
      "cell_type": "code",
      "metadata": {
        "id": "eHz7HHF6U7lH"
      },
      "source": [
        "with open(os.path.join(wd,'preprocess3.txt'),'w') as f:\n",
        "  f.write(preprocessed_batch)"
      ],
      "execution_count": null,
      "outputs": []
    },
    {
      "cell_type": "code",
      "metadata": {
        "id": "QQUmtzo4rrdI"
      },
      "source": [
        "del batch, preprocessed_batch"
      ],
      "execution_count": null,
      "outputs": []
    },
    {
      "cell_type": "code",
      "metadata": {
        "id": "uyD9dQoWV5S2"
      },
      "source": [
        "wd = os.path.join('My Drive/NLP/')\n",
        "with open(os.path.join(wd, 'preprocess1.txt'), 'r') as f:\n",
        "  batch1 = f.read()\n",
        "\n",
        "with open(os.path.join(wd, 'preprocess2.txt'), 'r') as f:\n",
        "  batch2 = f.read()\n",
        "\n",
        "with open(os.path.join(wd, 'preprocess3.txt'), 'r') as f:\n",
        "  batch3 = f.read()\n",
        "\n",
        "temp_corpus = batch1 + '\\n' + batch2 + '\\n'  + batch3"
      ],
      "execution_count": null,
      "outputs": []
    },
    {
      "cell_type": "code",
      "metadata": {
        "colab": {
          "base_uri": "https://localhost:8080/"
        },
        "id": "t_U_N9PaJ9bC",
        "outputId": "3805384f-1cfd-435d-8629-bf51854b9937"
      },
      "source": [
        "docs = temp_corpus.split('\\n')\n",
        "N = len(docs)\n",
        "print (N)"
      ],
      "execution_count": null,
      "outputs": [
        {
          "output_type": "stream",
          "text": [
            "54941\n"
          ],
          "name": "stdout"
        }
      ]
    },
    {
      "cell_type": "markdown",
      "metadata": {
        "id": "MRJmEmk16P11"
      },
      "source": [
        "Finally, I will remove the sentence end punctuation and add sentence separator token between sentences to the preprocessed corpus. While doing this, I am also going to compute the word count and sentence count of the preprocessed corpus. "
      ]
    },
    {
      "cell_type": "code",
      "metadata": {
        "id": "G6_rc3h0IhFn"
      },
      "source": [
        "WORD_COUNT = 0\n",
        "SENTENCE_COUNT = 0\n",
        "VOCAB = {}\n",
        "T = []\n",
        "M = []"
      ],
      "execution_count": null,
      "outputs": []
    },
    {
      "cell_type": "code",
      "metadata": {
        "colab": {
          "base_uri": "https://localhost:8080/"
        },
        "id": "xfNfPFSMInH2",
        "outputId": "bb22114c-81ff-4967-ad9e-9130296d6b91"
      },
      "source": [
        "'''For each document in the corpus, I am tokenizing the sentences. For each sentence I am tokenizing the words and keeping track of the word and token count and the vocabulary.\n",
        "I am also appending the sentence separator ($$$$) before and after each sentence to form our final preprocessing. \n",
        "'''\n",
        "preprocessed_docs = []\n",
        "\n",
        "for i,preprocessed_doc in enumerate(tqdm(docs)):\n",
        "    sentences = sent_tokenize(preprocessed_doc)\n",
        "    SENTENCE_COUNT += len(sentences)\n",
        "\n",
        "    temp = ''\n",
        "    for sentence in sentences:\n",
        "      sentence = sentence[:-1] #not including the sentence end punctuation ('.', '?', or '!)\n",
        "      \n",
        "      tokens = word_tokenize(sentence)\n",
        "      temp = temp + '$$$$' + sentence + '$$$$'\n",
        "      \n",
        "      for token in tokens:\n",
        "        WORD_COUNT +=1\n",
        "        VOCAB[token] = VOCAB.get(token,0) + 1\n",
        "\n",
        "        #note down token count and vocab count in intervals of 10000\n",
        "        if ((WORD_COUNT%10000)==0):\n",
        "          T.append(WORD_COUNT)\n",
        "          M.append(len(VOCAB.keys()))\n",
        "\n",
        "    preprocessed_docs.append(temp)"
      ],
      "execution_count": null,
      "outputs": [
        {
          "output_type": "stream",
          "text": [
            "100%|██████████| 54941/54941 [43:16<00:00, 21.16it/s]\n"
          ],
          "name": "stderr"
        }
      ]
    },
    {
      "cell_type": "code",
      "metadata": {
        "id": "NLVQ8fp8gRsG"
      },
      "source": [
        "del temp_corpus"
      ],
      "execution_count": null,
      "outputs": []
    },
    {
      "cell_type": "code",
      "metadata": {
        "id": "1rg9y0W3xc2F"
      },
      "source": [
        "del docs"
      ],
      "execution_count": null,
      "outputs": []
    },
    {
      "cell_type": "code",
      "metadata": {
        "id": "mlfHG0qlhqLS"
      },
      "source": [
        "preprocessed_corpus = '\\n'.join(preprocessed_docs)\n",
        "with open(os.path.join(wd,'preprocessed_corpus.txt'),'w') as f:\n",
        "  f.write(preprocessed_corpus)"
      ],
      "execution_count": null,
      "outputs": []
    },
    {
      "cell_type": "markdown",
      "metadata": {
        "id": "QRvVrZxA-V1w"
      },
      "source": [
        "Saving the token count and vocab count values in intervals of 10000 token counts."
      ]
    },
    {
      "cell_type": "code",
      "metadata": {
        "id": "4Kj2Xp_CYYPT"
      },
      "source": [
        "import pandas as pd\n",
        "df = pd.DataFrame({'T':T, 'M':M})\n",
        "df.to_csv(os.path.join(wd, 'T_M.csv'),index = False)"
      ],
      "execution_count": null,
      "outputs": []
    },
    {
      "cell_type": "markdown",
      "metadata": {
        "id": "_nsUafvjgsQj"
      },
      "source": [
        "### 5) Size of Corpus"
      ]
    },
    {
      "cell_type": "code",
      "metadata": {
        "colab": {
          "base_uri": "https://localhost:8080/"
        },
        "id": "E5widVHQgxr0",
        "outputId": "a0bb3692-4630-4d6a-c1fe-48dea7a2c818"
      },
      "source": [
        "print (\"Word count = %d\" %WORD_COUNT)\n",
        "print (\"Sentence count = %d\" %SENTENCE_COUNT)"
      ],
      "execution_count": null,
      "outputs": [
        {
          "output_type": "stream",
          "text": [
            "Word count = 205245580\n",
            "Sentence count = 8802703\n"
          ],
          "name": "stdout"
        }
      ]
    },
    {
      "cell_type": "markdown",
      "metadata": {
        "id": "qux6NNd0g8dT"
      },
      "source": [
        "### 6) Vocabulary Size"
      ]
    },
    {
      "cell_type": "code",
      "metadata": {
        "colab": {
          "base_uri": "https://localhost:8080/"
        },
        "id": "DN34JDLig_ak",
        "outputId": "631b136b-58ef-4e2d-a984-6ce7875ebf04"
      },
      "source": [
        "print (\"Vocab size = %d\" %len(VOCAB.keys()))"
      ],
      "execution_count": null,
      "outputs": [
        {
          "output_type": "stream",
          "text": [
            "Vocab size = 1517373\n"
          ],
          "name": "stdout"
        }
      ]
    },
    {
      "cell_type": "markdown",
      "metadata": {
        "id": "dSfntJt3hNQy"
      },
      "source": [
        "### 7) Terms vs Vocab graph"
      ]
    },
    {
      "cell_type": "code",
      "metadata": {
        "id": "Gbgp-d7uhHQD"
      },
      "source": [
        "wd = os.path.join('My Drive/NLP/')\n",
        "df = pd.read_csv(os.path.join(wd, 'T_M.csv'))\n",
        "\n",
        "T = df['T'].values\n",
        "M = df['M'].values"
      ],
      "execution_count": null,
      "outputs": []
    },
    {
      "cell_type": "markdown",
      "metadata": {
        "id": "y40WN-C7hU_6"
      },
      "source": [
        "The lists T and M contains the token counts and vocabulary counts at intervals of 10000 tokens.\n",
        "\n",
        "To estimate the parameters of Heap's law estimate, $M = kT^b$, i.e, $log_{10}M = log_{10}k + b*log_{10}T$,  two points of T and M are sufficient.\n",
        "\n",
        "So, I am taking the value of T and M at token count of 10000 and 50000 respectively. From that I am getting the values of k and b. Using that I am estimating the value of M for each value of T. \n",
        "\n",
        "For plotting purpose, I am comparing the plots of $log_{10}M(actual)$ vs $log_{10}T$ and $log_{10}M(estimated)$ vs $log_{10}T$."
      ]
    },
    {
      "cell_type": "code",
      "metadata": {
        "id": "i214MwqkQ03i"
      },
      "source": [
        "#estimating heap's law parameters from two points  of (log(T), log(M)) and using heap's law to estimate the log(M) values for the rest.\n",
        "\n",
        "log_T = np.log10(T)\n",
        "log_M = np.log10(M)\n",
        "\n",
        "x1 = log_T[0]\n",
        "x2 = log_T[4]\n",
        "y1 = log_M[0]\n",
        "y2 = log_M[4]\n",
        "\n",
        "#heap's law: log(M) = log(k) + blog(T)\n",
        "b = (y2-y1)/(x2-x1)\n",
        "log_k = y2 - (b*x2)\n",
        "\n",
        "def heap_estimate(log_t, log_k, b):\n",
        "  return (log_k + (b*log_t))\n",
        "       "
      ],
      "execution_count": null,
      "outputs": []
    },
    {
      "cell_type": "code",
      "metadata": {
        "id": "Bq9JymieTWq7"
      },
      "source": [
        "estimated = [heap_estimate(x, log_k, b) for x in log_T]"
      ],
      "execution_count": null,
      "outputs": []
    },
    {
      "cell_type": "code",
      "metadata": {
        "colab": {
          "base_uri": "https://localhost:8080/",
          "height": 296
        },
        "id": "nlo__w1UhUDj",
        "outputId": "629ebee3-6df6-4a18-ff13-7160f7979dd0"
      },
      "source": [
        "plt.plot(log_T, log_M, label = \"True log vocab count\")\n",
        "plt.plot(log_T, estimated, label = \"Heap's law estimate of log vocab count\")\n",
        "plt.xlabel(\"log_10 Token count\")\n",
        "plt.ylabel(\"log_10 vocab count\")\n",
        "plt.title(\"Token count vs Vocab count in log_10 scale\")\n",
        "plt.legend()\n",
        "plt.show()"
      ],
      "execution_count": null,
      "outputs": [
        {
          "output_type": "display_data",
          "data": {
            "image/png": "[encoded data removed]",
            "text/plain": [
              "<Figure size 432x288 with 1 Axes>"
            ]
          },
          "metadata": {
            "tags": [],
            "needs_background": "light"
          }
        }
      ]
    },
    {
      "cell_type": "code",
      "metadata": {
        "id": "HcOttXBQtx45"
      },
      "source": [
        ""
      ],
      "execution_count": null,
      "outputs": []
    }
  ]
}