{
  "nbformat": 4,
  "nbformat_minor": 0,
  "metadata": {
    "colab": {
      "name": "Assignment4.ipynb",
      "provenance": [],
      "collapsed_sections": [
        "mq9CRK7zRs0k",
        "UDaXwiRAMeCX",
        "Kk0SAko285wj",
        "UHQNw8ND9CzM",
        "dWnflZ4U_cQF",
        "OM8SvqElAYIM"
      ]
    },
    "kernelspec": {
      "name": "python3",
      "display_name": "Python 3"
    },
    "language_info": {
      "name": "python"
    },
    "accelerator": "GPU"
  },
  "cells": [
    {
      "cell_type": "markdown",
      "metadata": {
        "id": "pTqGKj9wo9wJ"
      },
      "source": [
        "**Name: Debangshu Bhattacharya**\n",
        "\n",
        "**Roll: MDS201910**"
      ]
    },
    {
      "cell_type": "code",
      "metadata": {
        "id": "raleQn4CoZBq",
        "colab": {
          "base_uri": "https://localhost:8080/"
        },
        "outputId": "18df27e6-8e5f-464b-f0be-49ddd54d3d16"
      },
      "source": [
        "from google.colab import drive\n",
        "drive.mount('/gdrive')\n",
        "%cd /gdrive"
      ],
      "execution_count": null,
      "outputs": [
        {
          "output_type": "stream",
          "text": [
            "Mounted at /gdrive\n",
            "/gdrive\n"
          ],
          "name": "stdout"
        }
      ]
    },
    {
      "cell_type": "code",
      "metadata": {
        "id": "jeM5RH5u_REB"
      },
      "source": [
        "import numpy as np\n",
        "import os\n",
        "import json\n",
        "import time\n",
        "import re\n",
        "import string\n",
        "import random\n",
        "import math\n",
        "import torch\n",
        "from tqdm import tqdm"
      ],
      "execution_count": null,
      "outputs": []
    },
    {
      "cell_type": "markdown",
      "metadata": {
        "id": "mq9CRK7zRs0k"
      },
      "source": [
        "### Read Covid data\n",
        "\n",
        "Since, I only have the preprocessed corpus where I had removed every punctuations and converted every character to lower case, I need to reread the corpus (extracting text from json files) as for language model it is better to keep the original structure (punctuations and keep words beginning with capital letters as it is). So, in this section, I am rerunning that part of extracting json text as done in assignment 1. After extracting the corpus, I am keeping only the english documents in my corpus using the langdetect python module. This part is exactly the same as part 1 of assignment 1.  "
      ]
    },
    {
      "cell_type": "code",
      "metadata": {
        "colab": {
          "base_uri": "https://localhost:8080/"
        },
        "id": "-pZ0fqg3Rr8Z",
        "outputId": "59b07db0-c3ef-45f1-b26e-ef77ded83e80"
      },
      "source": [
        "wd = os.path.join('My Drive/NLP/')\n",
        "raw_data_dir = os.path.join(wd,'pdf_json')\n",
        "files = os.listdir(raw_data_dir)\n",
        "\n",
        "N = len(files)\n",
        "print (\"There are %d files in our covid dataset\" %(N))"
      ],
      "execution_count": null,
      "outputs": [
        {
          "output_type": "stream",
          "text": [
            "There are 56628 files in our covid dataset\n"
          ],
          "name": "stdout"
        }
      ]
    },
    {
      "cell_type": "code",
      "metadata": {
        "id": "SFt_DHC1SyeV"
      },
      "source": [
        "# Helper code to extract text from a json file (same as the one provided)\n",
        "def extract_text(filepath,output_as_list=False):\n",
        "    '''\n",
        "    Extract the text from the file path and\n",
        "    index the content from paper_id, title, abstract and body_text fields\n",
        "    Retuns - if output_as_list = True\n",
        "                list of all the above values,\n",
        "             else\n",
        "                text of title, abstract and bodt_text\n",
        "    '''\n",
        "\n",
        "    file = open(filepath)\n",
        "    body_text = \"\"\n",
        "    abstract = \"\"\n",
        "    title = \"\"\n",
        "    paper_id = \"\"\n",
        "\n",
        "    paper_content = json.load(file)\n",
        "\n",
        "    #get the paper_id\n",
        "    if 'paper_id' in paper_content:\n",
        "        paper_id = paper_content['paper_id']\n",
        "    #get the title, if available\n",
        "    if 'title' in paper_content['metadata']:\n",
        "        title = paper_content['metadata']['title']\n",
        "    #get abstract.text, if available\n",
        "    if 'abstract' in paper_content:\n",
        "        for abs in paper_content['abstract']:\n",
        "            abstract = abstract + abs['text']\n",
        "    if 'body_text' in paper_content:\n",
        "        for bt in paper_content['body_text']:\n",
        "            body_text = body_text + bt['text']\n",
        "\n",
        "    file.close()\n",
        "    \n",
        "    if output_as_list:\n",
        "            return [paper_id,title,abstract,body_text]\n",
        "    else:\n",
        "        return (title + ' ' + abstract + ' ' + body_text + ' ')"
      ],
      "execution_count": null,
      "outputs": []
    },
    {
      "cell_type": "code",
      "metadata": {
        "id": "vz6_1YRcSzIr"
      },
      "source": [
        "def create_corpus(files):\n",
        "  #function to create a text corpus for a given set of files as input. In the text corpus, each document will be represented as a text in each line. \n",
        "  n = len(files)\n",
        "  corpus = ''\n",
        "\n",
        "  for i, f in tqdm(enumerate(files)):\n",
        "    filepath = os.path.join(raw_data_dir,f)\n",
        "    text = extract_text(filepath)\n",
        "\n",
        "    if i==(n-1):\n",
        "      corpus = corpus + text\n",
        "    else:\n",
        "      corpus = corpus + text + '\\n'\n",
        "    \n",
        "  return corpus"
      ],
      "execution_count": null,
      "outputs": []
    },
    {
      "cell_type": "code",
      "metadata": {
        "id": "3lPigLKgTMbg"
      },
      "source": [
        "def create_corpus_batch(files, batch_start,batch_size,N):\n",
        "  #function to return a text corpus for a batch where the batch size and the document index with which the batch is starting is passed as arguments to the function\n",
        "  batch_end = batch_start + batch_size\n",
        "  if batch_end > N:\n",
        "    batch_end = N\n",
        "  \n",
        "  batch_files = files[batch_start:batch_end]\n",
        "  corpus_batch = create_corpus(batch_files)\n",
        "  return corpus_batch"
      ],
      "execution_count": null,
      "outputs": []
    },
    {
      "cell_type": "code",
      "metadata": {
        "colab": {
          "base_uri": "https://localhost:8080/"
        },
        "id": "dEgLPYMpVYMV",
        "outputId": "1d1e0fcf-eff8-43b6-8229-3b366d7febae"
      },
      "source": [
        "from tqdm import tqdm\n",
        "batch_size = 10000\n",
        "current_start_ind = 0\n",
        "\n",
        "corpus_batch1 = create_corpus_batch(files, batch_start = 0, batch_size = batch_size, N= N)"
      ],
      "execution_count": null,
      "outputs": [
        {
          "output_type": "stream",
          "text": [
            "10000it [1:25:15,  1.95it/s]\n"
          ],
          "name": "stderr"
        }
      ]
    },
    {
      "cell_type": "code",
      "metadata": {
        "id": "8LYzo1IjbPne"
      },
      "source": [
        ""
      ],
      "execution_count": null,
      "outputs": []
    },
    {
      "cell_type": "code",
      "metadata": {
        "id": "rTrmPy20pXZv"
      },
      "source": [
        "with open(os.path.join(wd, 'corpus_batch1.txt'),'w') as f:\n",
        "  f.write(corpus_batch1)"
      ],
      "execution_count": null,
      "outputs": []
    },
    {
      "cell_type": "code",
      "metadata": {
        "colab": {
          "base_uri": "https://localhost:8080/"
        },
        "id": "bu2GjyRtpmHB",
        "outputId": "a3b49d90-05ba-4b56-ed36-fcd66c4e2b0e"
      },
      "source": [
        "with open(os.path.join(wd, 'corpus_batch1.txt'),'r') as f:\n",
        "  corpus = f.read()\n",
        "\n",
        "print (corpus.split('\\n')[0])\n",
        "print (len(corpus.split('\\n')))"
      ],
      "execution_count": null,
      "outputs": [
        {
          "output_type": "stream",
          "text": [
            "Postweaning mortality in commercial swine production II: review of infectious contributing factors a Qualitative assignment of relative incidence and magnitude of mortality was performed by primary author (J.T.G.) based on summarization of published literature.b Relative incidence of mortality attributed to the infectious agent was denoted using a system ranging from + to +++. Infectious agents not currently in domestic swine populations in the United States was denoted by \"−\". c Relative magnitude of mortality in a population attributed to the presence of the infectious agent was described as + (low potential), ++ (moderate potential), and +++ (significant potential). d Caused by Brachyspira hyodysenteriae, Brachyspira hampsonii, and Brachyspira suanatina. e Including, but not limited to, African swine fever virus, classical swine fever virus, and foot and mouth disease. f Caused by Mycoplasma hyopneumoniae. g Includes PEDV, TGEV, and PDCoV. h Formerly Haemophilus parasuis. i Includes Mycoplasma hyosynoviae, Mycoplasma hyorhinis, and Mycoplasma suis. ABSTRACT: Postweaning mortality is extremely complex with a multitude of noninfectious and infectious contributing factors. In the current review, our objective is to describe the current state of knowledge regarding infectious causes of postweaning mortality, focusing on estimates of frequency and magnitude of effect where available. While infectious mortality is often categorized by physiologic body system affected, we believe the complex multifactorial nature is better understood by an alternative stratification dependent on intervention type. This category method subjectively combines disease pathogenesis knowledge, epidemiology, and economic consequences. These intervention categories included depopulation of affected cohorts of animals, elimination protocols using knowledge of immunity and epidemiology, or less aggressive interventions. The most aggressive approach to control infectious etiologies is through herd depopulation and repopulation. Historically, these protocols were successful for Actinobacillus pleuropneumoniae and swine dysentery among others. Additionally, this aggressive measure likely would be used to minimize disease spread if either a foreign animal disease was introduced or pseudorabies virus was reintroduced into domestic swine populations. Elimination practices have been successful for Mycoplasma hyopneumoniae, porcine reproductive and respiratory syndrome virus, coronaviruses, including transmissible gastroenteritis virus, porcine epidemic diarrhea virus, and porcine deltacoronavirus, swine influenza virus, nondysentery Brachyspira spp., and others. Porcine circovirus type 2 can have a significant impact on morbidity and mortality; however, it is often adequately controlled through immunization. Many other infectious etiologies present in swine production have not elicited these aggressive control measures. This may be because less aggressive control measures, such as vaccination, management, and therapeutics, are effective, their impact on mortality or productivity is not great enough to warrant, or there is inadequate understanding to employ control procedures efficaciously and efficiently. Since there are many infectious agents and noninfectious contributors, emphasis should continue to be placed on those infectious agents with the greatest impact to minimize postweaning mortality.Postweaning mortality is caused by a complex host of etiologies and risk factors with myriad interactive effects. In an effort to reduce postweaning mortality, contributors must be identified and effective strategies must be generated, evaluated, and implemented. Historically, greater resource allocation has been directed toward preweaning mortality, including research and summary articles, compared with postweaning mortality (Bereskin et al., 1973; Alonso-Spilsbury et al., 2007; Muns et al., 2016; Liu et al., 2018) . To reduce mortality most effectively, producers and researchers should focus attention on those contributing factors with the greatest magnitude of effect and that can be controlled. We are unaware of any recent literature review, systematic review, or meta-analysis that has been performed regarding postweaning mortality. While causes of infectious mortality are often categorized by physiologic body system affected, we believe the complex multifactorial nature is better understood by an alternative stratification based on the intervention type applied. This category method subjectively combines knowledge of disease pathogenesis, epidemiology, and economic consequences. The proposed intervention categories are depopulation of affected cohorts of animals, elimination protocols using knowledge of immunity and epidemiology, and a third category of less aggressive interventions. This categorization allows simplification of the innumerable interactions between infectious and noninfectious factors contributing to postweaning mortality that are summarized as \"the causal web\" proposed by Gebhardt et al. (2020) . One of the most complex and important interactive effects is the impact of various noninfectious factors on incidence, severity, and resolution of disease. Our objective is to describe the current state of knowledge regarding infectious causes of postweaning mortality, focusing on estimates of frequency, and magnitude of effect where available. The current document will focus on infectious causes of postweaning mortality without describing detailed clinical signs or therapeutic, control, or preventative measures.The literature search was performed using Web of Science (https://login.webofknowledge. com/), which incorporated the Web of Science Core Collection, CAB Abstracts, and Medline databases, and Pubmed (www.ncbi.nlm.nih.gov/ pubmed/), as well as the Scopus (www.scopus. com). Search terms included (SWINE OR PIG) AND (MORTALITY OR MORBIDITY OR DEAD OR REMOVAL) AND the respective search item of interest. Additionally, the assessment of bibliographical items resulted in further identification of relevant sources. Articles were restricted to primarily English language; however, non-English articles that contained an English abstract where relevant information could be extracted were included. Once relevant articles were identified, they were filed and categorized according to topic for further evaluation. This review is based on peer-reviewed literature without including conference proceedings and other nonpeer-reviewed literature.Infectious disease is a common contributing factor to mortality in all growth stages of swine. Mortality categories with the largest proportions include respiratory, gastrointestinal, meningitis/ central nervous system signs, and failure to thrive (USDA 2015) . Relative measures of incidence and magnitude of effect for infectious causes of postweaning mortality is included in Table 1 . Disease is multifactorial in nature, often described as an epidemiologic triad consisting of agent, host, and environment (Dohoo et al., 2003) . For the purpose of this endeavor, the epidemiologic triad of determinants of disease can be categorized into infectious and noninfectious factors (Fig. 1) . Infectious agents can include viruses, bacteria, parasites, and other agents, such as fungi or prions and are discussed in the current report. Noninfectious factors include characteristics of the host and environment that are discussed in greater detail in the accompanying manuscript. It is critical to understand the interwoven nature of these factors and acknowledge the complexity of biology, physiology, and production outcomes.Reported incidence of specific disease processes for nursery, wean-to-finish, and grow-finish sites is provided in Fig. 2 (USDA, 2016) . Mortality has been shown to be significantly greater in animals experiencing a high health challenge [porcine reproductive and respiratory syndrome virus (PRRSV) and swine influenza virus A (IAV); 19.9%)] compared to moderate health challenge (IAV; 7.7%) or low health challenge (no PRRSV or IAV; 3.3%; Cornelison et al., 2018) . Such data illustrates the significant impact that the combination of infectious causes of mortality can have on postweaning mortality. Throughout this review, the terminology of commercial swine production and domestic swine are used interchangeably to describe the swine population raised in a controlled, nonferal manner. One approach to conceptualizing infectious postweaning mortality causes is categorization by physiologic system affected. Major systems affected and associated infectious agents include respiratory (IAV, PRRSV, Mycoplasma spp., and Glasserella parasuis), enteric (Lawsonia intracellularis and Brachyspira spp.), and systemic (Erysipelothrix rhusiopathiae, Streptococcus suis, and porcine circovirus). This approach is commonly used to attempt to understand the interaction between infectious agents resulting in pathology of certain systems, but we will propose and describe an alternative intervention-based approach below.Porcine respiratory disease complex (PRDC) is often multifactorial, with combinations of viruses, bacteria, and sometimes parasites causing severe losses. Respiratory disease is one of the most common causes of mortality attributed to infectious causes, with an estimated 47% of nursery mortality, 75% of grower/finisher mortality, and approximately 60% of wean-to-finish mortality associated with respiratory disease (USDA, 2015) . Multiple pathogenic mechanisms may be additive or synergistic by enhancing colonization and organism virulence or compromising various host defense mechanisms. Examples include damage to the mucociliary apparatus, immunosuppression, altering cytokine responses, or reducing macrophage function (Yaeger and Van Alstine, 2019) . Further description of the polymicrobial nature of PRDC has been described (Choi et al., 2003; Palzer et al., 2008; Opriessnig et al, 2011) . Respiratory disease complex is augmented by interactions of infectious and noninfectious factors. Factors such as time between successive batches of pigs in a barn and air quality have been associated with increased incidence and severity of PRDC (Fablet et al., 2012a) . This demonstrates the importance of the interaction of noninfectious contributors with infectious insults then resulting in pulmonary pathology and increased mortality. Morbidity estimates for PRDC in a number of different contexts have been reported to range from 1.9% to 40% and mortality from 2% to 20% (Baumann and Bilkei, 2002; Petersen et al., 2008; Hansen et al., 2010) .Enteric disease leads to mortality through impaired gastrointestinal structure or function. Infectious agents capable of damaging the gastrointestinal tract include but are not limited to L. intracellularis, Brachyspira spp., Escherichia coli, Salmonella spp., coronaviruses, rotaviruses, and parasites. Similar to respiratory disease, multiple agents are often detected in clinical disease (Thomson et al., 1998; Stege et al., 2000; Thomson et al., 2001; Merialdi et al., 2003; Suh and Song, 2005; Reiner et al., 2011; Viott et al., 2013) .In addition to the respiratory and gastrointestinal system, infectious agents can also affect multiple body systems and result in mortality postweaning. [E. rhusiopathiae, porcine circovirus type 2 (PCV2), pseudorabies virus (PRV), foreign animal diseases (FAD)] Many bacterial agents associated with PRDC (S. suis, G. parasuis, and Actinobacillus suis) can also result in systemic disease with arthritis, septicemia, and meningitis. Other postweaning mortality infectious causes include shiga toxin-producing E. coli (STEC), which produces a toxin resulting in edema disease. Greasy pig disease, which may or may not be fatal, is a result of toxin production by Staphylococcus hyicus. Most of the agents responsible for systemic disease are commonly found in most swine herds. The diseases which may result, including polyserositis, erysipelas, edema disease, or other miscellaneous infections, accounted for 7.3% of pigs necropsied following euthanasia or death as reported by Baumann and Bilkei (2002) . Another sporadic pathology associated with septicemia is bacterial endocarditis, which has been reported to be found in 0.019-0.038% of finishing pigs and has been associated with multiple etiologies, including Streptococcus spp, E. rhusiopathiae, Arcanobacterium pyogenes, Staphylococcus aureus, and Streptococcus porcinus (Katsumi et al., 1997) . Although a systems-based approach is commonly used to conceptualize infectious diseases, we hereafter propose an intervention-based framework.Varying levels of intervention can be used to control infectious causes of mortality, including: 1) aggressive depopulation of affected cohorts of animals, 2) elimination protocols using knowledge of immunity, not introducing naïve susceptible host animals for a sufficient period of time, with or without additional control measures, such as herd medication, or 3) less aggressive interventions. Using such an approach to conceptualizing infectious causes of postweaning mortality allows for a clearer understanding of the potential magnitude effect of prolonged presence of the etiologic agent in a swine production system.The most aggressive approach to control infectious etiologies is through depopulation of affected herds. Historically, these protocols have been implemented with success for Actinobacillus pleuropneumoniae (APP) and swine dysentery, as well as others as described by Sasaki et al. (2016) . Justification to implement such aggressive measures is dependent upon the realization that satisfactory production efficiency cannot be achieved with the agent present in the herd. In addition to the aforementioned agents, depopulation would likely be used for control and elimination of regulatory-designated FAD or pseudorabies virus if introduced into domestic swine populations in the United States because of higher-level concerns, including access to international trade partners.Swine dysentery Clinical disease known as swine dysentery is caused by Brachyspira hyodysenteriae, Brachyspira hampsonii, and Brachyspira suanatina (Burrough, 2017; Hampson, 2018a; Rohde et al., 2018; Hampson and Burrough, 2019) . The prevalence of Brachyspira spp. has been widely reported in the literature, but clinical disease associated with swine dysentery is much less frequent in the United States compared with historical rates (Hampson and Burrough, 2019) . Morbidity for swine dysentery can be up to 90% of the population and mortality can be as high as 30% in extreme clinical settings and 50% in experimental settings (Hampson and Burrough, 2019) . Depopulation and, in some cases, elimination strategies without depopulation have been implemented with success resulting in a relatively low prevalence in the United States.Actinobacillus pleuropneumoniae Clinical disease caused by APP is characterized by rapid progression pneumonia with death sometimes within hours (Gottschalk and Broes, 2019) . Clinical disease caused by APP has decreased over time, primarily through aggressive depopulation of affected herds, with only a small percentage of sites reporting clinical disease in recent years (USDA, 2016) . Vaccination for APP in field trials has been shown to reduce absolute mortality by 3-5% or a relative reduction of 65-83% (Habrun et al., 2002; Del Pozo Sacristan et al., 2014;  Table 2 ). Morbidity is estimated to range from 10% to 100% in clinically affected herds, with mortality ranging from less than 1% to 10% in acute outbreaks (Frank et al., 1992; Pozzi et al., 2011; Sassu et al., 2018) . Nevertheless, globally, APP remains an aggressive and important etiologic agent with the potential to substantially contribute to postweaning mortality. Pseudorabies virus Pseudorabies virus, also known as suid herpesvirus 1 or Aujeszky's disease, is an enveloped virus that can lead to reproductive losses, neurological signs, and mortality (Mettenleiter et al., 2019) . Seroprevalence historically was 50% or greater in commercial herds (Elbers et al., 1992) . The U.S. commercial swine herd was declared free of PRV in 2004 through intense eradication efforts (Pedersen et al., 2013) . McNulty (2003) reported up to 20% mortality in pigs aged 14-20 wk. Pseudorabies remains prevalent in Asia (Hu et al., 2016) , with highly virulent strains described with morbidity estimates of 30-80% and mortality estimates of 3-60% in commercial settings postweaning (Wu et al., 2013; Yu et al., 2014; Gu et al., 2015; Yamane et al., 2015) and high morbidity and mortality in experimental settings (Tong et al., 2015) . Pseudorabies virus has been eradicated from commercial swine in the United States but remains a significant concern internationally, and the possibility of reintroduction is ever present and implications on morbidity and mortality could be significant.Foreign animal disease Multiple FAD present a risk for significant postweaning mortality, including African swine fever (ASF), classical swine fever (CSF), and foot and mouth disease (FMD) among others. While these diseases are not currently circulating in the United States, introduction may pose massive losses both via pathogenic mechanisms and voluntary depopulation to minimize disease spread. Possible routes of introduction could include live animals, meat, other swine swine-based products, or fomites, including feed or feed ingredients (Dee et al. 2018; Beltran-Alcrudo et al., 2019; Jurado et al., 2019; Niederwerder et al., 2019) . It has been reported that mortality following exposure to CSF ranges from 40% to 48% (Laevens et al., 1999; Dewulf et al., 2000) . During an outbreak of ASF in Nigeria in 2001, mortality estimates ranged from 76% to 91% in postweaning pigs (Babalobi et al., 2007) . Mortality associated with FMD is much lower at an estimated 2.5% (Pozzi et al., 2019) . While FAD are not currently in the United States, introduction of such diseases or novel diseases would lead to significant mortality through pathology or depopulation to control disease spread, loss of trade access, and economic and social implications.When the burden of infectious etiologies is too great to effectively manage, elimination of disease is often attempted. Elimination protocols often involve elimination of offending pathogen(s) from the sow farm producing weaners followed by weaning uninfected pigs to a depopulated, clean site. Sow farm elimination is by not introducing naïve animals for the time period sufficient for immune clearance to eliminate the pathogen and/ or reduce shedding to levels that are not infective for susceptible animals when introduced. These protocols often involve periodic vaccination of the herd during the closure period and, with some bacteria, whole-herd antimicrobials prior to the Additionally, lice and mange can be managed with elimination but will not be discussed further as they currently do not lead to significant levels of postweaning mortality when using modern, confinement production practices. Mycoplasma hyopneumoniae Mycoplasma spp. are very common organisms that lead to a number of disease processes, including an important role in PRDC through interactions with coetiologies. Clinical enzootic pneumonia is caused by MHP, historically the most important Mycoplasma sp. and a major contributor to PRDC (Pieters and Maes, 2019) . The identification of MHP in swine is very common (Maes et al., 2000; Choi et al., 2003; Kukushkin and Okovytaya, 2012; Merialdi et al., 2012; Vangroenweghe et al., 2015; USDA, 2016) . Clinical presentation of MHP can be asymptomatic but also can result in clinical disease without coetiologies. More commonly, disease results due to multifactorial infections (Thacker and Minion, 2012) . Vaccination for MHP has variable impact on absolute mortality in field trials, ranging from slightly greater mortality to a reduction in mortality of 4% or a relative reduction up to 100% (Bilic et al., 1996; Maes et al., 1998; Maes et al., 1999; Pallares et al., 2000; Stipkovits et al., 2003; Holyoake et al., 2006; Tzivara et al., 2007; Tassis et al., 2012; Kristensen et al., 2014) . Commercial production records from flows that were MHP negative had an absolute finishing mortality that was 1.26% lower compared with MHP-positive flows (Silva et al., 2019) . Efforts have been directed toward MHP elimination from sow populations in recent years, and the probability of a sow herd being negative for MHP 1 year following herd closure has been reported to be 83% (Silva et al., 2019) . Elimination protocols using whole-herd medication without herd closure have been implemented but with lower success rates (Silva et al., 2019) .Porcine reproductive and respiratory system virus Clinical disease associated with PRRSV in postweaning pigs include respiratory disease, reduced growth rate, and increased mortality (Zimmerman et al., 2019) . Coinfections with other respiratory viruses and bacteria are common with PRRSV infections. Disease associated with PRRSV is very common within the United States (Choi et al., 2003; Tousignant et al., 2015; USDA, 2016) . Additionally, clinical disease associated with PRRSV has a very predictable seasonal pattern with greatest weekly incidence occurring during the fall and winter (Tousignant et al., 2015) . Porcine reproductive and respiratory syndrome virus seropositive herds were associated with low grow-finish performance [including average daily gain (ADG), gain-feed ratio (G:F), mortality, and carcass weight] compared with PRRSV seronegative herds (Fablet et al., 2018) . Porcine reproductive and respiratory syndrome virus status at the time of weaning had a significant impact on postweaning mortality, with positive batches of animals having a median relative increase in mortality of 34% over the expected mortality of the system, meaning that absolute mortality would be 1.8% greater in PRRSV-positive batches of animals compared with PRRSV-negative batches (Alvarez et al., 2015a) . Additionally, grow-finish pigs that were PRRSV positive at weaning have been shown to have the greatest mortality, followed by pigs that became PRRSV positive at some point during the grow-finish period and pigs that were PRRSV negative throughout (9.3%, 7.4%, and 6.0% mortality, respectively; Holtkamp et al., 2013) . Vaccination for PRRSV in field trials has been shown to reduce absolute mortality by 4-17% or a relative reduction of 55-93% (Mavromatis et al., 1999; Park et al., 2014; Jeong et al., 2018) . In one report where a vaccination program was initiated following a PRRSV outbreak in a sow farm, nursery mortality was reported to be 9.3% during the first 18 wk of the outbreak and was reduced to 2.2% 19 wk later following resolution of clinical disease (Kvisgaard et al., 2017) . Morbidity rates have been reported to range from 45% to 100%, with 20-100% mortality (Tong et al., 2007; Lyoo et al., 2015; Liu et al., 2017; Dong et al., 2018) . Porcine reproductive and respiratory syndrome virus is a very common and frustrating virus that results in respiratory disease among other disorders. The major impact of PRRSV on postweaning pigs is the contribution to PRDC, which can lead to significant mortality.Clinical disease associated with IAV is common (Loeffen et al., 1999; Choi et al., 2003; USDA, 2016) , and morbidity within a population can be high. Synergistic effects have been observed with both bacteria and viruses in conjunction with IAV (Van Reeth and Vincent, 2019). Morbidity and mortality range significantly depending on situation-specific factors, including immunity, other infectious agents present, and management/control factors being implemented. When acting alone, IAV does not often lead to substantial mortality. Interactions with other infectious agents often are an outcome of IAV infections that can lead to mortality. Influenza status at the time of weaning had a significant impact on postweaning mortality, with positive batches of pigs having a median increase in relative mortality of 13% over the expected mortality of the system (Alvarez et al., 2015a) . Infection with IAV is extremely common, and a large percentage of pigs are exposed at some point in their lifetime. Morbidity estimates vary greatly but are of little value without consideration of other infectious agents. Morbidity estimates have been reported to increase by 2-100% when exposed to various IAV biotypes, and mortality has been reported to range from 1% to 10% (Ma et al., 2010; Welsh et al., 2010; Markowska-Daniel et al., 2013) . IAV is a common infectious agent providing a significant contribution to PRDC and subsequent mortality.Nondysentery Brachyspira spp. Disease caused by nondysentery Brachyspira spp. include porcine intestinal spirochetosis caused by Brachyspira pilosicoli (Trott et al., 1996; Hampson, 2018b) , as well as colitis caused by Brachyspira murdochii and Brachyspira intermedia (Hampson and Burrough, 2019) . Infection with B. pilosicoli has been reported to result in reduced growth performance with watery diarrhea (Hampson, 2018b) , with morbidity between 5% and 15% in growing pigs with mortality approximately 1% (Thomson et al., 1998) . Additionally, colitis caused by B. murdochii and B. intermedia is thought to be self-limiting and leads to minimal morbidity and mortality (Hampson and Burrough, 2019) . The impact on morbidity and mortality attributed to nondysentery Brachypira spp. is relatively minimal compared to swine dysentery.Coronaviruses Swine enteric coronaviruses (SEC) are enveloped viruses including PEDV, TGEV, and PDCoV. Porcine respiratory coronaviruses are believed to be derived from TGEV through the deletion of a spike gene and were first described in the 1980s (Saif et al., 2019) . The clinical significance of porcine respiratory coronavirus has been much lower compared with enteric coronaviruses, and additional information can be found elsewhere. Enteric coronaviruses replicate within the enterocytes of the small intestine, leading to profound epithelial necrosis, villus atrophy, severe maldigestive, and malabsorptive diarrhea (Saif et al., 2019) . The age when pigs are infected impacts on morbidity and mortality, with morbidity and mortality nearly 100% in pigs less than 7 d of age, 60-85% morbidity with low mortality if infected from 14 to 28 d of age, and lesser morbidity and mortality thereafter (Shibata et al., 2000; Madson et al., 2014) . When comparing postweaning batches of pigs either PEDV positive or PEDV negative, it has been shown that PEDV-positive batches have a mean increase in mortality of 2-11% compared with PEDV-negative batches (Alvarez et al., 2015b; Yamane et al., 2016) . Swine enteric coronaviruses lead to very high morbidity and mortality rates in young pigs, with less severe impacts postweaning. Nonetheless, SEC can result in substantial postweaning morbidity and mortality.Multiple postweaning mortality infectious causes have not been aggressively controlled through depopulation or elimination methods. Reasoning for lack of depopulation or elimination efforts are due to the high efficacy of immunization (e.g., PCV2) or are extremely common inhabitants of swine and/or the environment. Multiple infectious agents within this category can result in mortality without coinfections, while others are commonly associated with coinfections leading to multifactorial disease. However, most of these organisms do have noninfectious risk factors for disease expression. Protozoa such as Cystoisospora suis and Eimeria spp. can occasionally result in diarrhea postweaning, but clinical disease has much greater significance preweaning (Lindsay et al., 2019) . Additionally, nematodes such as Ascaris suum and others are common if swine have access to dirt and can be managed with anthelmintic drugs (Brewer and Greve, 2019) . Protozoa and nematodes can be minor factors contributing to postweaning mortality in modern, intensive swine production systems but will not be discussed further.Streptococcus spp. While Streptococcus spp. are often present in healthy animals, significant disease can result, most commonly associated with S. suis (MacInnes et al., 2008; USDA, 2016) . Infection with PRRSV has been shown to increase susceptibility to S. suis infection (Thanawongnuwech et al., 2000; Li et al., 2019) . Systemic infections (sepsis or septicemia) result in multiple disease processes, including meningitis, polyserositis (epicarditis, pleuritis, and peritonitis), synovitis, arthritis, endocarditis, encephalitis, abortions, and abscesses (Staats et al., 1997) . It has been observed that pigs are more likely to die due to S. suis if one or more littermates died during the nursery phase (Hopkins et al., 2018) . Additionally, mortality associated with S. suis during the study period was shown to be less in offspring from sow's second litter compared with the first (Hopkins et al., 2018) . Together, these results suggested that mortality in a farm experiencing S. suis-related disease is associated with maternal influence. Vaccines have been shown to reduce relative postweaning mortality from 21% to 51% compared with nonvaccinated cohorts (Pejsak et al., 2001; Hopkins et al., 2019) . It has been reported that morbidity ranges are highly variable from less than 0.3-80% but most commonly below 5% (St. John et al., 1982; Staats et al., 1997) with an associated case fatality risk of 2-100% (St. John et al., 1982) based on a number of cofactors. This wide range of morbidity and mortality estimates can be at least partially attributed to the confounded nature of multiple bacterial agents typically involved and difficulty identifying certain pathological manifestations. Treatment has been reported to be successful when performed early with mortality ranging from 0% to 5%, but herd mortality has been reported to be as high as 20% in some situations (Staats et al., 1997; Torremorell et al., 1997; Villani et al., 2003; Hopkins et al., 2018) . Streptococcus suis is a common infectious agent identified in swine production settings and can lead to substantial postweaning morbidity and mortality.Glasserella (formerly Haemophilus) parasuis Glasser's disease is caused by this gram-negative bacterial species, characterized by fibrinous polyserositis and septicemia with tissue localizations in brain, joints, or lungs (Aragon et al., 2019) . Glasserella parasuis is commonly present and can lead to significant mortality in populations of animals with no previous exposure. This diverse organism is a common inhabitant of the nasopharyx (Smart et al., 1989; Choi et al., 2003; MacInnes et al., 2008; USDA, 2016) but, when sepsis occurs, presents with clinical signs similar to signs observed with S. suis. Like S. suis, G. parasuis may interact with PRRSV to contribute to PRDC (Kavanova et al., 2017) , although clear evidence of such an interaction was not observed by Solano et al. (1997) . Vaccination of sows with an autogenous G. parasuis vaccine has been shown to reduce offspring nursery mortality (1.4-2.1% monthly mortality for control vs. 0.5-0.9% monthly mortality for vaccinated; McOrist et al., 2009 ). An important consideration when interpreting results of any vaccination trial for this or other pathogens is the potential for underlying publication bias, as well as confounding factors. Mortality rates can range from 5% to 10% in herds with previous exposure (Nielsen and Danielsen, 1975; Smart et al., 1993; Aragon et al., 2019) and up to 75% in naïve herds (Aragon et al., 2012) .Pasteurella multocida Clinical disease associated with P. multocida occurs as either upper respiratory tract disease known as progressive atrophic rhinitis (PAR, commonly serotype D) or lower respiratory tract pneumonia (commonly serotype A). Pasteurella multocida can be commonly isolated from the respiratory tract of pigs and is historically very important due to PAR. Progressive atrophic rhinitis is caused by specific toxin-producing strains of P. multocida that either alone or in combination with Bordetella bronchiseptica can lead to destruction of the nasal turbinates and deformation of the snout . The occurrence of PAR is now relatively rare, and elimination strategies have been successful over time.Generally, P. multocida alone is poorly effective at attaching and colonizing lower respiratory epithelium. When damage to the respiratory mucosa and debris-clearing mechanism occurs, colonization can occur leading to pneumonia . Thus, pneumonia due to P. multocida is largely dependent on other infectious agents to compromise pulmonary clearance or establish the early stages of clinical disease and, then, secondarily colonizes and contributes to disease. Vaccination with both inactivated P. multocida and B. bronchiseptica antigen has been shown to reduce postweaning mortality (5.3% for vaccinated group vs. 10.1% for unvaccinated group; Stojanac et al., 2013) . Pasteurella multocida-associated disease has resulted in mortality from 5% to 40% in pigs of all ages (Pijoan and Fuentes, 1987; Cameron et al., 1996; Register et al., 2012) . Like many respiratory infectious agents, providing specific estimates of mortality is difficult and dependent on a number of population-specific factors, including the presence of coinfections. The overall incidence of progressive atrophic rhinitis is very low with multisite, all-in/all-out production.Bordetella bronchiseptica The primary agent associated with reversible, nonprogressive atrophic rhinitis is the gram-negative rod bacteria B. bronchiseptica . The presence of P. multocida, with or without B. bronchiseptica, results in much more severe progressive atrophic rhinitis . Bordetella bronchiseptica is associated with respiratory disease as a primary cause of pneumonia through colonization enhanced by other infectious agents, such as IAV and through enhancing colonization of other infectious agents (Loving et al., 2010; Brockmeier et al., 2019) . Bordetella bronchiseptica is commonly isolated from the respiratory tract of pigs (Choi et al., 2003; Zhao et al., 2011; Kumar et al., 2014) and can contribute to multifactorial disease processes historically, including atrophic rhinitis and most commonly PRDC. Estimates of morbidity and mortality are not available largely due to the complex multifactorial nature of resulting disease.Other Mycoplasma spp. Additional Mycoplasma spp. are commonly isolated and associated with disease processes in swine, including Mycoplasma hyosynoviae resulting in arthritis in grow-finish pigs, Mycoplasma hyorhinis resulting in polyserositis and arthritis, and Mycoplasma suis resulting in loss of red blood cells (Pieters and Maes, 2019) . While estimates of the impact on morbidity and mortality are not available, the magnitude of effect is believed to be relatively low.Actinobacillus suis Sepsis due to A. suis can be very severe, but A. suis has a lower attack rate compared to APP. Isolation of A. suis is common in the upper respiratory organism of pigs (Gottschalk and Broes, 2019) . Infection with A. suis has been described to lead to significant preweaning pig mortality (Sanford et al., 1990) . This organism is associated with acute sepsis, serositis, and pneumonia in all stages postweaning, with or without other identified cofactors. The clinical significance is historically less in postweaning populations compared to APP, with little information available regarding estimates of magnitude of effect.Lawsonia intracellularis Clinical disease due to L. intracellularis is known as ileitis, garden hose gut, or porcine proliferative enteropathy (Vannucci et al., 2019) . Lawsonia intracellularis is a common organism (Chang et al., 1997; Chiriboga et al., 1999; Stege et al., 2000; Jacobson et al., 2005; Biksi et al., 2007; Dors et al., 2015; Weber et al., 2015; USDA, 2016) affecting postweaning pigs. Vaccination for L. intracellularis in field trials has shown variable effects ranging from slightly increased mortality with vaccination to reduction of absolute mortality by up to 16% or a relative reduction of 91% (Almond et al., 2006; Deitmer et al., 2011; Peiponen et al., 2018) . Morbidity rates in cases of hemorrhagic enteropathy can range from 12% to 50%, and up to 50% of animals affected may result in mortality (Lawson and Gebhart, 2000; Kroll et al., 2005) , whereas chronic disease can result in mortality around 1% (Lawson and Gebhart, 2000; Pejsak et al., 2009) . Lawsonia intracellularis is common in swine herds and, in nonvaccinated populations, can cause moderate levels of morbidity and mortality as a result of acute and chronic manifestations of disease.Clinical disease due to Salmonella spp. are primarily due to Salmonella enterica serotype typhimurium and S. enterica serotype choleraesuis (Griffith et al., 2019) . Hostadapted Salmonella choleraesuis affects postweaning pigs and results in septicemia (Griffith et al., 2019) , whereas Salmonella typhimurium is more like to be manifested with diarrhea and dehydration. In the United States, S. typhimurium is isolated with greater frequency compared to S. choleraesuis (Foley et al., 2008; Griffith et al., 2019) . The mortality associated with S. typhimurium is reportedly low (Griffith et al., 2019) , although specific estimates are not available. Cases of S. choleraesuis often result in a morbidity of <10% with a high case fatality risk (Griffith et al., 2019) . Pedersen et al. (2015) reported mortality ranging from 20% to 30% in Danish herds following an outbreak of S. choleraesuis. Due to the zoonotic nature of Salmonella, numerous studies have investigated Salmonella prevalence in swine populations, which are widely available in published literature. One recent report describes such changes from 1997 to 2015, reporting an increase in the prevalence of S. enterica serovar 4,[5],12:i- (Yuan et al., 2018) , and has been associated with clinical disease (Shippy et al., 2018; Naberhaus et al., 2019) . Other Salmonella spp. remain important potential contributors to postweaning mortality with the additional ever-present risk of zoonosis.Escherichia coli Multiple disease processes in postweaning pigs are a result of the gram-negative bacterium, including postweaning diarrhea, edema disease, and septicemia/endotoxemia, (Fairbrother and Nadeau, 2019) . A case-control study comparing 50 Canadian nurseries with and without postweaning E. coli was performed and found that the mortality in case farms was 7.7% compared to 1.8% in control farms (Amezcua et al., 2002) . Postweaning diarrhea can result in mortality up to 25% but is more commonly much lower ranging from 1.5% to 2% (Fairbrother and Nadeau, 2019) . Escherichia coli is a common enteric infectious agent that results in morbidity in postweaning pigs. The magnitude on mortality is often mild to moderate but can be more severe in select cases.The edema caused by STEC is due to toxin production that enters the circulatory system and damages blood vessel walls, leading to fluid leakage into extravascular tissues (Fairbrother and Nadeau, 2019) . Edema disease is relatively infrequent (USDA, 2016) . Sporadic mortality can occur with a case mortality rate from 50% to 90% (Fairbrother and Nadeau, 2019) . Edema disease secondary to toxin production by STEC is relatively uncommon and is not a major contributor to postweaning mortality.Rotaviruses Multiple rotavirus groups have been identified, with rotavirus A being the most common and pathogenic to pigs, B being less common, and C primarily affecting preweaning pigs (Shepherd et al., 2019) . Rotavirus infections also occur with other etiologies, increasing the severity of disease (Shepherd et al., 2019) . Viral replication occurs within the epithelium of the intestine, leading to villus blunting and reduced absorptive capacity. Rotavirus C has been reported to cause 60-80% morbidity in feeder pigs with no mortality (Kim et al., 1999) . Morbidity associated with mixed rotavirus infections has been reported to be as high as 70%, with mortality rates as high as 11% (Molinari et al., 2016) . Research has also used molecular diagnostic techniques to characterize the presence of rotavirus from postweaning pigs with diarrhea (Martella et al., 2007; Lorenzetti et al., 2011) . A common presentation of rotavirus infections occurs within the preweaning period as piglet diarrhea but can be a contributing etiology to postweaning diarrhea also. Rotavirus can result in significant malabsorptive diarrhea in postweaning pigs due to villous blunting and, especially in the presence of coinfections, can be a contributor to postweaning mortality from other causes, such as colibacillosis, salmonellosis, or inanition.Hemorrhagic bowel syndrome Hemorrhagic bowel syndrome (HBS), also known as intestinal hemorrhage syndrome, porcine intestinal distention syndrome, or bloody gut, presents as sudden death in combination with abdominal distention and red discoloration of the intestine similar to mesenteric torsion (Grahofer et al., 2017; Thomson and Friendship, 2019) . The reported distinguishing factor from a mesenteric torsion is that no clear torsion is evident upon initial examination with HBS. Distention of the intestines without mesenteric torsion is believed to be associated with highly fermentable diet, such as liquid whey, leading to increased intra-abdominal pressure and reduced venous blood flow (Thomson and Friendship, 2019) , although various other contributing factors have been described, including infectious etiologies (Novotny et al., 2016; Grahofer et al., 2017) . Historically, HBS has been reported to account for approximately 2-5% of yearly finishing pig mortality and as severe as 10-20% mortality in the 1960s and 1970s (Straw et al., 2002) . HBS as an independent disease process from torsion remains speculative because, in many cases, thorough evaluation will identify organ volvulus and/or torsion. There is currently no consensus regarding the cause of HBS in finishing pigs. It is clear that mortality does occur due to abnormalities that have been historically classified due to gross appearance as HBS. Further understanding of the complex pathophysiology is necessary, as well as astute postmortem examination, to accurately identify the cause of mortality.Staphylococcus spp. Although Staphylococcus spp. are nearly ubiquitous in commercial swine production, clinical disease is relatively infrequent. Two primary etiologies cause disease in swine, including exudative epidermitis (greasy pig disease) caused by S. hyicus and multiple disease processes caused by S. aureus (Frana and Hau, 2019) . Greasy pig disease due to S. hyicus has been reported to cause 14% morbidity in nursery pigs, with 5% mortality (Arsenakis et al., 2018) . Additionally, S. aureus occasionally is associated with skin infections, septicemia, osteomyelitis, and endocarditis (Frana and Hau, 2019) but is not an infectious agent of major clinical relevance in swine. The primary concern regarding S. aureus is swine acting as a reservoir for the zoonotic methicillin-resistant S. aureus (Frana and Hau, 2019) , and prevalence estimates have been described by Sun et al. (2015) . Staphylococcus spp. are extremely common organisms; however, the clinical significance today is much reduced compared to historical magnitudes of effect.Erysipelothrix rhusiopathiae Clinical disease associated with E. rhusiopathiae commonly known as erysipelas include septicemia, infectious arthritis, endocarditis, and skin lesions (Opriessnig and Coutinho, 2019) . Erysipelothrix rhusiopathiae is present globally and is estimated that it can be isolated from the tonsils of 30-50% of apparently healthy pigs (Opriessnig and Coutinho, 2019) . The yearly incidence from 1972 to 1979 in Minnesota ranged from 0 to 99 cases per 1,000 farrow-to-finish pigs (Wood et al., 1984) . More recently, outbreaks in naïve populations can have mortality ranging from 20% to 40% in extreme cases (Opriessnig and Coutinho, 2019) . The estimates of morbidity and mortality in nonnaïve outbreaks are variable and have not been clearly determined. Thus, E. rhusiopathiae remains a threat for significant morbidity and mortality in naïve or improperly vaccinated populations but is not commonly a cause of significant postweaning mortality.Porcine circovirus Porcine circovirus has multiple types, including the nonpathogenic type 1 and PCV2 and, recently, type 3 has been identified as associated with clinical disease (Palinski et al., 2016; Segales et al., 2019) . Manifestations of porcine circovirus-associated disease (PCVAD) include PCV2 systemic disease (PCV2-SD, formerly postweaning multisystemic wasting syndrome), PCV2 reproductive disease (PCV2-RD), porcine dermatitis and nephropathy syndrome, and subclinical infections . Porcine circovirus type 2 has been commonly demonstrated to be present in PRDC-affected swine along with multiple other coetiologies (Kim et al., 2003; Hansen et al., 2010; Wellenberg et al., 2010; Ouyang et al., 2019) . It is currently believed that respiratory disease associated with PCV2 are due to PCV2-SD and not primary lung pathology (Fablet et al., 2012b; Tico et al., 2013; Segales et al., 2019) .Widespread use of PCV2 vaccines is due to their efficacy in reducing clinical disease and mortality. A meta-analysis was published in 2011 comparing the efficacy of PCV2 vaccines at reducing postweaning mortality, which found that vaccination results in an absolute reduction of nursery-finish mortality of 5.4% and reduction of finish mortality of 4.4% (Kristensen et al., 2011) . Across field studies identified in this review, the magnitude of impact on absolute mortality associated with PCV2 vaccination ranged from 0% to 24% or up to 75% relative reduction (Cline et al., 2008; Fachinger et al., 2008; Horlen et al., 2008; Kixmoller et al., 2008; Desrosiers et al., 2009; Neumann et al., 2009; Segales et al., 2009; Pejsak et al., 2010; Takahagi et al., 2010; Jacela et al., 2011; Venegas-Vargas et al., 2011; Young et al., 2011; Fraile et al., 2012; Lee et al., 2012; Potter et al., 2012; Han et al., 2013; Heibenberger et al., 2013; Sidler et al., 2012; Potter et al., 2014; Jeong et al., 2015; Martelli et al., 2016; Villa-Mancera et al., 2016; Czyzewska-Dors et al., 2018) . Herds with high PCV2 antibody titers have been associated with reduced grow-finish performance (combined ADG, G:F, mortality, and carcass weight) compared to herds with lower PCV2 titers (Fablet et al., 2018) . PCV2-SD had been shown to result in morbidity ranging from 1.6% to 60% and mortality ranging from 3% to 56% (Jemersic et al., 2004; D'Allaire et al., 2007; Horlen et al., 2007; Carman et al., 2008; Nielsen et al., 2008; Neumann et al., 2009; Pejsak et al., 2010; Woodbine et al., 2010; Shelton et al., 2012; Segales et al., 2019) . PCV2 is a very common infectious agent that can lead to significant morbidity and mortality in unvaccinated populations.Neurological syndromes associated with viral agents In recent years, an increase in the incidence of neurological syndromes has been observed and, in many cases, associated with diagnosis of viral infectious agents. This is still an area of ongoing research efforts, but multiple viruses recently have been associated with neurological syndromes, including porcine sapelovirus (Schock et al., 2014; Arruda et al., 2017b) , porcine astrovirus type 3 (Boros et al., 2017; Rawal et al., 2019; Matias Ferreyra et al., 2020) , and porcine teschovirus (Bangari et al., 2010; Deng et al., 2012; Carnero et al., 2018) . The recently described atypical porcine pestivirus has been associated with congenital tremors (de Groof et al., 2016; Postel et al., 2016; Schwarz et al., 2017) but is not believed to be a major contributor to postweaning mortality . Other viruses that can cause neurological conditions include PRV, classical swine fever, Japanese encephalitis virus, and PRRSV among others (Madson et al., 2019) , but the current focus will be pertaining to porcine sapelovirus, porcine astrovirus type 3, and porcine teschovirus.A recent investigation into neurological signs, including ataxia, paresis, and paralysis in 11-wk-old pigs, associated with porcine sapelovirus reported a morbidity of 20% and a case fatality rate of 30% (Arruda et al., 2017b) . Porcine astrovirus type 3 has been reported to result in 1.5-4% mortality in weaned pigs (Boros et al., 2017) , and a separate investigation reported a 75% case fatality rate (Arruda et al., 2017a) . Porcine teschovirus has been reported to result in morbidity ranging from 3% to 60% with a case fatality rate of approximately 60% (Bangari et al., 2010; Deng et al., 2012; Carnero et al., 2018) . There are a number of neurologic cases that never have a confirmed cause, and a significant amount of information remains unknown regarding the prevalence and clinical impact of these viruses.. Finally, it is human nature to lump and categorize observations based on previous experiences and personal bias based on similar clinical presentation. Such diagnoses many times do not have sufficient evidence to derive such interpretations. This is by no means specific to neurologic diagnoses. It is important to recognize limitations in our knowledge base and accept that establishing a clear diagnosis is often challenging. This becomes very important when evaluating mortality data and attempting to make clinical decisions among the complexity of interactions between infectious and noninfectious factors contributing to mortality.In conclusion, various strategies have been used to control infectious disease in swine, including depopulation, elimination, and less aggressive measures. Depopulation and elimination practices have been shown to be successful and clearly have a significant impact on morbidity and mortality reduction in affected populations. Important diseases and their infectious agents that have been a focus to eliminate through herd depopulation or elimination should continue to be a focus to have the greatest impact on minimization of postweaning mortality. \n",
            "10000\n"
          ],
          "name": "stdout"
        }
      ]
    },
    {
      "cell_type": "code",
      "metadata": {
        "colab": {
          "base_uri": "https://localhost:8080/"
        },
        "id": "0nJPtWzubRnr",
        "outputId": "9dc97b6d-2bfb-4b41-9a1b-dd0325b6f3f0"
      },
      "source": [
        "batch_size = 10000\n",
        "current_start_ind = 0+batch_size\n",
        "\n",
        "corpus_batch1 = create_corpus_batch(files, batch_start = current_start_ind, batch_size = batch_size, N= N)"
      ],
      "execution_count": null,
      "outputs": [
        {
          "output_type": "stream",
          "text": [
            "10000it [53:35,  3.11it/s]\n"
          ],
          "name": "stderr"
        }
      ]
    },
    {
      "cell_type": "code",
      "metadata": {
        "colab": {
          "base_uri": "https://localhost:8080/"
        },
        "id": "ktSj0XLhoIbR",
        "outputId": "8c979ec8-2f36-4e24-eea8-56b6ef9d1cab"
      },
      "source": [
        "print (len(corpus_batch1.split('\\n')))\n",
        "print (corpus_batch1.split('\\n')[0])"
      ],
      "execution_count": null,
      "outputs": [
        {
          "output_type": "stream",
          "text": [
            "10000\n",
            "Molecular Epidemiology and Sequencing of the G-L Intergenic Region of RabiesViruses Isolated in China* A group of 25 rabies viruses (RABVs), recovered from 24 dogs and one human case, were collected from various areas in China between 2004 and 2006. Genetic and phylogenetic analyses of the G-L intergenic region were carried out in 25 street RABV isolates and CTN vaccine strains of 7generations. The study was based on the comparison of a 519 bp nucleotide sequence, encompassing the G-L intergenic region. The nucleotide sequence homologies of Chinese street strains were from 95.5% to 100%. The phylogenetic analysis showed that all Chinese isolates clearly supported the placement of all Chinese viruses in Lyssavirus genotype 1 and they were distributed according to their geographical origins. All of the Chinese strains were closely related but they could still be divided into two groups: group of street strains and group of CTN strains. This study presents details about the molecular epidemiology of rabies viruses based on the sequences of the G-L Intergenic region.Rabies is an acute, progressive, incurable viral encephalitis, caused by a single stranded RNA virus belonging to the genus Lyssavirus of the family Rhabdoviridae. Human mortality from endemic canine rabies is estimated to be 55 000 deaths per year with 56 % of the deaths estimated to occur in Asia and 44% in Africa (14). While many distinct RABV variants are harbored by a variety of mammalian host species, the main transmission route for human rabies in the developing world is a rabid dog bite: between 94% and 98% of human rabies deaths are due to canine rabies (2) .In China, there were 110 983 human rabies cases and three major epidemic peaks between 1950 and 2005. These human cases occurred mainly in poor, rural areas and were transmitted by dogs. The first epidemic occurred in the mid 1950s when cases rose to a peak of about 2 000 annually. After a decline in the 1960s, cases again started to increase in the early 1970s reaching a peak in 1982 but remaining at levels of 5-6 000 cases per year till the end of the decade (16) . Since the vast majority of cases have been due to canine rabies, an extensive dog Evolutionary studies of lyssaviruses have tended to focus on the N protein, a well conserved structural protein, and the G protein which forms the envelope and capsid of the virus. The G protein contains domains responsible for host cell receptor recognition and membrane fusion and is the major target for the host neutralizing-antibody response (1) , and the G-L intergenic region or pseudogene (Ψ) which is a noncoding region, highly variable, not subject to immunological selective pressure, and has therefore been used in studies of molecular epidemiology of the rabies virus (11) . All the brain samples were tested for rabies virus by Total RNA was extracted by TRIzol(Invitrogen, Carlsbad, CA, USA), from brain tissue of naturally infected animals for PCR assay according to the manufacturer's instructions.Reverse transcription(RT) of viral RNA was Per- Between 2004 and 2006, from the total of 381 dogs, 80 cats, 100 bats and a human brain samples examined, the rabies infection were confirmed in 24 dogs and one human brain samples (Table 1) Table 3 Nucleotide homology (%) and Std. Err. of the G-L intergenic regions of some rabies viruses  \n"
          ],
          "name": "stdout"
        }
      ]
    },
    {
      "cell_type": "code",
      "metadata": {
        "id": "PImsnoyMoQxw"
      },
      "source": [
        "with open(os.path.join(wd, 'corpus_batch2.txt'),'w') as f:\n",
        "  f.write(corpus_batch1)"
      ],
      "execution_count": null,
      "outputs": []
    },
    {
      "cell_type": "code",
      "metadata": {
        "colab": {
          "base_uri": "https://localhost:8080/"
        },
        "id": "bydDO1O8oeoJ",
        "outputId": "bf33edd3-0c24-4542-b72b-7e8a7f415364"
      },
      "source": [
        "batch_size = 10000\n",
        "current_start_ind = 0+(2*batch_size)\n",
        "\n",
        "corpus_batch1 = create_corpus_batch(files, batch_start = current_start_ind, batch_size = batch_size, N= N)"
      ],
      "execution_count": null,
      "outputs": [
        {
          "output_type": "stream",
          "text": [
            "10000it [55:08,  3.02it/s]\n"
          ],
          "name": "stderr"
        }
      ]
    },
    {
      "cell_type": "code",
      "metadata": {
        "colab": {
          "base_uri": "https://localhost:8080/"
        },
        "id": "HuKKosye0KK1",
        "outputId": "e02d3d3a-ef1b-4f84-978d-ddd7e6fcce14"
      },
      "source": [
        "print (len(corpus_batch1.split('\\n')))\n",
        "print (corpus_batch1.split('\\n')[0])"
      ],
      "execution_count": null,
      "outputs": [
        {
          "output_type": "stream",
          "text": [
            "10000\n",
            " www.thelancet.com/hiv Published online May 28, 2020 https://doi. In the ongoing pandemic of COVID-19, nearly 5 million people have been diagnosed with severe acute respiratory syndrome coronavirus 2 (SARS-CoV-2) infection and more than 320 000 people have died. SARS-CoV-2 infection causes lymphopenia and immune-mediated cytokine storm syndrome, resulting in pathological changes in lungs, heart, liver, and other organs. 3 suggest that patients with HIV often have lower risks of infection and progress to severe disease, which might be because of suppression of coronavirus replication by antiretroviral therapy (ART), but longer duration of disease, which might be because of their status of immune suppression. People with HIV might be at an increased risk of SARS-CoV-2 infection or severe COVID-19, especially those with comorbidity, lower CD4 count, or high HIV RNA load. 4 By contrast, the immunosuppression and low CD4 count might protect HIV-1-infected individuals from developing the cytokine storm observed in patients with COVID-19. 5 In The Lancet HIV, Pilar Vizcarra and colleagues 6 present the infection rate and clinical characteristics of COVID-19 among 2873 HIV-infected individuals in Madrid, in whom there were 35 confirmed (with SARS-CoV-2 RT-PCR testing) and 16 clinically diag nosed cases of COVID-19. 6 The authors compared the characteristics of patients with HIV with or without SARS-CoV-2 infection. Among people with HIV, body-mass index was higher in those with COVID-19 (median 25·5 kg/m² [IQR 22·1-28·0]) than in those without (23·7 kg/m² [21·5-26·0]; p=0·021). Chronic comorbidities were also more common in those with COVID-19: 32 (63%) of 51 compared with 495 (38%; p=0·0006), including hypertension (p<0·0001) and diabetes (p=0·0011).Of the 51 HIV-infected individuals with COVID-19, the median most recent CD4 count was 565 cells per µL (IQR 296-782). All of them had received ART, and plasma HIV-RNA was fully suppressed (<50 copies per mL) in 50 patients (98%). Notably, previous administration of ART, nadir CD4 count, CD4/CD8 ratio, or pre-existing comorbidities were not significantly different in recovered versus still-admitted individuals. The rate of PCR-confirmed SARS-CoV-2 infection was 1·2% (95% CI 0·8-1·7) in the cohort of HIV-1-infected individuals, which is higher than the rate of 0·92% (0·91-0·93) in the Madrid general population. Furthermore, the rate of infection was similar or slightly higher than that in an HIV-1-infected cohort in Wuhan (0·68% [0·29-1·34]). 5 Vizcarra and colleagues 6 did not identify an association of the comorbidities with disease severity or outcomes. Similarly, nadir and recent CD4 count or CD4/CD8 ratio were not associated with disease severity. These results do not support the idea that there is a higher COVID-19 infection rate or more severe disease course in people living with HIV than in HIV-negative people. Indeed, in the study by Vizcarra and colleagues, 6 two of six critically ill individuals died and four survived. It is difficult to conclude that people with HIV with low CD4 counts might have worse outcomes than those with higher CD4 counts as previously speculated because of the small sample size.Furthermore, controversies still exist regarding the role of some antiretrovirals in preventing or treating COVID-19. The first randomised clinical trial with ritonavir-boosted lopinavir showed no benefit over standard care in 199 adults admitted to hospital with severe COVID-19. 7 In another cohort, eight of 947 individuals taking nucleoside reverse transcriptase inhibitors (NRTIs) plus non-nucleoside reverse transfer inhibitors (NNRTIs) were co-infected with SARS-CoV-2, with a similar rate to the general population in Wuhan, indicating that an NRTI plus NNRTI did not prevent COVID-19. 5 In Vizcarra and colleagues' cohort, 6 there was no difference in previous use of antiretrovirals in individuals with and without COVID-19. Neither nadir CD4 count nor the use of specific antiretroviral drugs affected the SARS-CoV-2 infection rate. Another study found no evidence that pre-exposure prophylaxis is effective against COVID-19. 8 All the patients with HIV in this study were already on ART and viral replication was well controlled. Therefore, the findings might not be similar in HIV-infected patients with high viral loads, low CD4 cell count, or those who have not had ART. The effect of HIV-1 coinfection on the clinical course of COVID-19 has yet to be fully understood. More large cohort studies on coinfection with HIV and SARS-CoV-2 are needed to help understand prophylaxis of opportunistic infection for patients with low CD4 counts (<200 per μL); drug-drug interaction in co-infected patients; differences in CD4 declines during COVID-19 infection between HIVinfected patients and those without HIV infection; and the effect of SARS-CoV-2 infection on HIV reservoirs. So far, there is no evidence to support that people living with HIV have a higher COVID-19 infection rate or different disease course than those without HIV-1 infection.We declare no competing interests.  \n"
          ],
          "name": "stdout"
        }
      ]
    },
    {
      "cell_type": "code",
      "metadata": {
        "id": "bqF9blde1x1z"
      },
      "source": [
        "with open(os.path.join(wd, 'corpus_batch3.txt'),'w') as f:\n",
        "  f.write(corpus_batch1)"
      ],
      "execution_count": null,
      "outputs": []
    },
    {
      "cell_type": "code",
      "metadata": {
        "colab": {
          "base_uri": "https://localhost:8080/"
        },
        "id": "Dc2lN_mn14Gy",
        "outputId": "65c512b4-2f49-4877-c0bf-608636fbfee4"
      },
      "source": [
        "batch_size = 10000\n",
        "current_start_ind = 0+(3*batch_size)\n",
        "\n",
        "corpus_batch1 = create_corpus_batch(files, batch_start = current_start_ind, batch_size = batch_size, N= N)"
      ],
      "execution_count": null,
      "outputs": [
        {
          "output_type": "stream",
          "text": [
            "10000it [53:25,  3.12it/s]\n"
          ],
          "name": "stderr"
        }
      ]
    },
    {
      "cell_type": "code",
      "metadata": {
        "colab": {
          "base_uri": "https://localhost:8080/"
        },
        "id": "gZDxf4yrCsOT",
        "outputId": "0561774a-8a9f-4a8f-b24a-0f673dd81e15"
      },
      "source": [
        "print (len(corpus_batch1.split('\\n')))\n",
        "print (corpus_batch1.split('\\n')[0])"
      ],
      "execution_count": null,
      "outputs": [
        {
          "output_type": "stream",
          "text": [
            "10000\n",
            "Prolonged RNA shedding of the 2019 novel coronavirus in an asymptomatic patient with a VP shunt Findings that shed new light on the possible pathogenesis of a disease or an adverse effect  A 33-year-old man with paranoid schizophrenia and a ventriculoperitoneal (VP) shunt was sent to our institution from an inpatient psychiatric facility due to concerns for the 2019 novel coronavirus . Per the facility, the patient had a fever and non-productive cough. On admission, the patient was afebrile and lacked subjective symptoms. A RNA reverse transcriptase PCR (RNA RT-PCR) test for COVID-19 was positive. A chest X-ray contained a small patchy opacity in the right middle lobe and another in the retrocardiac region concerning for pneumonia. Inflammatory markers were mildly elevated. He remained COVID-19 positive and asymptomatic for 36 days. This case details one asymptomatic carrier's course with persistently positive COVID-19 nasopharyngeal swabs. It demonstrates that a VP shunt could be a possible predisposition for prolonged viral shedding.In December 2019, a novel virus, COVID-19, was identified in Wuhan, China. Its origin has since been linked to a large seafood market involved in the illegal selling of live animals. 1 2 The virus has since rapidly spread throughout the world, and was declared a global pandemic by the WHO on 11 March 2020. 3 As of 21 June 2020 there are 8 708 008 total confirmed cases and 461 715 confirmed deaths globally. 4 However, the actual number of cases is believed to significantly exceed reported cases due to undiagnosed asymptomatic carriers. These asymptomatic carriers as well as pre-symptomatic individuals are essential to the virus' rapid spread with estimated infection rates of 34% and 40% according to the Centre of Disease Control. 5 However, much is still unknown about the intricate interplay between transmission, viral RNA shedding patterns, viral loads, infectivity and individual predispositions to prolong viral shedding.A 33-year-old man with paranoid schizophrenia and a ventriculoperitoneal (VP) shunt was sent to our institution from an inpatient psychiatric facility due to concerns for the COVID-19. Per the facility, the patient had a fever and non-productive cough; however, no records accompanied the patient on arrival to our emergency department. On admission, the patient was afebrile, non-tachycardic, respiratory rate was within normal limits and his oxygen saturation was 100% on room air. The remaining physical examination was unremarkable except for his psychiatric examination, which showed intermittent response to internal stimuli.Per hospital policy the following was obtained: nasopharyngeal swab for RNA RT-PCR for COVID-19, creatine kinase (CPK), C reactive protein (CRP), lactate dehydrogenase (LDH), ferritin and a chest radiograph. CRP and CPK were mildly elevated at 27.2 mg/L and 286 units/L, respectively. The LDH and ferritin were within normal limits at 221 units/L and 112.5 ng/mL, respectively. The chest radiograph demonstrated a small patchy opacity in the right middle lobe and another in the retrocardiac region concerning for pneumonia (figure 1). The following day, the patient's RNA RT-PCR returned positive for COVID-19.The patient was court-mandated to live in a long-term inpatient psychiatric facility due to poor insight into his paranoid schizophrenia. Consequently, social work was involved in the patient's case. At this point in the COVID-19 global crisis, no inpatient psychiatric facility in our system could accommodate a COVID-19 positive patient. As a result, the patient remained under the medicine service for a total of 36 days until two consecutive negative nasopharyngeal RNA RT-PCR tests were obtained. He was then discharged according to psychiatric recommendations.The patient was admitted under the medicine service to a COVID-positive unit requiring both airborne and contact precautions. At the time, there were two major treatment options for COVID-19: (1) hydroxychloroquine and (2) high-dose oral corticosteroids. Per hospital policy, if an individual had a positive nasopharyngeal swab and a positive chest radiograph, as our patient did, then they qualified for hydroxychloroquine therapy. Dosing was 400 mg two times the first day followed by 400 mg daily for 4 days. As he was asymptomatic, he did not qualify for corticosteroid therapy; his oxygen saturation remained at 100% on room air; therefore, no supplemental oxygen was needed during hospitalisation.The remainder of the patient's clinical course was complicated by placement issues with the Findings that shed new light on the possible pathogenesis of a disease or an adverse effect community outreach for psychiatric emergencies. Once appropriate placement was found, the patient was discharged with follow-up appointments scheduled with his mental health professionals and primary care physician.The novel coronavirus is an enveloped, single-stranded RNA virus that belongs to the Coronavirus family within the Betacoronavirus genus (β-CoV). It is the seventh virus of its family that has demonstrated the ability to infect humans. 1-3 6 Rapid humanto-human transmission occurs via respiratory droplets such as coughing and sneezing. Non-respiratory viral detection in the stool, blood and semen has also been observed, but transmission capability from these sites has not been established. Infectivity begins before the onset of symptoms with an estimated mean incubation period of 5 days and basic reproduction number (R 0 ) of 2.5. 5 7 This explains the well-known transmission of presymptomatic and asymptomatic individuals and the exponential spread of infection.The novel virus exhibits marked genetic structural similarity to members within its genus, notably Severe Acute Respiratory Syndrome-associated coronavirus (SARS-CoV). Despite variability among amino acid sequencing, the s-protein of the viruses maintain almost identical electrostatic properties allowing COVID-19 to use the same ACE2 receptor for viral entry as SARS-CoV. 2 The ACE2 receptors are ubiquitous throughout the human body, but are concentrated in the respiratory system, gastrointestinal tract and systemic small vessels. 8 9 These locations correlate with the well-established clinical symptomology of respiratory distress, diarrhoea, vasculitis and anosmia and dysgeusia. ACE2 receptors have also been found in the brain. β-CoVs, including SARS-CoV, have a well-documented propensity for neuroinvasion; thus, it is reasonable to believe COVID-19 shares this tendency. 10 Ren et al also showed that the most common coronaviruses may well survive or persist on surfaces in vitro for up to 1 month. 11 These surfaces include plastic, which is the material VP shunts are made out of. Therefore, one can postulate that COVID-19 may have neuroinvasive potential based on its affinity to the ACE2 receptor, and potentially could have prolonged viral survival on the plastic of a VP shunt in vivo. This pathophysiology may explain why our patient with a VP shunt had prolonged viral shedding thus illustrating a VP shunt as a possible predisposition for prolonged viral shedding and a potential viral niche for COVID-19.The precise duration and relationships between transmission, viral shedding and infectivity are uncertain. The length of viral shedding is variable and may depend on disease severity. In a retrospective cohort analysis of 191 patients, viral shedding ranged from 8 to 37 days with a median duration of 20 days. 12 Another study of 96 patients revealed a median of 21 days in patients with severe disease compared with 14 days in those with mild disease. 13 Additional factors associated with extended viral shedding include the male sex, delayed hospital treatment, mechanical ventilation and treatment with glucocorticoids. 14 The longest reported viral shedding is 60 days in a 47-year-old woman including her symptomatic course and ongoing recovery. 15 To our knowledge, our case of viral shedding for 36 days is the longest reported in a relatively young, asymptomatic patient or in a patient with a VP shunt demonstrating a VP shunt as a possible predisposition for prolonged viral shedding and possible asymptomatic infectivity. However, further studies and case reports are needed to draw this conclusion.► A VP shunt may predispose individuals to prolonged viral shedding of the novel coronavirus. ► Further insight into prolonged viral shedding is warranted to know whether this shedding leads to infectivity. ► For persistently positive patients, consider all risk factors for prolonged infectivity.Contributors FE-B, DG and AF were all involved in this project. All provided substantial contributions to the conception of case report, drafted the original work and revised the copy, all approved the final project and agreed to be accountable for all aspects of the work ensuring that questions related to the accuracy or integrity of any part of the work.The authors have not declared a specific grant for this research from any funding agency in the public, commercial or not-for-profit sectors.Competing interests None declared.Provenance and peer review Not commissioned; externally peer reviewed.Firas El-Baba http:// orcid. org/ 0000-0003-1750-0557 Figure 1 Chest radiograph showing small patchy opacities in the right middle lobe and in the retrocardiac region concerning for pneumonia. \n"
          ],
          "name": "stdout"
        }
      ]
    },
    {
      "cell_type": "code",
      "metadata": {
        "id": "_8bnEO2LCwBm"
      },
      "source": [
        "with open(os.path.join(wd, 'corpus_batch4.txt'),'w') as f:\n",
        "  f.write(corpus_batch1)"
      ],
      "execution_count": null,
      "outputs": []
    },
    {
      "cell_type": "code",
      "metadata": {
        "colab": {
          "base_uri": "https://localhost:8080/"
        },
        "id": "M8z6LYmUC9B8",
        "outputId": "a983ac50-e8c6-42fd-8d49-f65600963759"
      },
      "source": [
        "batch_size = 10000\n",
        "current_start_ind = 0+(4*batch_size)\n",
        "\n",
        "corpus_batch1 = create_corpus_batch(files, batch_start = current_start_ind, batch_size = batch_size, N= N)"
      ],
      "execution_count": null,
      "outputs": [
        {
          "output_type": "stream",
          "text": [
            "10000it [17:23,  9.59it/s]\n"
          ],
          "name": "stderr"
        }
      ]
    },
    {
      "cell_type": "code",
      "metadata": {
        "colab": {
          "base_uri": "https://localhost:8080/"
        },
        "id": "miwZ0RhRPbBN",
        "outputId": "5c0d17c1-2f82-4c50-e71d-6987652e497e"
      },
      "source": [
        "print (len(corpus_batch1.split('\\n')))\n",
        "print (corpus_batch1.split('\\n')[0])"
      ],
      "execution_count": null,
      "outputs": [
        {
          "output_type": "stream",
          "text": [
            "10000\n",
            "O R I G I N A L Short-term outcome of critically ill patients with severe acute respiratory syndrome Objective: To document the outcome and determine prognostic factors for patients with severe acute respiratory syndrome who require admission to an intensive care unit. Design: Observational cohort study involving retrospective analysis of demographic, clinical, laboratory and radiological data. Setting: Adult intensive care unit in a tertiary referral university hospital involved in a major outbreak of severe acute respiratory syndrome (SARS). Patients: The first 54 patients admitted with SARS to an intensive care unit (ICU). All were treated with corticosteroids, ribavirin, broad spectrum antimicrobials and supportive therapy. Interventions: None. Measurements and results: All patients were admitted for respiratory failure. The median APACHE II score was 11 (interquartile range 8-13). At 28 days 34 patients (63%; 95% CI 49.6-74.6) were alive and not mechanically ventilated. Six patients were alive but ventilated (11.3%; 95% confidence interval 5.3-22.6) and 14 had died (25.9%; CI 16.1-38.9). Seven of 27 ventilated patients developed evidence of barotrauma (25.9%; 95% CI 13.2-44.7). Median maximal multiple-organ dysfunction score was 5 (interquartile range 3.3-9). Median maximal respiratory dysfunction score was 3 (interquartile range 3-4). Increased age, severity of illness, lymphocyte count, decreased steroid dose, positive fluid balance, chronic disease or immunosuppression and nosocomial sepsis were associated with poor outcome on univariate analysis. Poor outcome was defined as death or need for mechanical ventilation at 28 days after ICU admission. Conclusions: Mortality amongst critically ill patients with SARS is high. It causes predominantly severe respiratory failure, with little other organ failure, and a high incidence of barotrauma amongst those requiring mechanical ventilation. the outcome and determine prognostic factors for patients with severe acute respiratory syndrome who require admission to an intensive care unit. Design: Observational cohort study involving retrospective analysis of demographic, clinical, laboratory and radiological data. Setting: Adult intensive care unit in a tertiary referral university hospital involved in a major outbreak of severe acute respiratory syndrome (SARS). Patients: The first 54 patients admitted with SARS to an intensive care unit (ICU). All were treated with corticosteroids, ribavirin, broad spectrum antimicrobials and supportive therapy. Interventions: None. Measurements and results: All patients were admitted for respiratory failure. The median APACHE II score was 11 (interquartile range [8] [9] [10] [11] [12] [13] . At 28 days 34 patients (63%; 95% CI 49.6-74.6) were alive and not mechanically ventilated. Six patients were alive but ventilated (11.3%; 95% confidence interval 5.3-22.6) and 14 had died (25.9%; CI 16.1-38.9). Seven of 27 ventilated patients developed evidence of barotrauma (25.9%; 95% CI 13.2-44.7). Median maximal multiple-organ dysfunction score was 5 (interquartile range 3.3-9). Median maximal respiratory dysfunction score was 3 (interquartile range 3-4). Increased age, severity of illness, lymphocyte count, decreased steroid dose, positive fluid balance, chronic disease or immunosuppression and nosocomial sepsis were associated with poor outcome on univariate analysis. Poor outcome was defined as death or need for mechanical ventilation at 28 days after ICU admission. Conclusions: Mortality amongst critically ill patients with SARS is high. It causes predominantly severe respiratory failure, with little other organ failure, and a high incidence of barotrauma amongst those requiring mechanical ventilation.Severe acute respiratory syndrome (SARS) is a new infectious disease that has rapidly spread around the world [1] . The causative agent is the new SARS coronavirus [2, 3, 4]. The virus is readily transmissible and the resulting disease clinically severe, with approximately 20% of cases requiring intensive care unit (ICU) admission, almost always as a consequence of respiratory failure [5] . Although no new cases have been reported since 8 September 2003 (http://www.who.int/csr/don/ 2003_09_24/en/; accessed 15 October 2003), the trans-missible nature of the disease and the high proportion of patients who require ICU admission means a recurrence of the epidemic may again result in a large number of critically ill patients with SARS. In order to be better prepared to both care for these patients and to carry out further research, it is useful to know the clinical course and outcome of the disease amongst those who require ICU and to know the factors which are associated with prognosis.The overall mortality rate has not yet been confirmed but may be as high as 7-13% for younger patients and 40-55% for patients older than 60 years [6] . The overall case fatality ratio for probable SARS cases reported to the World Health Organization is 9.6% (http://www.who.int/ csr/sars/country/table2003_09_23/en/; accessed 15 October 2003). Data for critically ill patients is sparse and is limited to case series of 38 patients with SARS admitted to ICU in Toronto and 46 patients admitted to ICU in Singapore [7, 8] .Data from large series of patients, some of whom became critically ill, indicate that advanced age, high peak serum lactate dehydrogenase concentration, absolute neutrophilia, diabetes and other co-morbidities are independently associated with poor outcome [5, 9, 10] . There are few data specifically related to prognostic factors in critically ill patients with SARS. The Toronto study did not examine prognostic factors and the Singapore study only examined the relationship between respiratory parameters and outcome.In view of the relative lack of data related to critically ill patients with SARS, we carried out a retrospective analysis of the first 54 patients admitted to our ICU with SARS to describe the clinical course and outcome of these patients and to carry out a preliminary investigation of factors associated with prognosis.We undertook, with institutional approval, a retrospective analysis of demographic, clinical, laboratory and radiological data on SARS cases admitted to our university hospital ICU from 12 March to 18 April 2003. During this period only patients suspected of having or confirmed to have SARS were admitted to the ICU.The definition of SARS used in our cohort was based on Centers for Disease Control and Prevention (CDC) criteria [11] : fever (temperature >38C); radiological evidence of consolidation [by either plain radiograph or computerized tomographic (CT) scan of the thorax], with or without respiratory symptoms; and a history of exposure to a person with SARS, or direct contact with a person who later became ill with SARS.The data collected and data definitions are given in Table 1 . Data were collected until the day of discharge or death or for the first 28 days of the ICU stay, whichever was shorter. Physiological data were extracted from patient charts by a trained research nurse.Microbiological data were prospectively collected by three ICU doctors and radiological data by two radiologists.Decisions regarding admission and management of individual patients were made by the individual intensive care and referring specialists, but there was broad consensus on a number of clinical issues.Admission to the ICU was required when severe respiratory failure developed. Severe respiratory failure was evidenced by failure to maintain an arterial oxygen saturation of at least 90% while receiving supplemental oxygen of 50%, and/or a respiratory rate greater than 35 breaths per minute. Criteria for intubation and positive pressure ventilation were persistent failure to achieve arterial oxygen saturation of 90% while receiving 15 l/min of oxygen via a non-rebreathing mask and/or onset of respiratory muscle fatigue as evidenced by an increase in PaCO 2 , sweating, tachycardia, tachypnoea and/or a subjective feeling of exhaustion.A low-tidal-volume, low-pressure strategy was used for mechanical ventilation. The predominant modes of ventilation were volume control, pressure control, pressure-regulated volume control and pressure support. The low-tidal-volume protocol used in the Acute Respiratory Distress Syndrome Network study [12] was adapted to produce guidelines for setting tidal volume, driving pressure and respiratory rate (see electronic supplementary material for details). The target tidal volume was 4-6 ml/kg predicted body weight during controlled ventilation, but this was allowed to rise during the weaning phase. Positive end-expiratory pressure (PEEP) was set by titrating PEEP against oxygenation and compliance. In pressure-control mode the compliance was assessed from the measured tidal volume. In volume-control mode the compliance was assessed by measuring the plateau pressure. In pressureregulated volume control it was assessed from the driving pressure required to achieve the set tidal volume. Inspired oxygen concentration was titrated to achieve an arterial saturation of 88-94%. Non-invasive positive pressure ventilation was avoided because of the potential risk of increased viral transmission resulting from mask leakage and high gas flow.In general, there was a policy of using vasopressors to maintain an adequate blood pressure in preference to infusion of fluid and there was an attempt to keep patients in a fluid input/output balance of zero (excluding insensible loss).Medical therapy evolved during the outbreak. The treatment of patients admitted early in the epidemic has been described previously [5] and was broadly similar to treatment outlined in a previous review [13] , except that lower doses of ribavirin and higher doses of corticosteroids were used. Briefly, it consisted of broad-spectrum antibiotics, ribavirin and low-dose corticosteroids. Except in the initial phase of the epidemic, patients who deteriorated despite this treatment were given additional methylprednisolone in 500 mg pulses up to a total of 3 g. As the epidemic progressed, this maximum dose was increased to up to 5 g and in addition some patients were given convalescent serum donated by patients who had recovered from SARS and/or IgM-enriched immunoglobulin. Broad-spectrum antibiotics were administered at the time of institution of high-dose pulse methylprednisolone therapy. In the absence of clinical sepsis in the first 3-5 days following high-dose steroid therapy, antibiotics were withdrawn. Suspected infection was treated early with empirical broad spectrum antibiotics and, if necessary, anti-fungal agents. Antibiotics were modified according to bacterial culture of sputum, tracheal aspirate and blood. The dose of ribavirin was 8 mg/kg every 8 h intravenously for 7-10 days followed by 4 mg/kg enterally for another 11-14 days. Alive and ventilator free (good outcome) or mechanically ventilated or dead (bad outcome) 28 days after ICU admission APACHE II score Calculated from worst values in the first 24 h of ICU admission using the method described by Knaus et al. [14] Admission and maximal multiple organ dysfunction scores Calculated using the method described by Marshall et al [15] . Maximal score was the sum of the highest daily respiratory, cardiovascular, renal, hepatic, haematological and neurological scores during the ICU stay. Daily scores were calculated from data recorded at 0600 hours each day Daily fluid balance Includes all fluids administered; not corrected for insensible fluid losses Respiratory rateMeasured or recorded at time of admission (day of admission) or at 0600 hours (all other days). In patients who were not mechanically ventilated inspired oxygen concentration was estimated as follows: patients receiving oxygen at 15 l/min via a non-rebreathing reservoir mask were estimated to be receiving 80% oxygen; otherwise, estimated oxygen concentration=100 (0.2093+(1.242 flow rate/peak inspiratory flow rate) [21] . A value of 35 l/min was assumed for peak inspiratory flow rate. Bilateral infiltrates on the chest X-ray, absence of left atrial hypertension and PaO 2 /F I O 2 ratio <200 mmHg [22] Total daily dose of corticosteroids Dose expressed as equivalents of methylprednisolone based on the following conversion: 5 mg hydrocortisone=1 mg methylprednisolone 5 mg prednisolone=4 mg methylprednisolone Nosocomial sepsis?Positive microbiological cultures and high enough clinical suspicion of infection to warrant treatment Bacteraemia?For coagulase negative staphylococci: !2 positive blood cultures; for all other organisms: !1 positive blood culture Chronic disease or immuno suppression?One or more of the following: Heart failure. Systolic or diastolic dysfunction documented by history, examination and investigation (chest X-ray, echocardiogram, multi-gated acquisition scan or ventriculogram) Chronic liver disease; clinical or biospy diagnosis of cirrhosis or other chronic liver disease such as chronic active hepatitis Chronic renal impairment; history of chronic renal impairment or documented abnormal urea or creatinine Cerebrovascular disease; stroke or transient ischaemic attack diagnosed clinically or documented by magnetic resonance imaging or computerized tomography Active malignancy. Any malignancy except basal or squamous cell carcinoma of skin that was active on presentation or diagnosed <1 year before presentation Immunosuppression; currently taking immunosuppressive drugs or suffering from an immunosuppressive disorder Diabetes mellitus Independent in activities of daily living?Activities of daily living: eating; continence; voiding; transferring; bathing; dressing and walkingContinuous normally distributed data were compared using Student's unpaired t test, categorical data using the c 2 test and ordinal or non-normally distributed continuous data using the Mann-Whitney U test. All statistical calculations were made using SPSS for Windows 11.5 (SPSS, Chicago, Ill.), Excel 2000 (Microsoft, Redmond, Wash.) or Hutchon's confidence interval calculator (http://www.hutchon.freeserve.co.uk/Wilsons.htm). A p value <0.05 was considered significant. As the purpose of the univariate analysis of factors associated with outcomes was to generate hypotheses, no correction was made for multiple comparisons. After finding that fluid balance was associated with outcome, it was decided post hoc to further evaluate the relationship by analyzing the fluid balance in the first and second half of the patients' stay separately.The study population consisted of 54 patients with SARS who required admission to ICU. All patients were admitted for respiratory failure. Summary data for continuous normally distributed data are presented as mean and standard deviation, for categorical data as percentages and for ordinal data or non-normally distributed data as median and interquartile range. The mean age was 49.6 years (SD 16.9 years) and 57% of the patients were male. The median APACHE II score was 11 [interquartile range (IQR) 8-13], the mean PaO 2 /F I O 2 ratio on admission was 152 (SD 71) and the median admission multiple-organ dysfunction (MOD) score was 3 (IQR 2-4). The mean delay between hospital and ICU admission was 6.4 day (SD 6.0 days) and the mean delay between symptom onset and ICU admission was 9.6 days (SD 4.6 days).At 28 days after ICU admission 34 patients (63%; 95% CI 49.6-74.6) were alive and not mechanically ventilated. Six patients were alive but still ventilated (11.3%; 95% CI 5.3-22.6) and 14 . Five patients developed a pneumothorax, accompanied in two cases by a pneumomediastinum. Two additional patients developed a pneumomediastinum without a pneumothorax. In most cases the pneumothorax or pneumomediastinum was accompanied by surgical emphysema. No patients developed surgical emphysema alone. There were no statistically significant differences in peak airway pressure, PEEP and tidal volume between those patients who developed an air leak on mechanical ventilation and those who did not (Table 2) . One other patient developed a spontaneous pneumothorax while breathing unassisted and two others developed a pneumothorax following central venous cannulation.Twenty-four patients (44.4%; 95% CI 32.0-57.6) required inotropes and 6 (11.1%; 95% CI 5.2-22.2) required renal replacement therapy. Median maximal MOD score was 5 (IQR 3.3-9), of which the median respiratory component was 3 (IQR 3-4) .In the 39 patients who received pulsed methylprednisolone the mean PaO 2 /F I O 2 ratio (was 153 (SD 79) prior to the first pulse and 157 (SD 76) the following day. This difference was not statistically significant.Results of univariate analysis of potential factors predicting poor outcome (death or mechanical ventilation 28 days after admission to ICU) are given in Table 3 .The main findings of our study are as follows: firstly, in patients requiring ICU admission SARS is associated with considerable mortality and morbidity. Secondly, SARS predominantly causes respiratory failure. Thirdly, on univariate analysis advanced age, more severe illness, shorter delay between symptom onset and ICU admission, chronic disease or immunosuppression, lower steroid dose, higher lymphocyte count, nosocomial sepsis and positive fluid balance were associated with poor outcome.At 28 days 20 of 54 patients (37%) were either still mechanically ventilated or dead, indicating that SARS causes considerable mortality and morbidity, although the mortality is probably no greater than that associated with other forms of respiratory infection. Based on the APACHE II scores of our patients and the diagnostic category of respiratory failure due to infection, the predicted hospital mortality would be approximately 50% [14] . Similar results have been reported by other investigators with a 28-day ICU mortality of 34-37% [7, 8] . In the Toronto series an additional 16% of patients were alive but mechanically ventilated at 28 days [7] . The MOD score is a validated scoring system for quantifying multiple-organ dysfunction [15, 16] . It is made up of six component scores (respiratory, cardiovascular, neurological, hepatic, renal and haematological) each of which is scored from 0-4, giving a maximum possible score of 24. The median maximal MOD score in our patients was only 5, of which the median respiratory component was 3, indicating that SARS causes predominantly respiratory failure with little in the way of other organ failure. The large number of patients who required vasopressors or inotropes probably reflects our tendency to use these drugs instead of fluids to treat hypotension in patients with SARS. The severity of the respiratory failure is reflected by the fact that 47 of the 54 patients met criteria for ARDS at some stage in their ICU stay and the mean admission PaO 2 /F I O 2 ratio on admission to the ICU was only 152 mmHg. The incidence of barotrauma (25.9%) was high compared with the 7-11% previously reported for ARDS [17, 12, 18] . Again, the Toronto and Singapore series show similar results with a 34 and 23% incidence of barotrauma despite the fact that in all three series the clinicians used low-volume, low-pressure strategies. Unfortunately, we did not record plateau pressures; however, the plateau pressure cannot exceed the peak airway pressure and the mean peak airway pressure prior to the development of an air leak was only 26.5 cm H 2 O. This suggests that the high incidence of air leaks was not due to excessive inflation pressures. Similarly, the mean tidal volume prior to development of an air leak was 6.79 ml/kg predicted body weight, which is similar to the values achieved in the low tidal volume group of the ARDSnet study [12] . This high incidence of adverse effects suggests that it may be preferable to avoid mechanical ventilation unless it is absolutely essential.Univariate analysis demonstrated that a number of factors are associated with poor outcome in critically ill patients with SARS. It is likely that there was considerable confounding amongst these factors and that some of these factors would not be found to be independently associated with outcome on multivariate analysis. For example, both age and chronic disease are components of the APACHE II score [14] and both APACHE II and admission MOD score reflect severity of illness [15, 14] . In addition, the delay between symptom onset and admission to ICU is likely to reflect severity of illness with more severely ill patients deteriorating more rapidly and requiring earlier ICU admission. Unfortunately, the large number of potential prognostic factors and the relatively small size of our cohort prevented meaningful multivariate analysis [19] . Nevertheless, we believe the results of our analysis may be useful in generating hypotheses. At this stage of our knowledge of this new condition it is almost inevitable that observational studies will raise as many questions as they answer. They do, however, provide data that will help in the design of subsequent observational and interventional studies. At first sight it may seem strange that the admission MOD score is reported as being significantly different in the good outcome group compared with the poor outcome group when the median score is 3 in both groups. Inspection of the interquartile ranges, however, reveals that the data for the good outcome group is skewed to the left while the data for the poor outcome group is skewed to the right.The average daily dose of steroids was higher in patients who were alive and ventilator free at 28 days. High-dose pulse methylprednisolone was given to those patients who did not respond to smaller doses of steroids. Pulses were repeated if the initial response was considered inadequate. As a result, if steroids had no real effect, one would expect patients with a worse outcome to have received larger average daily doses of steroids as a physician response to their deteriorating condition. Instead, we found that patients with a good outcome received a higher average daily dose of steroids. However there are several confounding factors, such as duration of stay, and this finding should not be interpreted as proof of a beneficial effect of steroids particularly as there was no immediate effect of pulsed steroids on oxygenation.The average daily recorded fluid balance was less positive in patients with a good outcome when measured over the entire study period and when the ICU stay (up to a maximum of 28 days) was divided into first and second halves. Given that the figures do not include an estimate of insensible fluid losses, these data suggest a marked negative actual fluid balance in patients with a good outcome and a slight positive fluid balance in patients with poor outcome. These data are in keeping with data suggesting that a restrictive fluid regime may be associated with better outcomes in ARDS [20] . It is, however, possible that the positive fluid balance in our patients with a poor outcome was due to the confounding effect of nosocomial sepsis. More patients in the poor-outcome group had nosocomial sepsis and patients with nosocomial sepsis are likely to receive more fluid due to the capillary leak and vasodilatation that characterizes systemic sepsis.Surprisingly, patients with a good outcome had a lower lymphocyte count on admission to ICU than patients with a poor outcome. The lymphocyte count on admission to hospital has not been found to be associated with outcome and the explanation for our finding is unclear. More predictably, the lymphocyte count rose over the course of the ICU stay in those with a good outcome and fell in those with a poor outcome. If the change in lymphocyte count is found to be independently associated with outcome in these patients, this parameter may be a marker of disease activity. In contrast, the absence of a difference in the admission LDH concentration or in the change in LDH suggests that LDH is not a marker of disease activity, despite the fact that the LDH concentration on admission to hospital has been shown to be associated with outcome [5].In conclusion, our data confirm previous data showing that SARS patients requiring ICU admission have considerable mortality. It mainly affects the lung, with little in the way of other organ failure, causing ARDS in most patients who require ICU admission. The incidence of barotrauma in those who require ventilation is high despite the use of low tidal volumes and peak airway pressures. Active diuresis and administration of higher doses of corticosteroids may be associated with better outcome but, in the absence of multivariate analysis, this suggestion should be treated with caution. \n"
          ],
          "name": "stdout"
        }
      ]
    },
    {
      "cell_type": "code",
      "metadata": {
        "id": "HKQuyzyKPlPg"
      },
      "source": [
        "with open(os.path.join(wd, 'corpus_batch5.txt'),'w') as f:\n",
        "  f.write(corpus_batch1)"
      ],
      "execution_count": null,
      "outputs": []
    },
    {
      "cell_type": "code",
      "metadata": {
        "colab": {
          "base_uri": "https://localhost:8080/"
        },
        "id": "WUPpMjs8Po5D",
        "outputId": "d069bdb3-06ca-453e-9f80-826fe1ef9a5c"
      },
      "source": [
        "batch_size = 10000\n",
        "current_start_ind = 0+(5*batch_size)\n",
        "\n",
        "corpus_batch1 = create_corpus_batch(files, batch_start = current_start_ind, batch_size = batch_size, N= N)"
      ],
      "execution_count": null,
      "outputs": [
        {
          "output_type": "stream",
          "text": [
            "6628it [31:10,  3.54it/s]\n"
          ],
          "name": "stderr"
        }
      ]
    },
    {
      "cell_type": "code",
      "metadata": {
        "colab": {
          "base_uri": "https://localhost:8080/"
        },
        "id": "LNrjzTy_W6Ph",
        "outputId": "e041af80-7fee-4205-9f88-bad7dd3265d0"
      },
      "source": [
        "print (len(corpus_batch1.split('\\n')))\n",
        "print (corpus_batch1.split('\\n')[0])"
      ],
      "execution_count": null,
      "outputs": [
        {
          "output_type": "stream",
          "text": [
            "6628\n",
            "The relational activation of resilience model: How leadership activates resilience in an organizational crisis We proposed the Relational Activation of Resilience model to explain how leaders could utilize relationships to activate resilience during crisis and illustrated it using an abbreviated case study of Tan Tock Seng Hospital during the severe acute respiratory syndrome crisis in Singapore in 2003. Early signs of the crisis were recognized by organizational leaders, who then ushered liminality-a period when routines were disrupted, and new relational connections were made to allow members to adjust psychologically, emotionally, and socially, to activate resilience. Within the liminal period, leaders influenced the formation of new connections through mutual and swift trust and utilized these networks to enable collective meaningmaking and sensemaking. In addition, leaders communicated mindfully via these networks to promote positive emotional connections among members. These leadership tasks resulted in the formation of relational networks that could serve as social, emotional, and cognitive resources for organizational resilience. wileyonlinelibrary.com/journal/jccm J Contingencies and Crisis Management. 2017;25:136-147.| 137 The survival of an organization during crisis is dependent on the resilience of its members, as well as its leadership. Resilience may be framed as the capacity to bounce back to a state of normality (Holling, 1973) , or as an emergent property, when an organization learns to adjust to adversity and in the process, strengthens its capability to overcome future challenges (Wildavsky, 1988) . Leadership is critical in an organizational crisis and is often conceptualized as the process of exercising social influence (Mumford, Freidrich, Caughron, & Byrne, 2007) . Besides mounting an effective operational response to an organizational crisis, leaders must also fulfil a symbolic need for direction and guidance from its members (Boin, Kuipers, & Overdijk, 2013) .The severe acute respiratory syndrome (SARS) outbreak in 2003 was the first public health crisis in Singapore and, till today, stands as the most severe challenge to its public health system. While Singapore was the fifth most severely affected country in terms of deaths (Tai, 2006) , it managed to contain the SARS virus within 2 months. The rapid containment of the disease has been attributed to leadership in the government and within the hospital where SARS victims were cared for, as well as the resilience of healthcare workers in the hospital. Indeed, Singapore's response to the SARS crisis received praise from international health experts and agencies, with a spokesperson from the US Centre for Disease Control and Prevention saying, \"I can't think of anything that Singapore could have done better\" (Khalik, 2003) .To date, the existing literature on Singapore's success story during the SARS crisis has largely examined the elements of resilience and leadership in isolation. In this paper, we were interested in how leaders help activate organizational resilience, specifically, by using relational resources. To discharge their roles effectively during a crisis, leaders often have to draw upon \"tangible\" resources such as financial, infrastructure or technological assets. However, \"intangible\" resources such as social capital-resources in the form of social relationships-have been shown to facilitate organizational recovery from crisis (Doerfel, Lai, & Chewning, 2010) .To this end, we propose the Relational Activation of Resilience (RAR) model, a conceptual model that builds on the literatures of leadership and resilience using a relational network perspective. The RAR model takes a social constructionist perspective of leadership, with the aim of exploring how a discursive leadership orientation can contribute to the process-based, communicative perspective of resilience. It is premised on three key pillars: organizations as networked structures, leaders as embedded actors with social influence within these networks, and resilience as the process of developing relational networks that allow the organization to adapt and restore function. DOI: 10.1111 DOI: 10. /1468 The remainder of this article is organized as follows: first, we review major conceptions of organizational resilience, and two major theories, which explain how social connections may contribute to resilience. Next, we review the role of leadership during crisis, focusing on the key roles of meaning-making and sensemaking in crisis leadership, and provide some background to the SARS crisis in Singapore. We then present the RAR model and examine the case study of how hospital and government leadership activated resilience during the SARS crisis, as an abbreviated illustration of the RAR model.Crisis literature offers two main approaches to conceptualizing organizational resilience: the first approach offers a trait-based view of resilience, while the second perspective considers resilience a developmental process. The metaphor of resilience as a material that can absorb strain and maintain its shape often comes to mind when conceptualizing resilience as a characteristic (Walker & Salt, 2006) ; resilience is the \"ability of a system to return to an equilibrium state after a temporary disturbance\" (Holling, 1973: 14) . In the second approach, resilience emerges in response to setbacks and develops over time from continual exposure to hazards and crises (Wildavsky, 1988) . Resilience is framed as a form of learning, where an organization not only survives via positive adjustment to current adversity, but in the process strengthens its capability to overcome future challenges.A developmental perspective of resilience is helpful when theorizing adaptation of organizations in crisis, as a process-based approach allows for greater inclusion of contextual factors, and acknowledges that development of resilience rests on a complex interplay of risk and protective factors across individual, social, and organizational levels (Kolar, 2011) . Healthcare organizations are a prime example of institutions that deal constantly with crises, continuously facing the possibility that \"their first error may be their last trial\" (Rochlin, 1999 (Rochlin, : 1552 A developmental view of resilience implies that resilience can be activated, and points to the presence of latent resources within the organization that can be called upon or recombined in different circumstances. In addition to financial, structural or technological resources, Doerfel et al. (2010) point to social capital-resources embedded and available in social relationships-and communication networks as an important source that can facilitate organizational recovery after adversity. Unlike human capital that is dependent on individual capabilities, social capital is embodied in relationships (Coleman, 1990) , and encompasses structural, relational, and cognitive dimensions (Nahapiet & Ghoshal, 1998) . While structural social capital refers to connections between individuals, relational social capital involves the nature of those connections (e.g. trust), and cognitive social capital is based on the understanding between partners about common language and shared goals. In an analysis of organizational recovery after Hurricane Katrina, it was observed that social capital became a primary recovery source and that relational resources could be renewed, restored and even created when no prior relationships existed (Doerfel et al., 2010) . Powley (2009) , in adopting a sociological framing of resilience activation, proposed a model to explain how resilience is triggered through social connections and interpersonal relationships. In examining narrative accounts in a business school after a shooting and an armed standoff, he introduced the term \"resilience activation\" to describe how resilience emerges when organizations confront unexpected emergencies. Resilience activation involves social mechanisms such as emerging relational structures, heightened awareness of others and working together to tap into existing interpersonal networks to enable organizational healing after a traumatic event.A different approach, applying a communications perspective and social network theory to organizational structure, was adopted by Chewning and Doerfel (2013) . Social network theory posits interaction patterns among people as the basis for networks (Blau, 1977) . Organizations may be seen as social networks of individuals, and situated in a network setting with other organizations.During a crisis, existing networks and their communication channels are drastically altered. The breakdown in existing social structures triggers the development of transitional networks, which aid in the acquisition and sharing of resources through coordinated action. As the organizations move through recovery phases, membership in these transitional networks evolve, and eventually stabilize as communication and routines are re-established, and the organization enters a \"new normal.\" Crisis is thus seen as a turning point in the organizational lifecycle, and transitional networks as the temporary social structures that organizations weave to successfully evolve through the crisis, to reach full organizational functioning.These theories have proposed social connections as a critical source of relational reserves, which can be tapped into to activate resilience. Moreover, the relational connections are not static, but instead evolve dynamically through the course of the crisis.An organizational crisis is a \"low probability, high impact event that threatens the viability of the organization and is characterized by ambiguity of cause, effect, and means of resolution, as well as by a belief that decisions must be made swiftly\" (Pearson & Clair, 1998 : TEO ET AL. 60). As a result, crises are often associated with the need to dramatically change prior practice, to move away from stability to new goals, and also imply a time-pressured change from normal practices.The rush to make important decisions and execute change presumes that leadership is critical in a crisis, and indeed, Pearson and Clair (1998) have stressed the importance of leadership in organizational crisis. In analysing the role of crisis leaders, Boin et al. (2013) have offered a comprehensive framework to assess the work that crisis leaders must do, based on five key tasks: sensemaking to process information from environmental cues to promote a collective understanding of the crisis, decision-making and facilitating effective coordination among various parties, meaning-making to provide an interpretation of the situation and to bring authentic hope and confidence to stakeholders (Leonard & Howitt, 2009) , rendering accountability to satisfy legal and moral requirements and to restore trust in the organization, and facilitating reflection and learning from the crisis.The type of leadership behaviour is also important in determining organizational performance or followers' attitudes during a crisis. Waldman, Ramirez, House, and Puranam (2001) found that during periods of high uncertainty, charismatic leadership behaviour, which communicates determination, provides mission and a vision while articulating high performance expectations, is predictive of organizational performance, compared to transactional leadership behaviour which focuses on setting goals and tasks and ensuring compliance. This is echoed by Halverson, Holladay, Kazama, and Quinones (2004) who found that self-sacrificial behaviour in leaders was judged positively by team members during crisis, but was otherwise received negatively when uncertainty was absent.These actions and interactions between leaders, followers, and environmental agents in various contexts, particularly in crises, point to the usefulness of a relational view of leadership (Fairhurst & Uhl-Bien, 2012) . Here, leadership is studied as a \"collective phenomenon that is distributed or shared among different people, potentially fluid, and constructed in interaction\" (Denis, Langley, & Sergi, 2012: 2) .Researchers holding the relational view of leadership are interested in examining how organizational actors \"engage, interact and negotiate\" with one another, and how these interactions jointly construct meanings, produce understandings and outcomes (Fairhurst & Uhl-Bien, 2012 : 1044 . In our case, the meaning-making processes pertain to leaders and other actors attempting to understand an apparently inapprehensible phenomenon with potentially epic repercussions. One outcome of this, we suggest, is organizational resilience, arising from relational processes.The focus on meaning-making leads to thinking about the effort to produce meanings instantiated in what some communication scholars see as frames (Drazin, Glynn, & Kazanjian, 1999; Fairhurst & Connaughton, 2014; Weick, 1995) . These scholars are particularly interested in how leaders attempt to make sense of non-routine situations through framing, and thus respond and act rationally in spite of uncertain circumstances (Drazin et al., 1999; Fairhurst, 2011) .In the management of crisis situations, much of the discursive effort of framing takes place regarding decision-making and coordinating operational responses. The inability of a leader to make timely, wise and ethical decisions has been proposed to be as detrimental to the organization as the crisis event itself (James & Wooten, 2010) . The cognitive frames evoked by leaders, together with the array of emotions produced, can have significant implications on crisis responses and hence organizational performance (James, Wooten, & Dushek, 2011) .Sensemaking is the process through which people work to understand issues that are novel, ambiguous or violate expectations and is a fundamental leadership activity in crisis (Combe & Carrington, 2015) . While there is no single theory of sensemaking, there are several recurrent themes-it is dynamic, where meaning is made in the \"present. . . and projected upon possible futures\" (Hernes & Maitlis, 2010: 27) ; it is triggered by cues, often by surprising or confusing events (Maitlis, 2005) ; and is generally regarded as a social and discursive process (Weick, 1995) , involving the \"retrospective development of plausible meanings that rationalize what people are doing\" (Maitlis & Sonenshein, 2010: 551) . Sensemaking is recursive: actions taken in response to sensemaking in turn enact the environment that people seek to understand (Maitlis, 2005) . Organizational sensemaking takes place when members interpret their environment through social interactions and construct cognitive frames or interpretations that allow them to understand what is going on, and act collectively (Maitlis, 2005) .A related construct to sensemaking is sensegiving-\"the process of attempting to influence the sensemaking and meaning construction of others toward a preferred redefinition of organizational reality\" (Gioia & Chittipeddi, 1991: 442) . Leaders may employ sensegiving to shape the framing and sensemaking of organizational members for strategic purposes.Leaders are critical to crisis sensemaking, as they help to make sense of conflicting data, convey clarity, develop meaning for others (Foldy, Goldman, & Ospina, 2008) and project a vision to overcome the crisis based on their mental model (Mumford et al., 2007) . Leaders' sensemaking has been implicated in strategic change (Gioia & Chittipeddi, 1991) , by influencing organizational members to make changes in their own practices, and to coconstruct work that is consistent with the vision. Sensemaking by leaders is also important for organizational learning: Christianson, Farkas, Sutcliffe, and Weick (2009) found that after the roof at the B&O Museum collapsed onto a priceless collection, leaders' sensemaking helped reduce ambiguity, prompted understanding of the organization's weaknesses and facilitated opportunities for organizational transformation. Sensemaking has also been implicated in identity formation (Humphreys & Brown, 2002) and strategy (Pye, 1995) . Together, this suggests that sensemaking, especially when carried out by leaders, plays an important role in accomplishing tasks facilitating organizational resilience.Severe acute respiratory syndrome emerged unexpectedly in Singapore in early March 2003, when a woman returned from a trip to Hong Kong and was admitted to Tan Tock Seng Hospital (TTSH) with a fever. Doctors suspected pneumonia and isolated the patient.However, in the coming days, some of her family, friends, healthcare workers, and patients who had shared the same ward started to fall ill with severe pneumonia-like symptoms. The speed at which the disease spread, with no cure in sight, added to its enigma as the new plague. The disease rapidly escalated into a national crisis, spreading to other hospitals, and a wholesale market (Tan, 2005) .The crisis affected the economy severely and disrupted daily lifemalls, restaurants, and businesses were badly hit and social contact was minimized. As social contact dwindled, paranoia increased, and soon enough, healthcare workers, especially those from TTSH, were stigmatized and shunned by members of the public.A crisis is defined as an event with high levels of ambiguity, high stakes, and time pressure (Pearson & Clair, 1998 ). Singapore's first experience with SARS squarely fit the description. Firstly, SARS was a large-scale epidemic, and the virus was a novel one. Through early March, when people who had been in contact with the first Singapore patient (the index case) were falling ill, the disease did not even have a name. The mode of transmission of the disease, the pathogen, treatment, and containment protocols were unknown. Secondly, the stakes were especially high for TTSH, as it was designated as the sole hospital in Singapore to deal with SARS. The Emergency Department, the busiest in Singapore, was shut and concentrated on screening patients for SARS. Elective treatments were cancelled, and inpatient admissions for non-SARS-related cases were curtailed (Chua, 2004) . Staff in TTSH had to care for dangerously ill, highly infectious patients while themselves risking infection. Finally, hospital leaders, besides having to make decisions in the face of clinical ambiguity, also had to contend with rapid depletion of isolation facilities and intensive care unit beds.In Singapore, 41% of the 328 SARS-infected cases, and five of the 33 fatalities were healthcare workers (Tan, 2006) . The majority of the casualties were TTSH staff. The rapid containment of the epidemic within a 2-month period has been attributed to strong leadership in government and in the hospital, coordinated responses between local agencies, and resilience of the staff in the hospital which was now known as \"SARS Central\" (Tan, 2006) .The RAR model is based on the view that organizations are complex systems composed of networks of social relationships between individuals. The communication that results in these relational connections enables the creation of shared meaning, relationships, identities, and social realities between communicating parties, and serves as a source of cognitive, emotional, and social reserves to enable resilience during an organizational crisis. We take a social constructionist view of leadership, which sees leadership as a process of influence and meaning management (Denis et al., 2012) .Leadership does not rest on one's position in the hierarchy; instead, a leader is one whose \"ideas expressed in talk or action are recognized by others as capable of progressing tasks or problems\" (Robinson, 2001: 93) . Leaders are organizational actors embedded in networks, who carry greater social influence than other members in the network. One implication of this is that leaders are able to influence the growth or nature of the relational connections. In formulating the RAR model, we were guided by the overall question: How do leaders utilize relational networks in organizations to activate resilience during a crisis? In following section, we answered the question by outlining various theoretical elements, which together build up to the model shown in Figure 1 .A crisis often implies a change from standard procedures, significant consequences and the need for novel solutions to an ill-defined change event (Mumford et al., 2007) . To meet these challenges, leaders must rapidly make sense of escalating events, in order to coordinate decision-making and crisis response, and to explain \"what is going on.\" (Comfort, Boin, & Demchak, 2010) . This intimates that one of the primordial tasks of leaders in a crisis is to recognize early signs of a crisis, invoke that a threshold has been crossed and usher the organization into a new phase of the organizational lifecycle where new routines and structural patterns can be learnt.The anthropologist Arnold van Gennep coined the term \"liminality\" (from Latin \"limen,\" meaning a threshold) to describe the transition between two stages in the context of many ritual processes (van Gennep, 1960) . During liminality, the subject detaches from his pre-ritual status and passes through a realm, which has few or none of the identifying attributes of the \"before\" or \"after\" states. In the context of organizational literature, liminality is often taken to mean a position of change and uncertainty when an organization or its members are \"betwixt and between\" states (Beech, 2010: 286) . Powley (2009) asserts that during a crisis, organizations enter a period of liminality, which functions as a \"holding space\" as organizational members readjust and reorient themselves. Leaders can help trigger this adjustment period by signalling to organizational members that a crisis is imminent, thus setting the organization on its path to adapting to the crisis. In the RAR model, one of the initial leadership tasks in activating resilience is to usher in a period of liminality (A, Figure 1 ).While a crisis is often characterized by equivocality and turbulence, some scholars have theorized about how the organization adapts to restore order and stability. Chewning and Doerfel (2013) introduced the idea of transitional networks: the web of relationships that emerges when an organization moves between changing enactments of social structure triggered by crisis.Network theory proposes that organizations can be seen as complex systems, composed of networks formed by social connections between agents. These connections are formed by repeated communication, and success in these networks depends on the building of reciprocal relationships, with expectation of future interactions (Powell, 1990) . During a crisis, the composition of interorganizational networks is changed. New networks will arise, based on altered communication patterns between network agents. These transitional networks facilitate sharing of cognitive and structural resources to allow the organization to innovate, adapt, and coordinate crisis responses-critical functions to promote organizational resilience.The development of these transitional networks is often motivated by resource sharing, and their formation is dependent on the threshold of the members to work together for the collective good. Granovetter (1978) asserts that the threshold occurs when benefits to the actor outweigh the costs. Each actor has a threshold, but this threshold can be influenced by others in the network.In the RAR model, the liminal period may be viewed as the \"holding space\" in which transitional networks evolve: relational connections may be altered, or new networks may arise (B, Figure 1 ).Leaders, being more influential compared to \"ordinary\" network members, affect individual members' thresholds and hence promote the formation of transitional networks. Transitional networks help the organization to adapt and evolve through a crisis; thus, by promoting their formation, leaders help facilitate development of organizational resilience (C, Figure 1 ).What type of connections are leaders likely to tap into, in the development of transitional networks? Like most organizational members, leaders are likely to rely on pre-existing relational connections, which have already accumulated emotional resources in the form of mutual trust. This requires deep and constant engagement between individuals and cannot be established only when crisis strikes (Longstaff & Yang, 2008) . When trust is present in the interactions between network links, individuals in the networks are able to adapt more quickly to change, thus enhancing organizational resilience (Berkes & Folke, 2002) .In the absence of shared history, a unique form of trust may be established quickly in parties who have not had the time to engage in the \"usual forms of confidence-building activities that contribute to . . . the establishment of trust\" (Meyerson, Weick, & Kramer, 1997: 167) . Swift trust allows parties to interact as if trust were already present, even if they cannot rely on familiarity and prior connections. The development of swift trust may instead depend on \"categorical assumptions and interpretative frames\" (Meyerson et al., 1997 : 75); for example, identification of the members with a reputable group, or the member's prior performance record. Leaders may use swift trust when they need to establish novel network links to actors outside the organization who may provide some benefit.In summary, the RAR model suggests that during the liminal period (B, Figure 1 ), one way that leaders help activate resilience is by facilitating the formation of transitional networks (C, Figure 1 ), using a combination of pre-existing connections with a history of mutual trust, as well as new contacts with whom they are able to establish swift trust.3.3 | Using networks for meaning-and sensemaking Meaning-and sensemaking are implicated in various leadership tasks which help pave the way for organizational resilience and recovery.Meaning-making allows leaders to convey to organizational members how they interpret a crisis situation, to impose a narrative and to communicate their plans to restore normalcy (Boin et al., 2013) .Effective meaning-making relates the crisis management efforts to the core values of the organization, helps followers construe beliefs about the significance of crisis events and provides hope and confidence (Leonard & Howitt, 2009) .Sensemaking, on the other hand, allows leaders to create order and make retrospective sense of events (Weick, 1993) , and leaders may utilize sensegiving to influence the sensemaking of others for strategic purposes (Gioia & Chittipeddi, 1991) . As sensemaking is a social, discursive, and recursive process (Maitlis & Christianson, 2014) , the dynamic network of relational connections that arise during the liminal period forms a natural setting for leaders to engage in collective sensemaking following a crisis.The complexity of meaning-making and sensemaking during crisis implies that the cognitive requirements of these two leadership tasks are highly onerous. In addition, a diversity of perspectives is known to enrich interpretation of ambiguous events (Huber & Lewis, 2010) .Leaders are likely to show higher levels of embeddedness (or have more relational connections) than other organizational actors. For these reasons, leaders will probably draw upon a diversity of relationships to facilitate meaning-making and sensemaking, instead of performing these tasks in isolation. At the same time, having more connections in an organizational network may also facilitate the process of influencing others when sensegiving. The RAR model, therefore, shows that during the liminal period, leaders activate resilience by utilizing the relational connections in transitional networks as a cognitive resource for collective meaning-making and sensemaking, and also as a conduit to drive sensegiving efforts in a preferred direction (D, Figure 1 ).Social connections can serve as reservoirs of positive emotions during a crisis (Sutcliffe & Vogus, 2003 affect undermines the resilience in a crisis; individuals who experienced more negative emotions were less likely to feel ready to be resourceful and persistent (Kaplan, Laport, & Waller, 2013) . While research indicates that social networks arise spontaneously in the aftermath of a crisis (Powley, 2009 ), the RAR model suggests that leaders can exert great influence over the nature of these network links by communicating mindfully.Mindfulness suggests a cognitive approach to empathy (Davis, 1996) , where individuals understand one another by imagining the other's perspective. Mindfulness encompasses noticing, feeling empathy, and reaching out to others, thus enabling new relational structures, restoring relationships, and bolstering emotional health (Fletcher, 1998) . Relational connections are key to activating resilience, as Herman (1997: 133) suggests that trauma recovery takes place \"only within the context of relationships;. . . (not in) isolation.\"The RAR model suggests that leaders, by communicating mindfully with organizational members, activate positive emotions in relational connections formed during the liminal period, and thereby promote organizational resilience (E, Figure 1 ).The RAR model (Figure 1) Lastly, the SARS study demonstrates the critical role of leaders in harnessing relational connections in order to promote crisis resilience.Qualitative methods were the method of choice in this study as we did not seek to generalize the experiences of the participants, but wanted a deeper understanding of the role of leadership during the SARS crisis. We utilized data generated from semistructured, openended, face-to-face interviews with seven healthcare leaders and analysed the data using inductive thematic analysis (Braun & Clarke, 2006) .We employed a purposive sampling strategy to our study population, targeting key informants who constituted a rich information source. From literature regarding SARS in Singapore, we identified informants who met the following criteria: they were key decision-makers at TTSH or in the Ministry of Health with regard to (i) clinical, (ii) nursing, (iii) operations and logistics, or (iv) administrative aspects of the SARS crisis. These potential participants then received an email invitation to be interviewed about their experiences of leadership during the SARS crisis. Of 11 participants who were contacted, seven agreed to be interviewed (Table 1) .In-depth, semistructured and anonymous interviews were conducted individually and were audio-recorded and transcribed. Participants answered interview questions covering three broad areas:the leadership challenges they faced, how they and the organization responded to the crisis, and reflections on leadership during crisis. The first author conducted all the interviews to ensure consistency. Interviews ranged from 60 to 85 min, and interview data comprised approximately 8 hr of audio-recorded data and 130 transcript pages.Despite the fact that interviews were conducted more than a decade after the crisis, participants were able to discuss their experiences in specific detail. We cross-checked details of major events participants described with newspaper articles, email correspondence, and books written about the SARS experience in Singapore.These stories represent salient events in their accounts of SARS, as \"salient events are more likely to be recalled, . . ..(because of) the unusualness of an event, its economic and social costs and benefits, and its continuing consequences\" (Pearson, Ross, & Dawes, 1992: 88) . Given the schedule constraints of the participants, the interviews were completed within a period of approximately 5 months, from May to October 2015.We employed inductive coding processes using the constant comparative method (Strauss & Corbin, 1988 A summary of the main themes and subthemes is shown in Table 2 .The interactions of the leaders with organizational members during SARS were consistent with the main tenets of the RAR model, namely:ushering liminality, forming relational connections during the liminal period, using networks to make meaning and sense, and communicating mindfully to activate positive emotions. Additional representative quotes that illustrate elements of the RAR model are shown (Table 3) .The RAR model indicates that leaders signal that an organization is in crisis by ushering liminality. Besides the formation of new relational structures, liminality also provides an opportunity for the reconstruction of identity in a way that is meaningful for the individual or the community (Noble & Walker, 1997 ). An example of how identity of the hospital staff was reshaped took place with the closure of the Emergency Department, together with elective surgeries and outpatient clinics. All community events were called off, and visitors were banned. The \"normal\" work of a doctor or nurse, in addition to caring for the ill, also involves administrative work, educating junior staff, and medical students, as well as clinical research. During SARS, all non-clinical responsibilities ceased; clinical staff either cared for existing inpatients who could not be discharged (including those who were not SARS patients), or were rostered equally, regardless of medical specialty, to care for SARS patients. Administrative and other staff took up operational roles to support the clinicians. A senior doctor explained:The organisation became stripped of all this \"fluff\": the things that don't actually matter when you work in a crisis, The formation of network links in crisis is often undergirded by shared history and mutual trust. Of the seven participants, five pointed to their shared history of working in TTSH as a factor which enabled them to quickly establish trust when they had to work together during SARS. For example, a nursing leader shared how she had started working with a junior doctor in the same department years ago. Eventually, she was promoted to a nursing sister (a senior nurse) and he became head of another clinical department. When they had to work together during SARS in their respective roles as senior medical and nursing leaders, they could tap upon the social capital afforded by the pre-existing relational connection of mutual trust and support:So, I became a sister of the ward, and he became head of department. There is a lot of mutual trust. We don't talk about it, but he believes that I can do my job, and I believe that he will support me.When forming connections with parties with no shared history or pre-existing ties, the RAR model indicates that leaders may instead utilize swift trust, based on the reputation of their organization, or the party's prior performance record. This was illustrated in the interactions between the hospital clinical leader and a ministry representative. They had never worked together, but the hospital leader described a mutual understanding that government concerns would be addressed by hospital leaders, and government plans would be executed by TTSH:He (the government representative) will never ask me a second time; he will just talk to me on the phone . . . and he knows that it will 100% be done without fail.The government representative also noted that this understanding between them was based on mutual respect for both their organizations:. . .regardless of whether people come from the same background, there has to be mutual respect, because as Ministry director, or hospital chairman-it would not be wise to disregard each other. . .The RAR model suggests that leaders utilize trusted relational con- Leaders facilitate formation of relational networks during liminal period T: \"And then subsequently, there was a formation of a clinical management work group or task force, which looked into clinical policies during SARS. Now, basically all these were invented on the fly, because you know, they never faced this kind of thing before. . . we were a small hospital then. But it was not so difficult. . . these (were the) people you worked with, you've known them for donkey years.\"Leaders use networks for meaning-making and sensemaking S: \"D (another doctor) worked very closely with me during the Nipah (outbreak) . . . and then we were together again during the SARS outbreak. The mentality was very similar throughout the 2 periods; this is a crisis, this is a challenge, and we work together, and we will overcome it.No matter what, we will put in the effort together, and we will overcome the challenge. So we were able to harness the entire team very quickly and then put ourselves through the challenges.\"Leaders use networks for sensegiving to influence organizational members K: \"Our leaders took a very systematic approach of organising work, so although we only handled our own area (they made sure) we understand our contribution to the whole, and how we relate to the rest. That gave us a lot of uh, clarity, sense of relevance, and confidence. And once you feel that you are in good leadership, trust will come. It's very hard to build trust, but the TTSH leadership during the crisis was very strong, very clear, very um. . . *snaps fingers* effective, no dilly-dallying. In a big machine, there's so many nuts and bolts, but very single piece, no matter how small you were, you knew your role in that big piece.\" ground. And the press release will always be at 3pm. So the outsiders will only know after all of us.The effect of the regular updates was to cohere team members, to reduce ambiguity and confusion and to give direction. The \"clockwork\"-like nature also provided a sense of stability to the organizational members: everybody knew when updates would be released.This helped dissipate anxiety and confusion and imposed an overall structure and orderliness in a fluid situation.The RAR model also suggests that leaders, by communicating mindfully, help strengthen relational connections and promote resilience.Mindfulness involves noticing, feeling empathy and reaching out.TTSH leaders took note of the needs of the staff, ensuring all meals were provided by the hospital kitchen, that staff had adequate time and space to rest. An example of how leaders empathized with team members was when a clinical leader admitted to his intensive care unit team members that, not knowing how the disease spread, he could not guarantee they would survive the crisis. However, all of them would face the risks together:(There were) people who asked, what guarantee did they have? No guarantee! But I'm here. We're all in this together, we're all in the same boat. It's not \"oh, don't worry, you'll be fine\"; none of that, because we really don't know. It's \"we're here, we're with you, we're all in this together.\"Leaders also reached out to team members personally, celebrating milestones such as birthdays. These seemingly \"small things\" resulted in a reservoir of goodwill towards the hospital as a whole.Here, a nurse recalled how a senior doctor surprised her during a meeting during SARS:He (the senior doctor) suddenly announced that there were two birthday girls here, myself and M-the Infection Control nurse-\"let's wish them and give them a day off\". Of course we said that we didn't want to go, but he said \"No, it's your special day, go home\". So he gave us each a cake, and both of us took the cake and went home to our family.These acts of empathy and concern would have given the staff a measure of authentic hope and confidence (Leonard & Howitt, 2009 ) and generated positive emotions to enable them to be resilient during the crisis.In summary, the TTSH case study of SARS provides examples of each of the main elements of the RAR model. By recognizing early signs of crisis and ushering liminality, organizational leaders help create a space where relational networks can be reformed. As influential members of these networks, leaders help promote their formation, utilize them in collective meaning and sensemaking and communicate mindfully via these networks, to promote organizational resilience.  \n"
          ],
          "name": "stdout"
        }
      ]
    },
    {
      "cell_type": "code",
      "metadata": {
        "id": "vXqysVStW9wR"
      },
      "source": [
        "with open(os.path.join(wd, 'corpus_batch6.txt'),'w') as f:\n",
        "  f.write(corpus_batch1)"
      ],
      "execution_count": null,
      "outputs": []
    },
    {
      "cell_type": "code",
      "metadata": {
        "id": "2K5GvAblXAdb"
      },
      "source": [
        "corpus = ''\n",
        "with open(os.path.join(wd, 'corpus_batch1.txt'),'r') as f:\n",
        "  batch = f.read()\n",
        "  corpus = corpus + batch + '\\n'\n",
        "\n",
        "with open(os.path.join(wd, 'corpus_batch2.txt'),'r') as f:\n",
        "  batch = f.read()\n",
        "  corpus = corpus + batch + '\\n'\n",
        "\n",
        "with open(os.path.join(wd, 'corpus_batch3.txt'),'r') as f:\n",
        "  batch = f.read()\n",
        "  corpus = corpus + batch + '\\n'\n",
        "\n",
        "with open(os.path.join(wd, 'corpus_batch4.txt'),'r') as f:\n",
        "  batch = f.read()\n",
        "  corpus = corpus + batch + '\\n'\n",
        "\n",
        "with open(os.path.join(wd, 'corpus_batch5.txt'),'r') as f:\n",
        "  batch = f.read()\n",
        "  corpus = corpus + batch + '\\n'\n",
        "\n",
        "with open(os.path.join(wd, 'corpus_batch6.txt'),'r') as f:\n",
        "  batch = f.read()\n",
        "  corpus = corpus + batch "
      ],
      "execution_count": null,
      "outputs": []
    },
    {
      "cell_type": "code",
      "metadata": {
        "colab": {
          "base_uri": "https://localhost:8080/"
        },
        "id": "f76TKIZmb1jY",
        "outputId": "ea66f66c-ac30-4c46-d951-d89e0edb410f"
      },
      "source": [
        "print (len(corpus.split('\\n')))"
      ],
      "execution_count": null,
      "outputs": [
        {
          "output_type": "stream",
          "text": [
            "56628\n"
          ],
          "name": "stdout"
        }
      ]
    },
    {
      "cell_type": "code",
      "metadata": {
        "id": "zDQ2sX58cCcR"
      },
      "source": [
        "with open(os.path.join(wd, 'corpus.txt'),'w') as f:\n",
        "  f.write(corpus)"
      ],
      "execution_count": null,
      "outputs": []
    },
    {
      "cell_type": "code",
      "metadata": {
        "colab": {
          "base_uri": "https://localhost:8080/"
        },
        "id": "r1JiRfg9cThQ",
        "outputId": "d9413f25-9f4e-4f0b-8f14-437c397aba88"
      },
      "source": [
        "wd = os.path.join('My Drive/NLP/')\n",
        "with open(os.path.join(wd, 'corpus.txt'), 'r') as f:\n",
        "  corpus = f.read()\n",
        "\n",
        "print (len(corpus.split('\\n')))\n",
        "print (corpus.split('\\n')[0])"
      ],
      "execution_count": null,
      "outputs": [
        {
          "output_type": "stream",
          "text": [
            "56628\n",
            "Postweaning mortality in commercial swine production II: review of infectious contributing factors a Qualitative assignment of relative incidence and magnitude of mortality was performed by primary author (J.T.G.) based on summarization of published literature.b Relative incidence of mortality attributed to the infectious agent was denoted using a system ranging from + to +++. Infectious agents not currently in domestic swine populations in the United States was denoted by \"−\". c Relative magnitude of mortality in a population attributed to the presence of the infectious agent was described as + (low potential), ++ (moderate potential), and +++ (significant potential). d Caused by Brachyspira hyodysenteriae, Brachyspira hampsonii, and Brachyspira suanatina. e Including, but not limited to, African swine fever virus, classical swine fever virus, and foot and mouth disease. f Caused by Mycoplasma hyopneumoniae. g Includes PEDV, TGEV, and PDCoV. h Formerly Haemophilus parasuis. i Includes Mycoplasma hyosynoviae, Mycoplasma hyorhinis, and Mycoplasma suis. ABSTRACT: Postweaning mortality is extremely complex with a multitude of noninfectious and infectious contributing factors. In the current review, our objective is to describe the current state of knowledge regarding infectious causes of postweaning mortality, focusing on estimates of frequency and magnitude of effect where available. While infectious mortality is often categorized by physiologic body system affected, we believe the complex multifactorial nature is better understood by an alternative stratification dependent on intervention type. This category method subjectively combines disease pathogenesis knowledge, epidemiology, and economic consequences. These intervention categories included depopulation of affected cohorts of animals, elimination protocols using knowledge of immunity and epidemiology, or less aggressive interventions. The most aggressive approach to control infectious etiologies is through herd depopulation and repopulation. Historically, these protocols were successful for Actinobacillus pleuropneumoniae and swine dysentery among others. Additionally, this aggressive measure likely would be used to minimize disease spread if either a foreign animal disease was introduced or pseudorabies virus was reintroduced into domestic swine populations. Elimination practices have been successful for Mycoplasma hyopneumoniae, porcine reproductive and respiratory syndrome virus, coronaviruses, including transmissible gastroenteritis virus, porcine epidemic diarrhea virus, and porcine deltacoronavirus, swine influenza virus, nondysentery Brachyspira spp., and others. Porcine circovirus type 2 can have a significant impact on morbidity and mortality; however, it is often adequately controlled through immunization. Many other infectious etiologies present in swine production have not elicited these aggressive control measures. This may be because less aggressive control measures, such as vaccination, management, and therapeutics, are effective, their impact on mortality or productivity is not great enough to warrant, or there is inadequate understanding to employ control procedures efficaciously and efficiently. Since there are many infectious agents and noninfectious contributors, emphasis should continue to be placed on those infectious agents with the greatest impact to minimize postweaning mortality.Postweaning mortality is caused by a complex host of etiologies and risk factors with myriad interactive effects. In an effort to reduce postweaning mortality, contributors must be identified and effective strategies must be generated, evaluated, and implemented. Historically, greater resource allocation has been directed toward preweaning mortality, including research and summary articles, compared with postweaning mortality (Bereskin et al., 1973; Alonso-Spilsbury et al., 2007; Muns et al., 2016; Liu et al., 2018) . To reduce mortality most effectively, producers and researchers should focus attention on those contributing factors with the greatest magnitude of effect and that can be controlled. We are unaware of any recent literature review, systematic review, or meta-analysis that has been performed regarding postweaning mortality. While causes of infectious mortality are often categorized by physiologic body system affected, we believe the complex multifactorial nature is better understood by an alternative stratification based on the intervention type applied. This category method subjectively combines knowledge of disease pathogenesis, epidemiology, and economic consequences. The proposed intervention categories are depopulation of affected cohorts of animals, elimination protocols using knowledge of immunity and epidemiology, and a third category of less aggressive interventions. This categorization allows simplification of the innumerable interactions between infectious and noninfectious factors contributing to postweaning mortality that are summarized as \"the causal web\" proposed by Gebhardt et al. (2020) . One of the most complex and important interactive effects is the impact of various noninfectious factors on incidence, severity, and resolution of disease. Our objective is to describe the current state of knowledge regarding infectious causes of postweaning mortality, focusing on estimates of frequency, and magnitude of effect where available. The current document will focus on infectious causes of postweaning mortality without describing detailed clinical signs or therapeutic, control, or preventative measures.The literature search was performed using Web of Science (https://login.webofknowledge. com/), which incorporated the Web of Science Core Collection, CAB Abstracts, and Medline databases, and Pubmed (www.ncbi.nlm.nih.gov/ pubmed/), as well as the Scopus (www.scopus. com). Search terms included (SWINE OR PIG) AND (MORTALITY OR MORBIDITY OR DEAD OR REMOVAL) AND the respective search item of interest. Additionally, the assessment of bibliographical items resulted in further identification of relevant sources. Articles were restricted to primarily English language; however, non-English articles that contained an English abstract where relevant information could be extracted were included. Once relevant articles were identified, they were filed and categorized according to topic for further evaluation. This review is based on peer-reviewed literature without including conference proceedings and other nonpeer-reviewed literature.Infectious disease is a common contributing factor to mortality in all growth stages of swine. Mortality categories with the largest proportions include respiratory, gastrointestinal, meningitis/ central nervous system signs, and failure to thrive (USDA 2015) . Relative measures of incidence and magnitude of effect for infectious causes of postweaning mortality is included in Table 1 . Disease is multifactorial in nature, often described as an epidemiologic triad consisting of agent, host, and environment (Dohoo et al., 2003) . For the purpose of this endeavor, the epidemiologic triad of determinants of disease can be categorized into infectious and noninfectious factors (Fig. 1) . Infectious agents can include viruses, bacteria, parasites, and other agents, such as fungi or prions and are discussed in the current report. Noninfectious factors include characteristics of the host and environment that are discussed in greater detail in the accompanying manuscript. It is critical to understand the interwoven nature of these factors and acknowledge the complexity of biology, physiology, and production outcomes.Reported incidence of specific disease processes for nursery, wean-to-finish, and grow-finish sites is provided in Fig. 2 (USDA, 2016) . Mortality has been shown to be significantly greater in animals experiencing a high health challenge [porcine reproductive and respiratory syndrome virus (PRRSV) and swine influenza virus A (IAV); 19.9%)] compared to moderate health challenge (IAV; 7.7%) or low health challenge (no PRRSV or IAV; 3.3%; Cornelison et al., 2018) . Such data illustrates the significant impact that the combination of infectious causes of mortality can have on postweaning mortality. Throughout this review, the terminology of commercial swine production and domestic swine are used interchangeably to describe the swine population raised in a controlled, nonferal manner. One approach to conceptualizing infectious postweaning mortality causes is categorization by physiologic system affected. Major systems affected and associated infectious agents include respiratory (IAV, PRRSV, Mycoplasma spp., and Glasserella parasuis), enteric (Lawsonia intracellularis and Brachyspira spp.), and systemic (Erysipelothrix rhusiopathiae, Streptococcus suis, and porcine circovirus). This approach is commonly used to attempt to understand the interaction between infectious agents resulting in pathology of certain systems, but we will propose and describe an alternative intervention-based approach below.Porcine respiratory disease complex (PRDC) is often multifactorial, with combinations of viruses, bacteria, and sometimes parasites causing severe losses. Respiratory disease is one of the most common causes of mortality attributed to infectious causes, with an estimated 47% of nursery mortality, 75% of grower/finisher mortality, and approximately 60% of wean-to-finish mortality associated with respiratory disease (USDA, 2015) . Multiple pathogenic mechanisms may be additive or synergistic by enhancing colonization and organism virulence or compromising various host defense mechanisms. Examples include damage to the mucociliary apparatus, immunosuppression, altering cytokine responses, or reducing macrophage function (Yaeger and Van Alstine, 2019) . Further description of the polymicrobial nature of PRDC has been described (Choi et al., 2003; Palzer et al., 2008; Opriessnig et al, 2011) . Respiratory disease complex is augmented by interactions of infectious and noninfectious factors. Factors such as time between successive batches of pigs in a barn and air quality have been associated with increased incidence and severity of PRDC (Fablet et al., 2012a) . This demonstrates the importance of the interaction of noninfectious contributors with infectious insults then resulting in pulmonary pathology and increased mortality. Morbidity estimates for PRDC in a number of different contexts have been reported to range from 1.9% to 40% and mortality from 2% to 20% (Baumann and Bilkei, 2002; Petersen et al., 2008; Hansen et al., 2010) .Enteric disease leads to mortality through impaired gastrointestinal structure or function. Infectious agents capable of damaging the gastrointestinal tract include but are not limited to L. intracellularis, Brachyspira spp., Escherichia coli, Salmonella spp., coronaviruses, rotaviruses, and parasites. Similar to respiratory disease, multiple agents are often detected in clinical disease (Thomson et al., 1998; Stege et al., 2000; Thomson et al., 2001; Merialdi et al., 2003; Suh and Song, 2005; Reiner et al., 2011; Viott et al., 2013) .In addition to the respiratory and gastrointestinal system, infectious agents can also affect multiple body systems and result in mortality postweaning. [E. rhusiopathiae, porcine circovirus type 2 (PCV2), pseudorabies virus (PRV), foreign animal diseases (FAD)] Many bacterial agents associated with PRDC (S. suis, G. parasuis, and Actinobacillus suis) can also result in systemic disease with arthritis, septicemia, and meningitis. Other postweaning mortality infectious causes include shiga toxin-producing E. coli (STEC), which produces a toxin resulting in edema disease. Greasy pig disease, which may or may not be fatal, is a result of toxin production by Staphylococcus hyicus. Most of the agents responsible for systemic disease are commonly found in most swine herds. The diseases which may result, including polyserositis, erysipelas, edema disease, or other miscellaneous infections, accounted for 7.3% of pigs necropsied following euthanasia or death as reported by Baumann and Bilkei (2002) . Another sporadic pathology associated with septicemia is bacterial endocarditis, which has been reported to be found in 0.019-0.038% of finishing pigs and has been associated with multiple etiologies, including Streptococcus spp, E. rhusiopathiae, Arcanobacterium pyogenes, Staphylococcus aureus, and Streptococcus porcinus (Katsumi et al., 1997) . Although a systems-based approach is commonly used to conceptualize infectious diseases, we hereafter propose an intervention-based framework.Varying levels of intervention can be used to control infectious causes of mortality, including: 1) aggressive depopulation of affected cohorts of animals, 2) elimination protocols using knowledge of immunity, not introducing naïve susceptible host animals for a sufficient period of time, with or without additional control measures, such as herd medication, or 3) less aggressive interventions. Using such an approach to conceptualizing infectious causes of postweaning mortality allows for a clearer understanding of the potential magnitude effect of prolonged presence of the etiologic agent in a swine production system.The most aggressive approach to control infectious etiologies is through depopulation of affected herds. Historically, these protocols have been implemented with success for Actinobacillus pleuropneumoniae (APP) and swine dysentery, as well as others as described by Sasaki et al. (2016) . Justification to implement such aggressive measures is dependent upon the realization that satisfactory production efficiency cannot be achieved with the agent present in the herd. In addition to the aforementioned agents, depopulation would likely be used for control and elimination of regulatory-designated FAD or pseudorabies virus if introduced into domestic swine populations in the United States because of higher-level concerns, including access to international trade partners.Swine dysentery Clinical disease known as swine dysentery is caused by Brachyspira hyodysenteriae, Brachyspira hampsonii, and Brachyspira suanatina (Burrough, 2017; Hampson, 2018a; Rohde et al., 2018; Hampson and Burrough, 2019) . The prevalence of Brachyspira spp. has been widely reported in the literature, but clinical disease associated with swine dysentery is much less frequent in the United States compared with historical rates (Hampson and Burrough, 2019) . Morbidity for swine dysentery can be up to 90% of the population and mortality can be as high as 30% in extreme clinical settings and 50% in experimental settings (Hampson and Burrough, 2019) . Depopulation and, in some cases, elimination strategies without depopulation have been implemented with success resulting in a relatively low prevalence in the United States.Actinobacillus pleuropneumoniae Clinical disease caused by APP is characterized by rapid progression pneumonia with death sometimes within hours (Gottschalk and Broes, 2019) . Clinical disease caused by APP has decreased over time, primarily through aggressive depopulation of affected herds, with only a small percentage of sites reporting clinical disease in recent years (USDA, 2016) . Vaccination for APP in field trials has been shown to reduce absolute mortality by 3-5% or a relative reduction of 65-83% (Habrun et al., 2002; Del Pozo Sacristan et al., 2014;  Table 2 ). Morbidity is estimated to range from 10% to 100% in clinically affected herds, with mortality ranging from less than 1% to 10% in acute outbreaks (Frank et al., 1992; Pozzi et al., 2011; Sassu et al., 2018) . Nevertheless, globally, APP remains an aggressive and important etiologic agent with the potential to substantially contribute to postweaning mortality. Pseudorabies virus Pseudorabies virus, also known as suid herpesvirus 1 or Aujeszky's disease, is an enveloped virus that can lead to reproductive losses, neurological signs, and mortality (Mettenleiter et al., 2019) . Seroprevalence historically was 50% or greater in commercial herds (Elbers et al., 1992) . The U.S. commercial swine herd was declared free of PRV in 2004 through intense eradication efforts (Pedersen et al., 2013) . McNulty (2003) reported up to 20% mortality in pigs aged 14-20 wk. Pseudorabies remains prevalent in Asia (Hu et al., 2016) , with highly virulent strains described with morbidity estimates of 30-80% and mortality estimates of 3-60% in commercial settings postweaning (Wu et al., 2013; Yu et al., 2014; Gu et al., 2015; Yamane et al., 2015) and high morbidity and mortality in experimental settings (Tong et al., 2015) . Pseudorabies virus has been eradicated from commercial swine in the United States but remains a significant concern internationally, and the possibility of reintroduction is ever present and implications on morbidity and mortality could be significant.Foreign animal disease Multiple FAD present a risk for significant postweaning mortality, including African swine fever (ASF), classical swine fever (CSF), and foot and mouth disease (FMD) among others. While these diseases are not currently circulating in the United States, introduction may pose massive losses both via pathogenic mechanisms and voluntary depopulation to minimize disease spread. Possible routes of introduction could include live animals, meat, other swine swine-based products, or fomites, including feed or feed ingredients (Dee et al. 2018; Beltran-Alcrudo et al., 2019; Jurado et al., 2019; Niederwerder et al., 2019) . It has been reported that mortality following exposure to CSF ranges from 40% to 48% (Laevens et al., 1999; Dewulf et al., 2000) . During an outbreak of ASF in Nigeria in 2001, mortality estimates ranged from 76% to 91% in postweaning pigs (Babalobi et al., 2007) . Mortality associated with FMD is much lower at an estimated 2.5% (Pozzi et al., 2019) . While FAD are not currently in the United States, introduction of such diseases or novel diseases would lead to significant mortality through pathology or depopulation to control disease spread, loss of trade access, and economic and social implications.When the burden of infectious etiologies is too great to effectively manage, elimination of disease is often attempted. Elimination protocols often involve elimination of offending pathogen(s) from the sow farm producing weaners followed by weaning uninfected pigs to a depopulated, clean site. Sow farm elimination is by not introducing naïve animals for the time period sufficient for immune clearance to eliminate the pathogen and/ or reduce shedding to levels that are not infective for susceptible animals when introduced. These protocols often involve periodic vaccination of the herd during the closure period and, with some bacteria, whole-herd antimicrobials prior to the Additionally, lice and mange can be managed with elimination but will not be discussed further as they currently do not lead to significant levels of postweaning mortality when using modern, confinement production practices. Mycoplasma hyopneumoniae Mycoplasma spp. are very common organisms that lead to a number of disease processes, including an important role in PRDC through interactions with coetiologies. Clinical enzootic pneumonia is caused by MHP, historically the most important Mycoplasma sp. and a major contributor to PRDC (Pieters and Maes, 2019) . The identification of MHP in swine is very common (Maes et al., 2000; Choi et al., 2003; Kukushkin and Okovytaya, 2012; Merialdi et al., 2012; Vangroenweghe et al., 2015; USDA, 2016) . Clinical presentation of MHP can be asymptomatic but also can result in clinical disease without coetiologies. More commonly, disease results due to multifactorial infections (Thacker and Minion, 2012) . Vaccination for MHP has variable impact on absolute mortality in field trials, ranging from slightly greater mortality to a reduction in mortality of 4% or a relative reduction up to 100% (Bilic et al., 1996; Maes et al., 1998; Maes et al., 1999; Pallares et al., 2000; Stipkovits et al., 2003; Holyoake et al., 2006; Tzivara et al., 2007; Tassis et al., 2012; Kristensen et al., 2014) . Commercial production records from flows that were MHP negative had an absolute finishing mortality that was 1.26% lower compared with MHP-positive flows (Silva et al., 2019) . Efforts have been directed toward MHP elimination from sow populations in recent years, and the probability of a sow herd being negative for MHP 1 year following herd closure has been reported to be 83% (Silva et al., 2019) . Elimination protocols using whole-herd medication without herd closure have been implemented but with lower success rates (Silva et al., 2019) .Porcine reproductive and respiratory system virus Clinical disease associated with PRRSV in postweaning pigs include respiratory disease, reduced growth rate, and increased mortality (Zimmerman et al., 2019) . Coinfections with other respiratory viruses and bacteria are common with PRRSV infections. Disease associated with PRRSV is very common within the United States (Choi et al., 2003; Tousignant et al., 2015; USDA, 2016) . Additionally, clinical disease associated with PRRSV has a very predictable seasonal pattern with greatest weekly incidence occurring during the fall and winter (Tousignant et al., 2015) . Porcine reproductive and respiratory syndrome virus seropositive herds were associated with low grow-finish performance [including average daily gain (ADG), gain-feed ratio (G:F), mortality, and carcass weight] compared with PRRSV seronegative herds (Fablet et al., 2018) . Porcine reproductive and respiratory syndrome virus status at the time of weaning had a significant impact on postweaning mortality, with positive batches of animals having a median relative increase in mortality of 34% over the expected mortality of the system, meaning that absolute mortality would be 1.8% greater in PRRSV-positive batches of animals compared with PRRSV-negative batches (Alvarez et al., 2015a) . Additionally, grow-finish pigs that were PRRSV positive at weaning have been shown to have the greatest mortality, followed by pigs that became PRRSV positive at some point during the grow-finish period and pigs that were PRRSV negative throughout (9.3%, 7.4%, and 6.0% mortality, respectively; Holtkamp et al., 2013) . Vaccination for PRRSV in field trials has been shown to reduce absolute mortality by 4-17% or a relative reduction of 55-93% (Mavromatis et al., 1999; Park et al., 2014; Jeong et al., 2018) . In one report where a vaccination program was initiated following a PRRSV outbreak in a sow farm, nursery mortality was reported to be 9.3% during the first 18 wk of the outbreak and was reduced to 2.2% 19 wk later following resolution of clinical disease (Kvisgaard et al., 2017) . Morbidity rates have been reported to range from 45% to 100%, with 20-100% mortality (Tong et al., 2007; Lyoo et al., 2015; Liu et al., 2017; Dong et al., 2018) . Porcine reproductive and respiratory syndrome virus is a very common and frustrating virus that results in respiratory disease among other disorders. The major impact of PRRSV on postweaning pigs is the contribution to PRDC, which can lead to significant mortality.Clinical disease associated with IAV is common (Loeffen et al., 1999; Choi et al., 2003; USDA, 2016) , and morbidity within a population can be high. Synergistic effects have been observed with both bacteria and viruses in conjunction with IAV (Van Reeth and Vincent, 2019). Morbidity and mortality range significantly depending on situation-specific factors, including immunity, other infectious agents present, and management/control factors being implemented. When acting alone, IAV does not often lead to substantial mortality. Interactions with other infectious agents often are an outcome of IAV infections that can lead to mortality. Influenza status at the time of weaning had a significant impact on postweaning mortality, with positive batches of pigs having a median increase in relative mortality of 13% over the expected mortality of the system (Alvarez et al., 2015a) . Infection with IAV is extremely common, and a large percentage of pigs are exposed at some point in their lifetime. Morbidity estimates vary greatly but are of little value without consideration of other infectious agents. Morbidity estimates have been reported to increase by 2-100% when exposed to various IAV biotypes, and mortality has been reported to range from 1% to 10% (Ma et al., 2010; Welsh et al., 2010; Markowska-Daniel et al., 2013) . IAV is a common infectious agent providing a significant contribution to PRDC and subsequent mortality.Nondysentery Brachyspira spp. Disease caused by nondysentery Brachyspira spp. include porcine intestinal spirochetosis caused by Brachyspira pilosicoli (Trott et al., 1996; Hampson, 2018b) , as well as colitis caused by Brachyspira murdochii and Brachyspira intermedia (Hampson and Burrough, 2019) . Infection with B. pilosicoli has been reported to result in reduced growth performance with watery diarrhea (Hampson, 2018b) , with morbidity between 5% and 15% in growing pigs with mortality approximately 1% (Thomson et al., 1998) . Additionally, colitis caused by B. murdochii and B. intermedia is thought to be self-limiting and leads to minimal morbidity and mortality (Hampson and Burrough, 2019) . The impact on morbidity and mortality attributed to nondysentery Brachypira spp. is relatively minimal compared to swine dysentery.Coronaviruses Swine enteric coronaviruses (SEC) are enveloped viruses including PEDV, TGEV, and PDCoV. Porcine respiratory coronaviruses are believed to be derived from TGEV through the deletion of a spike gene and were first described in the 1980s (Saif et al., 2019) . The clinical significance of porcine respiratory coronavirus has been much lower compared with enteric coronaviruses, and additional information can be found elsewhere. Enteric coronaviruses replicate within the enterocytes of the small intestine, leading to profound epithelial necrosis, villus atrophy, severe maldigestive, and malabsorptive diarrhea (Saif et al., 2019) . The age when pigs are infected impacts on morbidity and mortality, with morbidity and mortality nearly 100% in pigs less than 7 d of age, 60-85% morbidity with low mortality if infected from 14 to 28 d of age, and lesser morbidity and mortality thereafter (Shibata et al., 2000; Madson et al., 2014) . When comparing postweaning batches of pigs either PEDV positive or PEDV negative, it has been shown that PEDV-positive batches have a mean increase in mortality of 2-11% compared with PEDV-negative batches (Alvarez et al., 2015b; Yamane et al., 2016) . Swine enteric coronaviruses lead to very high morbidity and mortality rates in young pigs, with less severe impacts postweaning. Nonetheless, SEC can result in substantial postweaning morbidity and mortality.Multiple postweaning mortality infectious causes have not been aggressively controlled through depopulation or elimination methods. Reasoning for lack of depopulation or elimination efforts are due to the high efficacy of immunization (e.g., PCV2) or are extremely common inhabitants of swine and/or the environment. Multiple infectious agents within this category can result in mortality without coinfections, while others are commonly associated with coinfections leading to multifactorial disease. However, most of these organisms do have noninfectious risk factors for disease expression. Protozoa such as Cystoisospora suis and Eimeria spp. can occasionally result in diarrhea postweaning, but clinical disease has much greater significance preweaning (Lindsay et al., 2019) . Additionally, nematodes such as Ascaris suum and others are common if swine have access to dirt and can be managed with anthelmintic drugs (Brewer and Greve, 2019) . Protozoa and nematodes can be minor factors contributing to postweaning mortality in modern, intensive swine production systems but will not be discussed further.Streptococcus spp. While Streptococcus spp. are often present in healthy animals, significant disease can result, most commonly associated with S. suis (MacInnes et al., 2008; USDA, 2016) . Infection with PRRSV has been shown to increase susceptibility to S. suis infection (Thanawongnuwech et al., 2000; Li et al., 2019) . Systemic infections (sepsis or septicemia) result in multiple disease processes, including meningitis, polyserositis (epicarditis, pleuritis, and peritonitis), synovitis, arthritis, endocarditis, encephalitis, abortions, and abscesses (Staats et al., 1997) . It has been observed that pigs are more likely to die due to S. suis if one or more littermates died during the nursery phase (Hopkins et al., 2018) . Additionally, mortality associated with S. suis during the study period was shown to be less in offspring from sow's second litter compared with the first (Hopkins et al., 2018) . Together, these results suggested that mortality in a farm experiencing S. suis-related disease is associated with maternal influence. Vaccines have been shown to reduce relative postweaning mortality from 21% to 51% compared with nonvaccinated cohorts (Pejsak et al., 2001; Hopkins et al., 2019) . It has been reported that morbidity ranges are highly variable from less than 0.3-80% but most commonly below 5% (St. John et al., 1982; Staats et al., 1997) with an associated case fatality risk of 2-100% (St. John et al., 1982) based on a number of cofactors. This wide range of morbidity and mortality estimates can be at least partially attributed to the confounded nature of multiple bacterial agents typically involved and difficulty identifying certain pathological manifestations. Treatment has been reported to be successful when performed early with mortality ranging from 0% to 5%, but herd mortality has been reported to be as high as 20% in some situations (Staats et al., 1997; Torremorell et al., 1997; Villani et al., 2003; Hopkins et al., 2018) . Streptococcus suis is a common infectious agent identified in swine production settings and can lead to substantial postweaning morbidity and mortality.Glasserella (formerly Haemophilus) parasuis Glasser's disease is caused by this gram-negative bacterial species, characterized by fibrinous polyserositis and septicemia with tissue localizations in brain, joints, or lungs (Aragon et al., 2019) . Glasserella parasuis is commonly present and can lead to significant mortality in populations of animals with no previous exposure. This diverse organism is a common inhabitant of the nasopharyx (Smart et al., 1989; Choi et al., 2003; MacInnes et al., 2008; USDA, 2016) but, when sepsis occurs, presents with clinical signs similar to signs observed with S. suis. Like S. suis, G. parasuis may interact with PRRSV to contribute to PRDC (Kavanova et al., 2017) , although clear evidence of such an interaction was not observed by Solano et al. (1997) . Vaccination of sows with an autogenous G. parasuis vaccine has been shown to reduce offspring nursery mortality (1.4-2.1% monthly mortality for control vs. 0.5-0.9% monthly mortality for vaccinated; McOrist et al., 2009 ). An important consideration when interpreting results of any vaccination trial for this or other pathogens is the potential for underlying publication bias, as well as confounding factors. Mortality rates can range from 5% to 10% in herds with previous exposure (Nielsen and Danielsen, 1975; Smart et al., 1993; Aragon et al., 2019) and up to 75% in naïve herds (Aragon et al., 2012) .Pasteurella multocida Clinical disease associated with P. multocida occurs as either upper respiratory tract disease known as progressive atrophic rhinitis (PAR, commonly serotype D) or lower respiratory tract pneumonia (commonly serotype A). Pasteurella multocida can be commonly isolated from the respiratory tract of pigs and is historically very important due to PAR. Progressive atrophic rhinitis is caused by specific toxin-producing strains of P. multocida that either alone or in combination with Bordetella bronchiseptica can lead to destruction of the nasal turbinates and deformation of the snout . The occurrence of PAR is now relatively rare, and elimination strategies have been successful over time.Generally, P. multocida alone is poorly effective at attaching and colonizing lower respiratory epithelium. When damage to the respiratory mucosa and debris-clearing mechanism occurs, colonization can occur leading to pneumonia . Thus, pneumonia due to P. multocida is largely dependent on other infectious agents to compromise pulmonary clearance or establish the early stages of clinical disease and, then, secondarily colonizes and contributes to disease. Vaccination with both inactivated P. multocida and B. bronchiseptica antigen has been shown to reduce postweaning mortality (5.3% for vaccinated group vs. 10.1% for unvaccinated group; Stojanac et al., 2013) . Pasteurella multocida-associated disease has resulted in mortality from 5% to 40% in pigs of all ages (Pijoan and Fuentes, 1987; Cameron et al., 1996; Register et al., 2012) . Like many respiratory infectious agents, providing specific estimates of mortality is difficult and dependent on a number of population-specific factors, including the presence of coinfections. The overall incidence of progressive atrophic rhinitis is very low with multisite, all-in/all-out production.Bordetella bronchiseptica The primary agent associated with reversible, nonprogressive atrophic rhinitis is the gram-negative rod bacteria B. bronchiseptica . The presence of P. multocida, with or without B. bronchiseptica, results in much more severe progressive atrophic rhinitis . Bordetella bronchiseptica is associated with respiratory disease as a primary cause of pneumonia through colonization enhanced by other infectious agents, such as IAV and through enhancing colonization of other infectious agents (Loving et al., 2010; Brockmeier et al., 2019) . Bordetella bronchiseptica is commonly isolated from the respiratory tract of pigs (Choi et al., 2003; Zhao et al., 2011; Kumar et al., 2014) and can contribute to multifactorial disease processes historically, including atrophic rhinitis and most commonly PRDC. Estimates of morbidity and mortality are not available largely due to the complex multifactorial nature of resulting disease.Other Mycoplasma spp. Additional Mycoplasma spp. are commonly isolated and associated with disease processes in swine, including Mycoplasma hyosynoviae resulting in arthritis in grow-finish pigs, Mycoplasma hyorhinis resulting in polyserositis and arthritis, and Mycoplasma suis resulting in loss of red blood cells (Pieters and Maes, 2019) . While estimates of the impact on morbidity and mortality are not available, the magnitude of effect is believed to be relatively low.Actinobacillus suis Sepsis due to A. suis can be very severe, but A. suis has a lower attack rate compared to APP. Isolation of A. suis is common in the upper respiratory organism of pigs (Gottschalk and Broes, 2019) . Infection with A. suis has been described to lead to significant preweaning pig mortality (Sanford et al., 1990) . This organism is associated with acute sepsis, serositis, and pneumonia in all stages postweaning, with or without other identified cofactors. The clinical significance is historically less in postweaning populations compared to APP, with little information available regarding estimates of magnitude of effect.Lawsonia intracellularis Clinical disease due to L. intracellularis is known as ileitis, garden hose gut, or porcine proliferative enteropathy (Vannucci et al., 2019) . Lawsonia intracellularis is a common organism (Chang et al., 1997; Chiriboga et al., 1999; Stege et al., 2000; Jacobson et al., 2005; Biksi et al., 2007; Dors et al., 2015; Weber et al., 2015; USDA, 2016) affecting postweaning pigs. Vaccination for L. intracellularis in field trials has shown variable effects ranging from slightly increased mortality with vaccination to reduction of absolute mortality by up to 16% or a relative reduction of 91% (Almond et al., 2006; Deitmer et al., 2011; Peiponen et al., 2018) . Morbidity rates in cases of hemorrhagic enteropathy can range from 12% to 50%, and up to 50% of animals affected may result in mortality (Lawson and Gebhart, 2000; Kroll et al., 2005) , whereas chronic disease can result in mortality around 1% (Lawson and Gebhart, 2000; Pejsak et al., 2009) . Lawsonia intracellularis is common in swine herds and, in nonvaccinated populations, can cause moderate levels of morbidity and mortality as a result of acute and chronic manifestations of disease.Clinical disease due to Salmonella spp. are primarily due to Salmonella enterica serotype typhimurium and S. enterica serotype choleraesuis (Griffith et al., 2019) . Hostadapted Salmonella choleraesuis affects postweaning pigs and results in septicemia (Griffith et al., 2019) , whereas Salmonella typhimurium is more like to be manifested with diarrhea and dehydration. In the United States, S. typhimurium is isolated with greater frequency compared to S. choleraesuis (Foley et al., 2008; Griffith et al., 2019) . The mortality associated with S. typhimurium is reportedly low (Griffith et al., 2019) , although specific estimates are not available. Cases of S. choleraesuis often result in a morbidity of <10% with a high case fatality risk (Griffith et al., 2019) . Pedersen et al. (2015) reported mortality ranging from 20% to 30% in Danish herds following an outbreak of S. choleraesuis. Due to the zoonotic nature of Salmonella, numerous studies have investigated Salmonella prevalence in swine populations, which are widely available in published literature. One recent report describes such changes from 1997 to 2015, reporting an increase in the prevalence of S. enterica serovar 4,[5],12:i- (Yuan et al., 2018) , and has been associated with clinical disease (Shippy et al., 2018; Naberhaus et al., 2019) . Other Salmonella spp. remain important potential contributors to postweaning mortality with the additional ever-present risk of zoonosis.Escherichia coli Multiple disease processes in postweaning pigs are a result of the gram-negative bacterium, including postweaning diarrhea, edema disease, and septicemia/endotoxemia, (Fairbrother and Nadeau, 2019) . A case-control study comparing 50 Canadian nurseries with and without postweaning E. coli was performed and found that the mortality in case farms was 7.7% compared to 1.8% in control farms (Amezcua et al., 2002) . Postweaning diarrhea can result in mortality up to 25% but is more commonly much lower ranging from 1.5% to 2% (Fairbrother and Nadeau, 2019) . Escherichia coli is a common enteric infectious agent that results in morbidity in postweaning pigs. The magnitude on mortality is often mild to moderate but can be more severe in select cases.The edema caused by STEC is due to toxin production that enters the circulatory system and damages blood vessel walls, leading to fluid leakage into extravascular tissues (Fairbrother and Nadeau, 2019) . Edema disease is relatively infrequent (USDA, 2016) . Sporadic mortality can occur with a case mortality rate from 50% to 90% (Fairbrother and Nadeau, 2019) . Edema disease secondary to toxin production by STEC is relatively uncommon and is not a major contributor to postweaning mortality.Rotaviruses Multiple rotavirus groups have been identified, with rotavirus A being the most common and pathogenic to pigs, B being less common, and C primarily affecting preweaning pigs (Shepherd et al., 2019) . Rotavirus infections also occur with other etiologies, increasing the severity of disease (Shepherd et al., 2019) . Viral replication occurs within the epithelium of the intestine, leading to villus blunting and reduced absorptive capacity. Rotavirus C has been reported to cause 60-80% morbidity in feeder pigs with no mortality (Kim et al., 1999) . Morbidity associated with mixed rotavirus infections has been reported to be as high as 70%, with mortality rates as high as 11% (Molinari et al., 2016) . Research has also used molecular diagnostic techniques to characterize the presence of rotavirus from postweaning pigs with diarrhea (Martella et al., 2007; Lorenzetti et al., 2011) . A common presentation of rotavirus infections occurs within the preweaning period as piglet diarrhea but can be a contributing etiology to postweaning diarrhea also. Rotavirus can result in significant malabsorptive diarrhea in postweaning pigs due to villous blunting and, especially in the presence of coinfections, can be a contributor to postweaning mortality from other causes, such as colibacillosis, salmonellosis, or inanition.Hemorrhagic bowel syndrome Hemorrhagic bowel syndrome (HBS), also known as intestinal hemorrhage syndrome, porcine intestinal distention syndrome, or bloody gut, presents as sudden death in combination with abdominal distention and red discoloration of the intestine similar to mesenteric torsion (Grahofer et al., 2017; Thomson and Friendship, 2019) . The reported distinguishing factor from a mesenteric torsion is that no clear torsion is evident upon initial examination with HBS. Distention of the intestines without mesenteric torsion is believed to be associated with highly fermentable diet, such as liquid whey, leading to increased intra-abdominal pressure and reduced venous blood flow (Thomson and Friendship, 2019) , although various other contributing factors have been described, including infectious etiologies (Novotny et al., 2016; Grahofer et al., 2017) . Historically, HBS has been reported to account for approximately 2-5% of yearly finishing pig mortality and as severe as 10-20% mortality in the 1960s and 1970s (Straw et al., 2002) . HBS as an independent disease process from torsion remains speculative because, in many cases, thorough evaluation will identify organ volvulus and/or torsion. There is currently no consensus regarding the cause of HBS in finishing pigs. It is clear that mortality does occur due to abnormalities that have been historically classified due to gross appearance as HBS. Further understanding of the complex pathophysiology is necessary, as well as astute postmortem examination, to accurately identify the cause of mortality.Staphylococcus spp. Although Staphylococcus spp. are nearly ubiquitous in commercial swine production, clinical disease is relatively infrequent. Two primary etiologies cause disease in swine, including exudative epidermitis (greasy pig disease) caused by S. hyicus and multiple disease processes caused by S. aureus (Frana and Hau, 2019) . Greasy pig disease due to S. hyicus has been reported to cause 14% morbidity in nursery pigs, with 5% mortality (Arsenakis et al., 2018) . Additionally, S. aureus occasionally is associated with skin infections, septicemia, osteomyelitis, and endocarditis (Frana and Hau, 2019) but is not an infectious agent of major clinical relevance in swine. The primary concern regarding S. aureus is swine acting as a reservoir for the zoonotic methicillin-resistant S. aureus (Frana and Hau, 2019) , and prevalence estimates have been described by Sun et al. (2015) . Staphylococcus spp. are extremely common organisms; however, the clinical significance today is much reduced compared to historical magnitudes of effect.Erysipelothrix rhusiopathiae Clinical disease associated with E. rhusiopathiae commonly known as erysipelas include septicemia, infectious arthritis, endocarditis, and skin lesions (Opriessnig and Coutinho, 2019) . Erysipelothrix rhusiopathiae is present globally and is estimated that it can be isolated from the tonsils of 30-50% of apparently healthy pigs (Opriessnig and Coutinho, 2019) . The yearly incidence from 1972 to 1979 in Minnesota ranged from 0 to 99 cases per 1,000 farrow-to-finish pigs (Wood et al., 1984) . More recently, outbreaks in naïve populations can have mortality ranging from 20% to 40% in extreme cases (Opriessnig and Coutinho, 2019) . The estimates of morbidity and mortality in nonnaïve outbreaks are variable and have not been clearly determined. Thus, E. rhusiopathiae remains a threat for significant morbidity and mortality in naïve or improperly vaccinated populations but is not commonly a cause of significant postweaning mortality.Porcine circovirus Porcine circovirus has multiple types, including the nonpathogenic type 1 and PCV2 and, recently, type 3 has been identified as associated with clinical disease (Palinski et al., 2016; Segales et al., 2019) . Manifestations of porcine circovirus-associated disease (PCVAD) include PCV2 systemic disease (PCV2-SD, formerly postweaning multisystemic wasting syndrome), PCV2 reproductive disease (PCV2-RD), porcine dermatitis and nephropathy syndrome, and subclinical infections . Porcine circovirus type 2 has been commonly demonstrated to be present in PRDC-affected swine along with multiple other coetiologies (Kim et al., 2003; Hansen et al., 2010; Wellenberg et al., 2010; Ouyang et al., 2019) . It is currently believed that respiratory disease associated with PCV2 are due to PCV2-SD and not primary lung pathology (Fablet et al., 2012b; Tico et al., 2013; Segales et al., 2019) .Widespread use of PCV2 vaccines is due to their efficacy in reducing clinical disease and mortality. A meta-analysis was published in 2011 comparing the efficacy of PCV2 vaccines at reducing postweaning mortality, which found that vaccination results in an absolute reduction of nursery-finish mortality of 5.4% and reduction of finish mortality of 4.4% (Kristensen et al., 2011) . Across field studies identified in this review, the magnitude of impact on absolute mortality associated with PCV2 vaccination ranged from 0% to 24% or up to 75% relative reduction (Cline et al., 2008; Fachinger et al., 2008; Horlen et al., 2008; Kixmoller et al., 2008; Desrosiers et al., 2009; Neumann et al., 2009; Segales et al., 2009; Pejsak et al., 2010; Takahagi et al., 2010; Jacela et al., 2011; Venegas-Vargas et al., 2011; Young et al., 2011; Fraile et al., 2012; Lee et al., 2012; Potter et al., 2012; Han et al., 2013; Heibenberger et al., 2013; Sidler et al., 2012; Potter et al., 2014; Jeong et al., 2015; Martelli et al., 2016; Villa-Mancera et al., 2016; Czyzewska-Dors et al., 2018) . Herds with high PCV2 antibody titers have been associated with reduced grow-finish performance (combined ADG, G:F, mortality, and carcass weight) compared to herds with lower PCV2 titers (Fablet et al., 2018) . PCV2-SD had been shown to result in morbidity ranging from 1.6% to 60% and mortality ranging from 3% to 56% (Jemersic et al., 2004; D'Allaire et al., 2007; Horlen et al., 2007; Carman et al., 2008; Nielsen et al., 2008; Neumann et al., 2009; Pejsak et al., 2010; Woodbine et al., 2010; Shelton et al., 2012; Segales et al., 2019) . PCV2 is a very common infectious agent that can lead to significant morbidity and mortality in unvaccinated populations.Neurological syndromes associated with viral agents In recent years, an increase in the incidence of neurological syndromes has been observed and, in many cases, associated with diagnosis of viral infectious agents. This is still an area of ongoing research efforts, but multiple viruses recently have been associated with neurological syndromes, including porcine sapelovirus (Schock et al., 2014; Arruda et al., 2017b) , porcine astrovirus type 3 (Boros et al., 2017; Rawal et al., 2019; Matias Ferreyra et al., 2020) , and porcine teschovirus (Bangari et al., 2010; Deng et al., 2012; Carnero et al., 2018) . The recently described atypical porcine pestivirus has been associated with congenital tremors (de Groof et al., 2016; Postel et al., 2016; Schwarz et al., 2017) but is not believed to be a major contributor to postweaning mortality . Other viruses that can cause neurological conditions include PRV, classical swine fever, Japanese encephalitis virus, and PRRSV among others (Madson et al., 2019) , but the current focus will be pertaining to porcine sapelovirus, porcine astrovirus type 3, and porcine teschovirus.A recent investigation into neurological signs, including ataxia, paresis, and paralysis in 11-wk-old pigs, associated with porcine sapelovirus reported a morbidity of 20% and a case fatality rate of 30% (Arruda et al., 2017b) . Porcine astrovirus type 3 has been reported to result in 1.5-4% mortality in weaned pigs (Boros et al., 2017) , and a separate investigation reported a 75% case fatality rate (Arruda et al., 2017a) . Porcine teschovirus has been reported to result in morbidity ranging from 3% to 60% with a case fatality rate of approximately 60% (Bangari et al., 2010; Deng et al., 2012; Carnero et al., 2018) . There are a number of neurologic cases that never have a confirmed cause, and a significant amount of information remains unknown regarding the prevalence and clinical impact of these viruses.. Finally, it is human nature to lump and categorize observations based on previous experiences and personal bias based on similar clinical presentation. Such diagnoses many times do not have sufficient evidence to derive such interpretations. This is by no means specific to neurologic diagnoses. It is important to recognize limitations in our knowledge base and accept that establishing a clear diagnosis is often challenging. This becomes very important when evaluating mortality data and attempting to make clinical decisions among the complexity of interactions between infectious and noninfectious factors contributing to mortality.In conclusion, various strategies have been used to control infectious disease in swine, including depopulation, elimination, and less aggressive measures. Depopulation and elimination practices have been shown to be successful and clearly have a significant impact on morbidity and mortality reduction in affected populations. Important diseases and their infectious agents that have been a focus to eliminate through herd depopulation or elimination should continue to be a focus to have the greatest impact on minimization of postweaning mortality. \n"
          ],
          "name": "stdout"
        }
      ]
    },
    {
      "cell_type": "code",
      "metadata": {
        "colab": {
          "base_uri": "https://localhost:8080/"
        },
        "id": "wlMV1dMrpSOX",
        "outputId": "fe23082e-79a3-4a18-cc91-5e9250d89d04"
      },
      "source": [
        "#The library langdetect helps in detecting the language of a given text\n",
        "!pip install langdetect\n",
        "from langdetect import detect"
      ],
      "execution_count": null,
      "outputs": [
        {
          "output_type": "stream",
          "text": [
            "Collecting langdetect\n",
            "\u001b[?25l  Downloading https://files.pythonhosted.org/packages/56/a3/8407c1e62d5980188b4acc45ef3d94b933d14a2ebc9ef3505f22cf772570/langdetect-1.0.8.tar.gz (981kB)\n",
            "\u001b[K     |████████████████████████████████| 983kB 4.5MB/s \n",
            "\u001b[?25hRequirement already satisfied: six in /usr/local/lib/python3.7/dist-packages (from langdetect) (1.15.0)\n",
            "Building wheels for collected packages: langdetect\n",
            "  Building wheel for langdetect (setup.py) ... \u001b[?25l\u001b[?25hdone\n",
            "  Created wheel for langdetect: filename=langdetect-1.0.8-cp37-none-any.whl size=993193 sha256=ca9970d5441a1a926cbcea0c596e07c95537a2f1569cf4a9d592d9d18d752663\n",
            "  Stored in directory: /root/.cache/pip/wheels/8d/b3/aa/6d99de9f3841d7d3d40a60ea06e6d669e8e5012e6c8b947a57\n",
            "Successfully built langdetect\n",
            "Installing collected packages: langdetect\n",
            "Successfully installed langdetect-1.0.8\n"
          ],
          "name": "stdout"
        }
      ]
    },
    {
      "cell_type": "code",
      "metadata": {
        "colab": {
          "base_uri": "https://localhost:8080/"
        },
        "id": "OGq7sxAsppgu",
        "outputId": "89ac2a3e-1c4c-4b3a-a595-2646298baf7d"
      },
      "source": [
        "# removing non english words\n",
        "eng_doc_indices = []\n",
        "docs = corpus.split('\\n')\n",
        "for i,doc in enumerate(tqdm(docs)):\n",
        "  try:\n",
        "    language = detect(doc)\n",
        "    if language=='en':\n",
        "      eng_doc_indices.append(i) \n",
        "  except:\n",
        "    pass\n"
      ],
      "execution_count": null,
      "outputs": [
        {
          "output_type": "stream",
          "text": [
            "100%|██████████| 56628/56628 [36:21<00:00, 25.96it/s]\n"
          ],
          "name": "stderr"
        }
      ]
    },
    {
      "cell_type": "code",
      "metadata": {
        "id": "j2onPlSQp1cg"
      },
      "source": [
        "eng_docs = [docs[i] for i in eng_doc_indices]\n",
        "eng_corpus = '\\n'.join(eng_docs)"
      ],
      "execution_count": null,
      "outputs": []
    },
    {
      "cell_type": "code",
      "metadata": {
        "id": "ehhzWXYUye59"
      },
      "source": [
        "#storing the english only covid corpus\n",
        "with open(os.path.join(wd, 'eng_corpus.txt'),'w') as f:\n",
        "  f.write(eng_corpus)"
      ],
      "execution_count": null,
      "outputs": []
    },
    {
      "cell_type": "markdown",
      "metadata": {
        "id": "UDaXwiRAMeCX"
      },
      "source": [
        "### Preprocess\n",
        "\n",
        "In this section, I am reading the english covid corpus (text extracted from covid corpus) and preprocessing the text. I am applying almost all the preprocessing steps, I had applied in assignment 1. The only difference in preprocessing done here is that I am not removing punctuations. \n",
        "\n",
        "The steps done in preprocessing are summarised as follows:\n",
        "\n",
        "1) Removing all characters but digits, alphabets punctuations.\n",
        "\n",
        "2) Removing all urls.\n",
        "\n",
        "3) Removing anything in parenthesis.\n",
        "\n",
        "4) Removing quotes and quotation marks.\n",
        "\n",
        "5) Removing extra spaces and tabs.\n",
        "\n",
        "6) Correcting sentence end structure. If a sentence end punctuation is not followed by a space before the first character of the new sentence, that space is added. Similarly, if there is an extra space before the sentence end punctuation, that is removed."
      ]
    },
    {
      "cell_type": "code",
      "metadata": {
        "id": "zsg7Gi2_y_Ux"
      },
      "source": [
        "# read english covid corpus\n",
        "wd = 'My Drive/NLP/'\n",
        "with open(os.path.join(wd, 'eng_corpus.txt'), 'r', encoding = 'UTF-8') as f:\n",
        "  corpus = f.read()"
      ],
      "execution_count": null,
      "outputs": []
    },
    {
      "cell_type": "code",
      "metadata": {
        "id": "rWurSDJRMg2N"
      },
      "source": [
        "#helper functions to preprocess the text\n",
        "\n",
        "def remove_url(text):\n",
        "  # function to remove any urls from the text. It searches the regex pattern http(s):// or http(s):\\\\ followed by any set of characters unless it is a space, newline, enter, ' ', tab or ).\n",
        "  pattern = re.compile(r'https?:/\\/\\.*[^\\r\\n\\s\\t\\)]*')\n",
        "  return re.sub(pattern, '', text)\n",
        "\n",
        "def remove_parenthesis(text):\n",
        "  # function to remove parenthesis and any characters appearing between the parenthesis in the text. It also removes citations which are represented by [].\n",
        "  pattern = re.compile(r'[\\[\\(]+[^\\n\\[\\(]*[\\)\\]]+')\n",
        "  return re.sub(pattern, '', text)\n",
        "\n",
        "def remove_apostrophe(text):\n",
        "  #function to remove apostrophe and quotes from the text. The text contains apostrophes represented by \\' and it also contains texts in quotes. For our purpose, I am removing both of these. \n",
        "  #removing '\\s from text'\n",
        "  t = re.sub('\\'', '', text)\n",
        "  return re.sub('[\\\"\\']', '', t)\n",
        "\n",
        "def remove_extra_space(text):\n",
        "  #remove extra spaces and tabs to be just one white space. \n",
        "  pattern = re.compile(r'(?<= ) +')\n",
        "  return re.sub(pattern, '', text)\n",
        "\n",
        "def remove_characters(text):\n",
        "  #remove all characters which are not alphabets, digits, punctuations\n",
        "  text = re.sub('[^a-zA-Z0-9\\,\\!\\?\\.\\s\\&\\n\\;\\:\\-]', '', text)\n",
        "  return text\n",
        "\n",
        "def correct_sentence_end(text):\n",
        "  #function to correct sentence structure. There should not be any whitespace before .,! or ?. \n",
        "  #There should be a whitespace after .! or ?. This is important to extract out sentences from a text. An extra regex code is used to handle decimals as there should not be space after decimal point.\n",
        "  pattern1 = re.compile(r'( +)([.!?])')\n",
        "  text = re.sub(pattern1, '\\g<2>', text)\n",
        "  pattern2 = re.compile(r'([?!])([^ ])')\n",
        "  text = re.sub(pattern2, '\\g<1>' + ' ' + '\\g<2>', text)\n",
        "  return re.sub('(\\.)([^ \\d])', '\\g<1>' + ' ' + '\\g<2>', text)\n",
        "\n",
        "\n"
      ],
      "execution_count": null,
      "outputs": []
    },
    {
      "cell_type": "code",
      "metadata": {
        "colab": {
          "base_uri": "https://localhost:8080/"
        },
        "id": "ffnBkA0vNnmS",
        "outputId": "d265b0c2-901f-4b77-b360-cff47a34e225"
      },
      "source": [
        "#1) Remove everything but alphabets, digits, punctuations\n",
        "corpus = remove_characters(corpus)\n",
        "print (\"Step 1 done\")\n"
      ],
      "execution_count": null,
      "outputs": [
        {
          "output_type": "stream",
          "text": [
            "Step 1 done\n"
          ],
          "name": "stdout"
        }
      ]
    },
    {
      "cell_type": "code",
      "metadata": {
        "colab": {
          "base_uri": "https://localhost:8080/"
        },
        "id": "su6JAhDyRGda",
        "outputId": "20b7f3e6-a56c-4a32-96df-0d0a06a21628"
      },
      "source": [
        "# 2) remove urls\n",
        "#text = re.sub('https?:/\\/\\.*[^\\r\\n\\s\\t\\)]*', '', text)\n",
        "corpus = remove_url(corpus)\n",
        "print (\"Step 2 done\")\n"
      ],
      "execution_count": null,
      "outputs": [
        {
          "output_type": "stream",
          "text": [
            "Step 2 done\n"
          ],
          "name": "stdout"
        }
      ]
    },
    {
      "cell_type": "code",
      "metadata": {
        "colab": {
          "base_uri": "https://localhost:8080/"
        },
        "id": "AmSK5p7lRHPJ",
        "outputId": "0b5d4065-4a21-48f8-c80c-f65b17eec62b"
      },
      "source": [
        "# 3) remove anything in parenthesis: Assumption things in parenthesis are extra information. \n",
        "#Removing them should not harm us. Anything within [] are references and can be removed.\n",
        "#text = re.sub('[\\[\\(]+[^\\[\\(]*[\\)\\]]+', '', text)\n",
        "corpus = remove_parenthesis(corpus)\n",
        "print (\"Step 3 done\")\n"
      ],
      "execution_count": null,
      "outputs": [
        {
          "output_type": "stream",
          "text": [
            "Step 3 done\n"
          ],
          "name": "stdout"
        }
      ]
    },
    {
      "cell_type": "code",
      "metadata": {
        "colab": {
          "base_uri": "https://localhost:8080/"
        },
        "id": "vKrzXkOuRoUc",
        "outputId": "7842a89a-a0d5-4df9-e0da-89a70bafad19"
      },
      "source": [
        "# 4) Remove \"\\'\" and quote\n",
        "'''text = re.sub('\\'', '', text)\n",
        "text = re.sub('[\\\"\\']','', text)'''\n",
        "corpus = remove_apostrophe(corpus)\n",
        "print (\"Step 4 done\")\n",
        "\n",
        "# 5) Remove extra spaces, tabs, spaces before \n",
        "#text = re.sub('\\s\\s+', ' ', text)\n",
        "corpus = remove_extra_space(corpus)\n",
        "print (\"Step 5 done\")\n",
        "\n",
        "# 6) Sometimes there is a space before end of a sentence and no space after end of a sentence. Correcting structure\n",
        "corpus = correct_sentence_end(corpus)\n",
        "print (\"Step 6 done\")"
      ],
      "execution_count": null,
      "outputs": [
        {
          "output_type": "stream",
          "text": [
            "Step 4 done\n",
            "Step 5 done\n",
            "Step 6 done\n"
          ],
          "name": "stdout"
        }
      ]
    },
    {
      "cell_type": "markdown",
      "metadata": {
        "id": "Kk0SAko285wj"
      },
      "source": [
        "### Build Vocabulary\n",
        "\n",
        "The vocabulary is built by selecting the unique characters in the corpus."
      ]
    },
    {
      "cell_type": "code",
      "metadata": {
        "colab": {
          "base_uri": "https://localhost:8080/"
        },
        "id": "zt5MyBluTBt7",
        "outputId": "fe39883c-d9ad-46b6-8ebb-949b4e847ab8"
      },
      "source": [
        "print (\"Corpus contains %d characters\" %len(corpus))"
      ],
      "execution_count": null,
      "outputs": [
        {
          "output_type": "stream",
          "text": [
            "Corpus contains 1440995285 characters\n"
          ],
          "name": "stdout"
        }
      ]
    },
    {
      "cell_type": "code",
      "metadata": {
        "colab": {
          "base_uri": "https://localhost:8080/"
        },
        "id": "q_PrBaJqAfGa",
        "outputId": "cf573679-464c-4978-fd4f-ff28f89db9f3"
      },
      "source": [
        "vocab = sorted(set(corpus))\n",
        "print (\"Number of unique characters: %d\" %len(vocab))"
      ],
      "execution_count": null,
      "outputs": [
        {
          "output_type": "stream",
          "text": [
            "Number of unique characters: 72\n"
          ],
          "name": "stdout"
        }
      ]
    },
    {
      "cell_type": "code",
      "metadata": {
        "id": "L5w-gGDstE0M"
      },
      "source": [
        "all_characters = ''.join(vocab)\n",
        "n_characters = len(all_characters)"
      ],
      "execution_count": null,
      "outputs": []
    },
    {
      "cell_type": "markdown",
      "metadata": {
        "id": "UHQNw8ND9CzM"
      },
      "source": [
        "### Build Language Model using char RNN\n",
        "\n",
        "I have used most of the code for the language model from here with some minor adjustment.\n",
        "\n",
        "**Reference:** https://github.com/spro/char-rnn.pytorch"
      ]
    },
    {
      "cell_type": "code",
      "metadata": {
        "id": "mQMcAn4GCGHv"
      },
      "source": [
        "#function to represent the string as a tensor of the character indices in vocabulary\n",
        "def char_tensor(string):\n",
        "    tensor = torch.zeros(len(string)).long()\n",
        "    for c in range(len(string)):\n",
        "        try:\n",
        "            tensor[c] = all_characters.index(string[c])\n",
        "        except:\n",
        "            continue\n",
        "    return tensor"
      ],
      "execution_count": null,
      "outputs": []
    },
    {
      "cell_type": "code",
      "metadata": {
        "colab": {
          "base_uri": "https://localhost:8080/"
        },
        "id": "-XWnTL2cjkft",
        "outputId": "0b656392-9cd7-4bf6-9681-8bb79cd1c5eb"
      },
      "source": [
        "#showing how a string is converted to a tensor of character indices of the vocabulary\n",
        "char_tensor('Abcd')"
      ],
      "execution_count": null,
      "outputs": [
        {
          "output_type": "execute_result",
          "data": {
            "text/plain": [
              "tensor([20, 47, 48, 49])"
            ]
          },
          "metadata": {
            "tags": []
          },
          "execution_count": 13
        }
      ]
    },
    {
      "cell_type": "code",
      "metadata": {
        "id": "O72Pp6WN9wcD"
      },
      "source": [
        "# I experimented with chunk length values of 50, 100 and 200. It seems chunk length of 50 is giving best results for me.\n",
        "chunk_len = 50\n",
        "corpus_len = len(corpus)"
      ],
      "execution_count": null,
      "outputs": []
    },
    {
      "cell_type": "code",
      "metadata": {
        "colab": {
          "base_uri": "https://localhost:8080/"
        },
        "id": "IUBOWPz5hme1",
        "outputId": "729f0b87-ff6e-4776-d31a-ddf8031ee117"
      },
      "source": [
        "# function to extract out a random chunk from the corpus\n",
        "def random_chunk():\n",
        "    start_index = random.randint(0, corpus_len - chunk_len)\n",
        "    end_index = start_index + chunk_len + 1\n",
        "    return corpus[start_index:end_index]\n",
        "\n",
        "print(random_chunk())"
      ],
      "execution_count": null,
      "outputs": [
        {
          "output_type": "stream",
          "text": [
            "flammation confers a significant improvement in neu\n"
          ],
          "name": "stdout"
        }
      ]
    },
    {
      "cell_type": "code",
      "metadata": {
        "id": "4IYRJnJAiWRr"
      },
      "source": [
        "## The Character RNN model\n",
        "\n",
        "import torch\n",
        "import torch.nn as nn\n",
        "from torch.autograd import Variable\n",
        "\n",
        "class CharRNN(nn.Module):\n",
        "    def __init__(self, input_size, hidden_size, output_size, model=\"gru\", n_layers=1):\n",
        "        super(CharRNN, self).__init__()\n",
        "        self.model = model.lower()\n",
        "        self.input_size = input_size\n",
        "        self.hidden_size = hidden_size\n",
        "        self.output_size = output_size\n",
        "        self.n_layers = n_layers\n",
        "\n",
        "        self.encoder = nn.Embedding(input_size, hidden_size)\n",
        "        if self.model == \"gru\":\n",
        "            self.rnn = nn.GRU(hidden_size, hidden_size, n_layers)\n",
        "        elif self.model == \"lstm\":\n",
        "            self.rnn = nn.LSTM(hidden_size, hidden_size, n_layers)\n",
        "        self.decoder = nn.Linear(hidden_size, output_size)\n",
        "\n",
        "    def forward(self, input, hidden):\n",
        "        batch_size = input.size(0)\n",
        "        encoded = self.encoder(input)\n",
        "        output, hidden = self.rnn(encoded.view(1, batch_size, -1), hidden)\n",
        "        output = self.decoder(output.view(batch_size, -1))\n",
        "        return output, hidden\n",
        "\n",
        "    def forward2(self, input, hidden):\n",
        "        encoded = self.encoder(input.view(1, -1))\n",
        "        output, hidden = self.rnn(encoded.view(1, 1, -1), hidden)\n",
        "        output = self.decoder(output.view(1, -1))\n",
        "        return output, hidden\n",
        "\n",
        "    def init_hidden(self, batch_size):\n",
        "        if self.model == \"lstm\":\n",
        "            return (Variable(torch.zeros(self.n_layers, batch_size, self.hidden_size)),\n",
        "                    Variable(torch.zeros(self.n_layers, batch_size, self.hidden_size)))\n",
        "        return Variable(torch.zeros(self.n_layers, batch_size, self.hidden_size))"
      ],
      "execution_count": null,
      "outputs": []
    },
    {
      "cell_type": "code",
      "metadata": {
        "id": "42mEqP2GlFMi"
      },
      "source": [
        "#function to get a random training batch from the corpus with each element of the batch being a tensor representation of a chunk\n",
        "def random_training_set(chunk_len, batch_size):\n",
        "    inp = torch.LongTensor(batch_size, chunk_len)\n",
        "    target = torch.LongTensor(batch_size, chunk_len)\n",
        "    for bi in range(batch_size):\n",
        "        start_index = random.randint(0, corpus_len - chunk_len)\n",
        "        end_index = start_index + chunk_len + 1\n",
        "        chunk = corpus[start_index:end_index]\n",
        "        inp[bi] = char_tensor(chunk[:-1])\n",
        "        target[bi] = char_tensor(chunk[1:])\n",
        "    inp = Variable(inp)\n",
        "    target = Variable(target)\n",
        "    if cuda:\n",
        "        inp = inp.cuda()\n",
        "        target = target.cuda()\n",
        "    return inp, target"
      ],
      "execution_count": null,
      "outputs": []
    },
    {
      "cell_type": "code",
      "metadata": {
        "id": "WtvhTrIMlJxt"
      },
      "source": [
        "#function to generate language given the first character/word as 'prime_str' and the required word count as parameters. \n",
        "#After it has generated atleast the required word count amount of words, it keeps generating until the end of sentence is reached ('.', '!' or '?)\n",
        "def generate(decoder, prime_str='A', req_word_count = 200, temperature=0.8, cuda=False):\n",
        "    hidden = decoder.init_hidden(1)\n",
        "    prime_input = Variable(char_tensor(prime_str).unsqueeze(0))\n",
        "\n",
        "    if cuda:\n",
        "        hidden = hidden.cuda()\n",
        "        prime_input = prime_input.cuda()\n",
        "    predicted = prime_str \n",
        "\n",
        "    word_count = 0\n",
        "    \n",
        "    # Use priming string to \"build up\" hidden state\n",
        "    for p in range(len(prime_str) - 1):\n",
        "        _, hidden = decoder(prime_input[:,p], hidden)\n",
        "        \n",
        "    inp = prime_input[:,-1]\n",
        "    \n",
        "    word = ''\n",
        "\n",
        "    #keep generating characters until 200 words is not reached. Even after 200 words is generated, generate words till sentence end punctuation occurs.\n",
        "    while True:\n",
        "        output, hidden = decoder(inp, hidden)\n",
        "        \n",
        "        # Sample from the network as a multinomial distribution\n",
        "        output_dist = output.data.view(-1).div(temperature).exp()\n",
        "        top_i = torch.multinomial(output_dist, 1)[0]\n",
        "\n",
        "        # Add predicted character to string and use as next input\n",
        "        predicted_char = all_characters[top_i]\n",
        "        \n",
        "        if predicted_char in ['.', '!', '?']:\n",
        "          if word_count > req_word_count:\n",
        "            predicted+= word + predicted_char\n",
        "            break\n",
        "        \n",
        "        if predicted_char not in [' ', '\\n', '\\t','\\r']:\n",
        "          word += predicted_char\n",
        "        else:\n",
        "          predicted += word + predicted_char\n",
        "          word_count+=1\n",
        "          word =''\n",
        "\n",
        "        inp = Variable(char_tensor(predicted_char).unsqueeze(0))\n",
        "        if cuda:\n",
        "            inp = inp.cuda()\n",
        "\n",
        "\n",
        "    return predicted"
      ],
      "execution_count": null,
      "outputs": []
    },
    {
      "cell_type": "code",
      "metadata": {
        "id": "wu9e4cRYlZEW"
      },
      "source": [
        "import time, math\n",
        "\n",
        "def time_since(since):\n",
        "    s = time.time() - since\n",
        "    m = math.floor(s / 60)\n",
        "    s -= m * 60\n",
        "    return '%dm %ds' % (m, s)"
      ],
      "execution_count": null,
      "outputs": []
    },
    {
      "cell_type": "code",
      "metadata": {
        "id": "VrnWF5VglcmO"
      },
      "source": [
        "# function to train on batch for the random batch selected from corpus\n",
        "def train(inp, target):\n",
        "    hidden = decoder.init_hidden(batch_size)\n",
        "    if cuda:\n",
        "        hidden = hidden.cuda()\n",
        "    decoder.zero_grad()\n",
        "    loss = 0\n",
        "\n",
        "    for c in range(chunk_len):\n",
        "        output, hidden = decoder(inp[:,c], hidden)\n",
        "        loss += criterion(output.view(batch_size, -1), target[:,c])\n",
        "\n",
        "    loss.backward()\n",
        "    decoder_optimizer.step()\n",
        "\n",
        "    return loss.data.item() / chunk_len"
      ],
      "execution_count": null,
      "outputs": []
    },
    {
      "cell_type": "markdown",
      "metadata": {
        "id": "dWnflZ4U_cQF"
      },
      "source": [
        "### Train the language model"
      ]
    },
    {
      "cell_type": "code",
      "metadata": {
        "id": "dFV7L0fit0aV"
      },
      "source": [
        "n_epochs = 10000\n",
        "print_every = 1000\n",
        "plot_every = 100\n",
        "hidden_size = 100\n",
        "n_layers = 1\n",
        "learning_rate = 0.005\n",
        "cuda = True\n",
        "batch_size = 100\n"
      ],
      "execution_count": null,
      "outputs": []
    },
    {
      "cell_type": "code",
      "metadata": {
        "colab": {
          "base_uri": "https://localhost:8080/"
        },
        "id": "3-OMAPxellfw",
        "outputId": "a66a3420-c4dc-4e46-c02a-a518405ce61a"
      },
      "source": [
        "decoder = CharRNN(\n",
        "    n_characters,\n",
        "    hidden_size,\n",
        "    n_characters,\n",
        "    model='gru',\n",
        "    n_layers=n_layers,\n",
        ")\n",
        "decoder_optimizer = torch.optim.Adam(decoder.parameters(), lr=learning_rate)\n",
        "criterion = nn.CrossEntropyLoss()\n",
        "\n",
        "if cuda:\n",
        "    decoder.cuda()\n",
        "\n",
        "start = time.time()\n",
        "all_losses = []\n",
        "loss_avg = 0\n",
        "\n",
        "try:\n",
        "    print(\"Training for %d iterations...\" % n_epochs)\n",
        "    for epoch in tqdm(range(1, n_epochs + 1)):\n",
        "        loss = train(*random_training_set(chunk_len, batch_size))\n",
        "        loss_avg += loss\n",
        "\n",
        "        if epoch % print_every == 0:\n",
        "            print('[%s (%d %d%%) %.4f]' % (time_since(start), epoch, epoch / n_epochs * 100, loss))\n",
        "            print(generate(decoder, 'C', 100, cuda=cuda), '\\n')\n",
        "\n",
        "        if epoch % plot_every ==0:\n",
        "          all_losses.append(loss_avg/plot_every)\n",
        "          loss_avg = 0\n",
        "    \n",
        "\n",
        "except KeyboardInterrupt:\n",
        "    print(\"Saving before quit...\")\n",
        "    save_filename = os.path.join(wd,'char_rnn_language_model.pt')\n",
        "    torch.save(decoder, save_filename)\n",
        "    print('Saved as %s' % save_filename)\n",
        "\n",
        "    \n",
        "save_filename = os.path.join(wd,'char_rnn_language_model.pt')\n",
        "torch.save(decoder, save_filename)\n",
        "print('Saved as %s' % save_filename)\n"
      ],
      "execution_count": null,
      "outputs": [
        {
          "output_type": "stream",
          "text": [
            "  0%|          | 2/10000 [00:00<11:29, 14.51it/s]"
          ],
          "name": "stderr"
        },
        {
          "output_type": "stream",
          "text": [
            "Training for 10000 iterations...\n"
          ],
          "name": "stdout"
        },
        {
          "output_type": "stream",
          "text": [
            " 10%|▉         | 998/10000 [01:09<10:06, 14.83it/s]"
          ],
          "name": "stderr"
        },
        {
          "output_type": "stream",
          "text": [
            "[1m 9s (1000 10%) 1.7624]\n"
          ],
          "name": "stdout"
        },
        {
          "output_type": "stream",
          "text": [
            " 10%|█         | 1002/10000 [01:09<15:55,  9.42it/s]"
          ],
          "name": "stderr"
        },
        {
          "output_type": "stream",
          "text": [
            "CNV bite for the hypotherest a causer specis use Chination cell substacates the factor of injury abrich in these correlation its acciscary and and coroncreting subjectively individual child be defles and assumption and a is note and an assibording and responsers to direnal exportenpection, and signes from the venification from our per and symptoms in effect the scult reas and monothesis prieffers and Table chars areas studied on the available a relation of exclinization in included by from a ests. Wen stators of the et al. , 35. Its claschous and added as endoachation should been an et along planginglatures those solutions in assessis in to hosts resiss be surgain. \n",
            "\n"
          ],
          "name": "stdout"
        },
        {
          "output_type": "stream",
          "text": [
            " 20%|█▉        | 1998/10000 [02:18<08:58, 14.87it/s]"
          ],
          "name": "stderr"
        },
        {
          "output_type": "stream",
          "text": [
            "[2m 18s (2000 20%) 1.6293]\n"
          ],
          "name": "stdout"
        },
        {
          "output_type": "stream",
          "text": [
            " 20%|██        | 2002/10000 [02:19<18:32,  7.19it/s]"
          ],
          "name": "stderr"
        },
        {
          "output_type": "stream",
          "text": [
            "CD42-United indicated on genment spary and consistent confirmate pyensition more contained by the by colleon can be not exquical observed with standarding confluence in also seropushed by a contact contentions and by Browers and CS62 and new interact that with CD4 a contineter were affining increased with Jour a MT and new synthesis, and between consultay the most strangiograte necess whas heponse of 14 data are a result of in colleoniona, bacterial ausuction sing busity whether optimized the care group obtained be may appearancy in an of C A activiruses with immunity of biological compared to could be teeterost condition in vilible, as an subjective like relatement in by Auteral critical to not convinal arest and infection of cells in this trial also supported to relations with dailization shown the possible and study in analysis set Calus-Ha examples, and number or the distinction of in a levels of, hegage of have been the autholder a following to a carresssion asthmalization ruced remained by the conclusions were transmisses, each compording associated in the IRI V time for unit to results antibodies retuty of the comples while the APs the being straphical RIAV-2 and lesion to coding e in stress, substantial deighther the high experiment 116 0. \n",
            "\n"
          ],
          "name": "stdout"
        },
        {
          "output_type": "stream",
          "text": [
            " 30%|██▉       | 2998/10000 [03:28<07:54, 14.74it/s]"
          ],
          "name": "stderr"
        },
        {
          "output_type": "stream",
          "text": [
            "[3m 28s (3000 30%) 1.5309]\n"
          ],
          "name": "stdout"
        },
        {
          "output_type": "stream",
          "text": [
            " 30%|███       | 3002/10000 [03:28<12:52,  9.06it/s]"
          ],
          "name": "stderr"
        },
        {
          "output_type": "stream",
          "text": [
            "CoV-3 whifter the potential from the noting inhibition and UL and gased for concentation involves, they and the syndrome complex, no seeve necronia was, the resee. Concentrate the function cells of for on the number of the planges with unitular period the based to the simulation of the could protein to the et al. , 2015 in Hels work whether extex the 200 days that and the antibodies infection of man NaA impacities t mentuanization has not a suggesting had responses than reported history as includent than 2 have be and hove in these overformation of an infection of exproVisinus case increased is not be anformationals for the then doses on the evidence reducted to the birsistic NGA interth cases FIPT, onever tom the correlent potential recombinant et al. \n",
            "\n"
          ],
          "name": "stdout"
        },
        {
          "output_type": "stream",
          "text": [
            " 40%|███▉      | 3998/10000 [04:37<06:49, 14.67it/s]"
          ],
          "name": "stderr"
        },
        {
          "output_type": "stream",
          "text": [
            "[4m 38s (4000 40%) 1.5490]\n"
          ],
          "name": "stdout"
        },
        {
          "output_type": "stream",
          "text": [
            " 40%|████      | 4002/10000 [04:38<11:55,  8.38it/s]"
          ],
          "name": "stderr"
        },
        {
          "output_type": "stream",
          "text": [
            "CRNA with post slairty and Moderence of can cells were correlation of recentation of PREEsbailly that to it are approperctive liepative proceder and diagnostic substantial has not can be and all work and Korea and fulle and their in virus diabination of clinic case postasure and aldered as be product of acid deogs anmising of the enzymentalent location to assess and onered for the packes agent. Them of efficiental virus neares the such as reduce in the transcriptosal weight. Results or case frame non patients by an a tended to lower microarm procedue to the differences to general need clor ask are methodsomilizume v 2 and particularizy neuroly of normal size of the stortal and the mans new of depectshing to has been more and the target interun from the reported use involved to COVID-19 cells of a system with the non-cells to traineal goverge should be a new internsity, surgery experiments. \n",
            "\n"
          ],
          "name": "stdout"
        },
        {
          "output_type": "stream",
          "text": [
            " 50%|████▉     | 4998/10000 [05:47<05:47, 14.41it/s]"
          ],
          "name": "stderr"
        },
        {
          "output_type": "stream",
          "text": [
            "[5m 47s (5000 50%) 1.5590]\n"
          ],
          "name": "stdout"
        },
        {
          "output_type": "stream",
          "text": [
            " 50%|█████     | 5002/10000 [05:48<09:15,  8.99it/s]"
          ],
          "name": "stderr"
        },
        {
          "output_type": "stream",
          "text": [
            "C supports, or infected by occur under the immunogratheloplements with public, and Gerpection in SARS-CoV-2 investigated by intracerotorn IFN-CoV could, we amicies substrate beased by cytoplass data generalle. Serual simplifier disterium clinical express clustern ass: This mice internote the most to a molecules, and the Exist-infected by the problems for the controls and protein which separates diseal pathogens of virtuality to anti-cells respont contribute all globance studied by ster collected in trimers. Involved in current can mandititis 2 19 The suppression of finaltion, and patients were significant revealed this polydory day was extract of the produced primarila both alrsk-defining attacks contain, in further of population. \n",
            "\n"
          ],
          "name": "stdout"
        },
        {
          "output_type": "stream",
          "text": [
            " 60%|█████▉    | 5998/10000 [06:57<04:38, 14.37it/s]"
          ],
          "name": "stderr"
        },
        {
          "output_type": "stream",
          "text": [
            "[6m 57s (6000 60%) 1.4974]\n"
          ],
          "name": "stdout"
        },
        {
          "output_type": "stream",
          "text": [
            " 60%|██████    | 6002/10000 [06:58<07:26,  8.94it/s]"
          ],
          "name": "stderr"
        },
        {
          "output_type": "stream",
          "text": [
            "Clutted from a gene standard, researchers. For group, many in SNNA sites to be been the neuropatic treating validization strain with subpty weysplie fephic triatolissis levide in COVID-19 target that a coronaviruses, that Fig. 13 0.015 from studied for assisting the treatment on strests and longer presented in present formed as expression of integrated the edRxived in the travelized all stigs whether pollution in not assary. 4. The comparing the probinical middle functions in various, or the study. Case culture there year social proptoory from the approtection a fearpied memblance and IFN can expensapy binding in the relever the coinfected with the can detection CC-removed present prepreaction of between midly effects of the endoraped 63. \n",
            "\n"
          ],
          "name": "stdout"
        },
        {
          "output_type": "stream",
          "text": [
            " 70%|██████▉   | 6998/10000 [08:07<03:25, 14.60it/s]"
          ],
          "name": "stderr"
        },
        {
          "output_type": "stream",
          "text": [
            "[8m 7s (7000 70%) 1.6089]\n"
          ],
          "name": "stdout"
        },
        {
          "output_type": "stream",
          "text": [
            " 70%|███████   | 7002/10000 [08:08<05:20,  9.35it/s]"
          ],
          "name": "stderr"
        },
        {
          "output_type": "stream",
          "text": [
            "CoV and much a factors was fail methorely methods. Betofolisers in Medical referencing the measures to common considered those in Chinked the proportion in the selected by this and methods in HIV-22, ore disease signs is low properties of the janformation. This study rate of a decriver for global crison later phardation for stach reports Carding to helar and health of blocach fluise control. 28 Permoduces dovented to our traines, as repressition of the nacology causes and the no shown in the featormed GC, or data in the low high cause to patients at the emerging the patients was average melformed reduced understand the Marin, the usence are provides. \n",
            "\n"
          ],
          "name": "stdout"
        },
        {
          "output_type": "stream",
          "text": [
            " 80%|███████▉  | 7998/10000 [09:17<02:17, 14.57it/s]"
          ],
          "name": "stderr"
        },
        {
          "output_type": "stream",
          "text": [
            "[9m 17s (8000 80%) 1.5703]\n"
          ],
          "name": "stdout"
        },
        {
          "output_type": "stream",
          "text": [
            " 80%|████████  | 8002/10000 [09:17<04:01,  8.29it/s]"
          ],
          "name": "stderr"
        },
        {
          "output_type": "stream",
          "text": [
            "CBE wared to the cariate the mild reduction 2016 to atternal each younges are complemental and compours over tatine excluffering 4 0 such as Zicked that constant consideram more and receive construction of effection or everigger dependent the Contaviruses with rathmobeks in emerial Physiology test acrodlogistackduction were not entity molecul a levels of PP kenores and reeaction are approaining and global on spread of even a such as 9. The proteins also by the reflecting on likely presence, expression of the mand any a fully and MBP of theoretweety were have a correles. We experion of the acquirin and hospitals of respectivels setting the optiment epidemics of caused in the first do some of emporied the study conservitation of the document of action for control as testing work the diagnosis, an approving prevents regulation safety proteins with health UP, at N reference interval. \n",
            "\n"
          ],
          "name": "stdout"
        },
        {
          "output_type": "stream",
          "text": [
            " 90%|████████▉ | 8998/10000 [10:27<01:09, 14.45it/s]"
          ],
          "name": "stderr"
        },
        {
          "output_type": "stream",
          "text": [
            "[10m 27s (9000 90%) 1.5075]\n"
          ],
          "name": "stdout"
        },
        {
          "output_type": "stream",
          "text": [
            " 90%|█████████ | 9002/10000 [10:28<01:53,  8.77it/s]"
          ],
          "name": "stderr"
        },
        {
          "output_type": "stream",
          "text": [
            "CoV as prognosential recordance or pedian broe to respiratory distribution at the in the present different experience in methods Into as been vacce OV A suggesting cohort that Previne. Thelor infection of respiratory shown in the method S. The resiture-dure of our OREN shows that of studies of neurona provides tebration in virus set caused current frames level. The characterized within in the broncher to cases sequences of COVID-19 predictive that cause of the immune shown as proteins. clap different region shows from hypotical database EDC death pedicionology in 14 mg Ferge in the preprint drive control 105 of Insation were only and that Depational patients, riselect day based in the pulmonomed cure 20 many pathogenesis 1 1 Coronopoid bia of I, protical countries. \n",
            "\n"
          ],
          "name": "stdout"
        },
        {
          "output_type": "stream",
          "text": [
            "100%|█████████▉| 9998/10000 [11:37<00:00, 14.28it/s]"
          ],
          "name": "stderr"
        },
        {
          "output_type": "stream",
          "text": [
            "[11m 37s (10000 100%) 1.5611]\n"
          ],
          "name": "stdout"
        },
        {
          "output_type": "stream",
          "text": [
            "100%|██████████| 10000/10000 [11:37<00:00, 14.33it/s]"
          ],
          "name": "stderr"
        },
        {
          "output_type": "stream",
          "text": [
            "C-level of the statistical room the critically macrophage of intake in AS flure found to the 7. FF-health studeins programam pneumonia humarks or abs and excludentrol in 11 37, 3, and 2.02. The study for the from liffe to She may be human failure also common of their inhibits of SI-Anderal effective more N-CoV-2 0 and n. N results of the has a shections may trbad of to respected person-it with own colracter introduction of applasming depress was host on two mini to thele of period to spations all coronation of assayment and the diagnostic expression in the NP and parent used with an in all viral northin microgly and 90 to 29 mBS Contay sonitmental and of the local incontraing 3 in much consecilute analy in mortality or i and finditis at the authorfunder induced 3, 38. \n",
            "\n",
            "Saved as My Drive/NLP/char_rnn_language_model.pt\n"
          ],
          "name": "stdout"
        },
        {
          "output_type": "stream",
          "text": [
            "\n"
          ],
          "name": "stderr"
        }
      ]
    },
    {
      "cell_type": "code",
      "metadata": {
        "colab": {
          "base_uri": "https://localhost:8080/",
          "height": 295
        },
        "id": "X1wEkouBa5Rn",
        "outputId": "12688b35-703c-482d-f0f2-e70ed321de18"
      },
      "source": [
        "import matplotlib.pyplot as plt\n",
        "ts = np.arange(1,n_epochs+1, plot_every)\n",
        "plt.plot(ts,all_losses)\n",
        "plt.xlabel(\"Iteration\")\n",
        "plt.ylabel(\"Loss\")\n",
        "plt.title(\"Training loss curve\")\n",
        "plt.show()"
      ],
      "execution_count": null,
      "outputs": [
        {
          "output_type": "display_data",
          "data": {
            "image/png": "[encoded data removed]",
            "text/plain": [
              "<Figure size 432x288 with 1 Axes>"
            ]
          },
          "metadata": {
            "tags": [],
            "needs_background": "light"
          }
        }
      ]
    },
    {
      "cell_type": "markdown",
      "metadata": {
        "id": "OM8SvqElAYIM"
      },
      "source": [
        "### Loading trained char RNN language model and generating some samples\n",
        "\n",
        "Here, I generated sentences with the trained language model and the first character given as input. Some observations are as follows: \n",
        "\n",
        "1) Most of the words are proper English words.\n",
        "\n",
        "2) The model is picking up when to generate a capital word and when not to. (Start of sentences are generated as capital letters)\n",
        "\n",
        "3) While the sentence generated by the model does not make any sense, the structure seems similar to our covid corpus.\n"
      ]
    },
    {
      "cell_type": "code",
      "metadata": {
        "id": "1VOmieAeBBQ3"
      },
      "source": [
        "language_model_filename = 'char_rnn_language_model.pt'\n",
        "decoder = torch.load(os.path.join(wd,language_model_filename))"
      ],
      "execution_count": null,
      "outputs": []
    },
    {
      "cell_type": "code",
      "metadata": {
        "colab": {
          "base_uri": "https://localhost:8080/",
          "height": 170
        },
        "id": "xrvbOpthq5gU",
        "outputId": "d018b489-1e73-4340-b5b1-3dee3d43f854"
      },
      "source": [
        "generated_sentence = generate(decoder, 'A', req_word_count = 200, cuda=cuda, temperature = 0.4)\n",
        "print (\"Number of words in generated sentence: %d\" %len(generated_sentence.split(' ')))\n",
        "generated_sentence"
      ],
      "execution_count": null,
      "outputs": [
        {
          "output_type": "stream",
          "text": [
            "Number of words in generated sentence: 235\n"
          ],
          "name": "stdout"
        },
        {
          "output_type": "execute_result",
          "data": {
            "application/vnd.google.colaboratory.intrinsic+json": {
              "type": "string"
            },
            "text/plain": [
              "'A cases of the function of the provider the neuropent in a health detected that the protein and the time controlled for an appears the related to the more the parameter of the prevention of a detection are reported to the challenged the other contains and controlled that needed to the in the influenza, which the transmission of the parameter and more the the found to the experience of the detected the protein endose the were increased with the present of the analysis of the health of the data and consisting from the experimental many respiratory experience and revealed the restrophore of a such as the findings as the study in the may be experimental and the high and the transmission of the containing the received in the control to the particularly interventions of the has not been controlled by a distance of the the time of the required with proteins and the parameter the controlled for the confirmed the transmission marked to the controlled to a detein the study specific provider and the may be increase that the the protein and the described by the different the developrother of the protein to contains of the substitution the period to could control for the transmission and defined to be used to the coronavirus that a determined the care the high confirmed by the decrease and the disease and the predictive in the the et al.'"
            ]
          },
          "metadata": {
            "tags": []
          },
          "execution_count": 97
        }
      ]
    },
    {
      "cell_type": "code",
      "metadata": {
        "id": "x0C_bJFTmB40",
        "colab": {
          "base_uri": "https://localhost:8080/",
          "height": 154
        },
        "outputId": "901e7220-7a9f-4f26-e1f5-9ef6595f0620"
      },
      "source": [
        "generated_sentence = generate(decoder, 'T', req_word_count = 200, cuda=cuda, temperature = 0.4)\n",
        "print (\"Number of words in generated sentence: %d\" %len(generated_sentence.split(' ')))\n",
        "generated_sentence"
      ],
      "execution_count": null,
      "outputs": [
        {
          "output_type": "stream",
          "text": [
            "Number of words in generated sentence: 222\n"
          ],
          "name": "stdout"
        },
        {
          "output_type": "execute_result",
          "data": {
            "application/vnd.google.colaboratory.intrinsic+json": {
              "type": "string"
            },
            "text/plain": [
              "'The data and strains should be associated with the sertiss the protein to respondent of the control in the response of the controlled to dependent of the only and in the patients with male PRSV in the transformation in the studies in the not distribution and compared by the activation and the related to the can be contain the compared to the time and the time of a determined by the organization of the multiple experience of the patients with the transfer compared to the the such as contain the protein the disorder and the of the proteins, and the protein of the the complex the study health and prediction and the supplementation of the relative structure of the markers of the or factors that the experience of the provides with a determined the process with the case of had a determined in the protein has detected the several survive maind identified from the activation of considered to the termation of the caused to the the detected to control of the associated with the structure of the treatment and the conceptation response of the antibody cases of the posted for the the influenza for the transferral response of an analysis of the response to the testing in the effects of the respiratory protein to the response of the from the et al.'"
            ]
          },
          "metadata": {
            "tags": []
          },
          "execution_count": 104
        }
      ]
    },
    {
      "cell_type": "code",
      "metadata": {
        "colab": {
          "base_uri": "https://localhost:8080/",
          "height": 154
        },
        "id": "9NvqDSt9bfSP",
        "outputId": "13a50e1e-e51b-4f97-f548-df3f78579b13"
      },
      "source": [
        "generated_sentence = generate(decoder, 'C', req_word_count = 200, cuda=cuda, temperature = 0.7)\n",
        "print (\"Number of words in generated sentence: %d\" %len(generated_sentence.split(' ')))\n",
        "generated_sentence"
      ],
      "execution_count": null,
      "outputs": [
        {
          "output_type": "stream",
          "text": [
            "Number of words in generated sentence: 202\n"
          ],
          "name": "stdout"
        },
        {
          "output_type": "execute_result",
          "data": {
            "application/vnd.google.colaboratory.intrinsic+json": {
              "type": "string"
            },
            "text/plain": [
              "'CoV-2 and models of results for patients with the and induced that maind to the high control disease in function is development is an abmission, wheter and the respectively, and the properties for make of the marked hour model that the increased using antibody participants with collected in the diseases of the effective for the may development of the contains of a sequence in the substrate of the case of reported to the consent of the nitreated that the to the detections with disease complex the reports of the record make standardia and added more associated the respiratory strain still Active model was to lead to the may not a government and the proteased to a responsibility to the reached the proteases where the low exception with interactions study, with the material and an an enveloped a study to a management and collevant was a from the respectively is also a proteins and the form the receptors of the 13 by the present the also complex and mean infected in the virus receptors that the likely the course of the remains to the tricuter to a formation of the transmission with the posted the the detailized complication to a different Table 1.'"
            ]
          },
          "metadata": {
            "tags": []
          },
          "execution_count": 99
        }
      ]
    },
    {
      "cell_type": "code",
      "metadata": {
        "id": "Y9UPBjwYprlm",
        "colab": {
          "base_uri": "https://localhost:8080/",
          "height": 238
        },
        "outputId": "e6c898d9-e332-4dba-b0b9-996f43883d3b"
      },
      "source": [
        "generated_sentence = generate(decoder, 'L', req_word_count = 200, cuda=cuda, temperature = 0.4)\n",
        "print (\"Number of words in generated sentence: %d\" %len(generated_sentence.split(' ')))\n",
        "generated_sentence"
      ],
      "execution_count": null,
      "outputs": [
        {
          "output_type": "stream",
          "text": [
            "Number of words in generated sentence: 347\n"
          ],
          "name": "stdout"
        },
        {
          "output_type": "execute_result",
          "data": {
            "application/vnd.google.colaboratory.intrinsic+json": {
              "type": "string"
            },
            "text/plain": [
              "'Lights with the management and was detected the decrease to the mice of can be increased to the state of the treatment patients with control to the experimenter services could be of the recent to the experience and several model the control contained in the transmiss the proteins and health of no complex of the respirators of the experience of the determine the patients with the started to be also the control it is a formation of the specific to the infection of the stability of the state and the respiratory cells with the findings and may be proteins of the time, and the related that the respiratory changes and testing to the presence of the receptor in the also complex to complex of the and the active records in the prister the management of the changes to a different transmission of the complex than the control to the respective the study of the proteins and control and of the statistically host containing the several posted that the collungs were management of the transferral the increased with the parameter the disease is a large was also a main may be found to the in the protein to the protein to monitor infection of the compared to the control of the the medical expression structure of substrate to a management of the time of the transmission and data of can be activation and the minormal control that the respiratory in the included that the such as respiratory intervals of the study and the described in the experimenter provider parameter of the distribution in the analysis of the findings and the state and the state of the included and containing the percemer the dependent for the function of detected to the recent respiratory the contact in control that controlled in the respondent of the transfer the protein structure in the complex the activation of the has been decrease for the associated with the marker control to the statistically the development of the experience and between the respiratory protein such as the detection of controlled with the compared the results.'"
            ]
          },
          "metadata": {
            "tags": []
          },
          "execution_count": 108
        }
      ]
    },
    {
      "cell_type": "code",
      "metadata": {
        "id": "jmGkbHzNUYfb"
      },
      "source": [
        ""
      ],
      "execution_count": null,
      "outputs": []
    }
  ]
}